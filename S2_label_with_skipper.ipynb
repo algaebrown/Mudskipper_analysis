{
 "cells": [
  {
   "cell_type": "code",
   "execution_count": 1,
   "id": "f6e50a88",
   "metadata": {
    "tags": []
   },
   "outputs": [],
   "source": [
    "from pathlib import Path\n",
    "from pybedtools import BedTool\n",
    "import pandas as pd\n"
   ]
  },
  {
   "cell_type": "code",
   "execution_count": 6,
   "id": "9778a71d",
   "metadata": {
    "tags": []
   },
   "outputs": [],
   "source": [
    "old_output_dir = Path('/projects/ps-yeolab3/eboyle/encode/pipeline/05_20220720/20220728_encode3/k562/output/reproducible_enriched_windows/')\n",
    "def get_reproducible_peaks(rbp, pval_cutoff = 3, fc_cutoff = 3):\n",
    "    \n",
    "    \n",
    "    reproducible = BedTool(old_output_dir / f'{rbp}_K562.reproducible_enriched_windows.tsv.gz')\n",
    "    return reproducible"
   ]
  },
  {
   "cell_type": "code",
   "execution_count": 17,
   "id": "4354616b",
   "metadata": {
    "tags": []
   },
   "outputs": [],
   "source": [
    "ddx3 = pd.read_csv(get_reproducible_peaks('DDX3X').fn, sep = '\\t')\n",
    "ddx3['RBP']='DDX3'\n",
    "prpf8 = pd.read_csv(get_reproducible_peaks('PRPF8').fn, sep = '\\t')\n",
    "prpf8['RBP']='PRPF8'\n",
    "fam120 = pd.read_csv(get_reproducible_peaks('FAM120A').fn, sep = '\\t')\n",
    "fam120['RBP']='FAM120A'"
   ]
  },
  {
   "cell_type": "code",
   "execution_count": 18,
   "id": "8bdf5ee2-ec97-40a2-a8c5-a0ca869042d8",
   "metadata": {
    "tags": []
   },
   "outputs": [
    {
     "data": {
      "text/plain": [
       "Index(['chr', 'start', 'end', 'name', 'score', 'strand', 'gc', 'gc_bin',\n",
       "       'chrom', 'feature_id', 'feature_bin', 'feature_type_top',\n",
       "       'feature_types', 'gene_name', 'gene_id', 'transcript_ids',\n",
       "       'gene_type_top', 'transcript_type_top', 'gene_types',\n",
       "       'transcript_types', 'input_sum', 'clip_sum', 'enrichment_n',\n",
       "       'enrichment_l2or_min', 'enrichment_l2or_mean', 'enrichment_l2or_max',\n",
       "       'p_max', 'p_min', 'q_max', 'q_min', 'RBP'],\n",
       "      dtype='object')"
      ]
     },
     "execution_count": 18,
     "metadata": {},
     "output_type": "execute_result"
    }
   ],
   "source": [
    "ddx3.columns"
   ]
  },
  {
   "cell_type": "code",
   "execution_count": 20,
   "id": "4aaaf09c-9aed-4a6b-8c58-38079632607a",
   "metadata": {
    "tags": []
   },
   "outputs": [
    {
     "data": {
      "text/plain": [
       "<AxesSubplot:xlabel='Proportion', ylabel='enrichment_l2or_mean'>"
      ]
     },
     "execution_count": 20,
     "metadata": {},
     "output_type": "execute_result"
    },
    {
     "data": {
      "image/png": "[encoded data removed]",
      "text/plain": [
       "<Figure size 432x288 with 1 Axes>"
      ]
     },
     "metadata": {
      "needs_background": "light"
     },
     "output_type": "display_data"
    }
   ],
   "source": [
    "import seaborn as sns\n",
    "sns.ecdfplot(pd.concat([ddx3, prpf8, fam120], axis = 0), y = 'enrichment_l2or_mean', hue = 'RBP')"
   ]
  },
  {
   "cell_type": "code",
   "execution_count": 3,
   "id": "65910f25",
   "metadata": {},
   "outputs": [],
   "source": [
    "window_bed = BedTool('/projects/ps-yeolab4/software/skipper/1.0.0/bin/skipper/annotations/gencode.v38.annotation.k562_totalrna.gt1.tiled_partition.features.tsv.gz')\n",
    "window_col = pd.read_csv(window_bed.fn, sep = '\\t', nrows = 5).columns.tolist()"
   ]
  },
  {
   "cell_type": "code",
   "execution_count": 4,
   "id": "cf3e1142",
   "metadata": {},
   "outputs": [],
   "source": [
    "def label_windows():\n",
    "    \n",
    "    data = []\n",
    "    count = []\n",
    "    for rbp in rbps:\n",
    "        reproducible_peak = get_reproducible_peaks(rbp)\n",
    "        window = window_bed.intersect(reproducible_peak, s = True, F = 0.5, u = True).to_dataframe(names = window_col)\n",
    "        \n",
    "        window[rbp] = True\n",
    "        data.append(window.set_index('name')[rbp])\n",
    "        type_cnt = window['feature_type_top'].value_counts()\n",
    "        type_cnt.name = rbp\n",
    "        count.append(type_cnt)\n",
    "    return pd.concat(data, axis = 1).fillna(False),  pd.concat(count, axis = 1).fillna(0)"
   ]
  },
  {
   "cell_type": "code",
   "execution_count": 5,
   "id": "5ed60531",
   "metadata": {},
   "outputs": [],
   "source": [
    "data, cnt = label_windows()"
   ]
  },
  {
   "cell_type": "code",
   "execution_count": 6,
   "id": "954f9e76",
   "metadata": {},
   "outputs": [
    {
     "data": {
      "text/html": [
       "<div>\n",
       "<style scoped>\n",
       "    .dataframe tbody tr th:only-of-type {\n",
       "        vertical-align: middle;\n",
       "    }\n",
       "\n",
       "    .dataframe tbody tr th {\n",
       "        vertical-align: top;\n",
       "    }\n",
       "\n",
       "    .dataframe thead th {\n",
       "        text-align: right;\n",
       "    }\n",
       "</style>\n",
       "<table border=\"1\" class=\"dataframe\">\n",
       "  <thead>\n",
       "    <tr style=\"text-align: right;\">\n",
       "      <th></th>\n",
       "      <th>PRPF8</th>\n",
       "      <th>IGF2BP2</th>\n",
       "      <th>EIF3G</th>\n",
       "      <th>FAM120A</th>\n",
       "      <th>SF3B4</th>\n",
       "      <th>RBFOX2</th>\n",
       "      <th>ZC3H11A</th>\n",
       "      <th>DDX3X</th>\n",
       "      <th>PUM2</th>\n",
       "      <th>LIN28B</th>\n",
       "    </tr>\n",
       "  </thead>\n",
       "  <tbody>\n",
       "    <tr>\n",
       "      <th>SS5_ADJ</th>\n",
       "      <td>29541</td>\n",
       "      <td>52</td>\n",
       "      <td>3.0</td>\n",
       "      <td>230.0</td>\n",
       "      <td>3483</td>\n",
       "      <td>482.0</td>\n",
       "      <td>18.0</td>\n",
       "      <td>14</td>\n",
       "      <td>8.0</td>\n",
       "      <td>105</td>\n",
       "    </tr>\n",
       "    <tr>\n",
       "      <th>SS5_PROX</th>\n",
       "      <td>15793</td>\n",
       "      <td>152</td>\n",
       "      <td>3.0</td>\n",
       "      <td>819.0</td>\n",
       "      <td>615</td>\n",
       "      <td>916.0</td>\n",
       "      <td>56.0</td>\n",
       "      <td>19</td>\n",
       "      <td>8.0</td>\n",
       "      <td>235</td>\n",
       "    </tr>\n",
       "    <tr>\n",
       "      <th>CDS</th>\n",
       "      <td>13734</td>\n",
       "      <td>10110</td>\n",
       "      <td>12.0</td>\n",
       "      <td>2574.0</td>\n",
       "      <td>4241</td>\n",
       "      <td>1066.0</td>\n",
       "      <td>417.0</td>\n",
       "      <td>2683</td>\n",
       "      <td>575.0</td>\n",
       "      <td>12597</td>\n",
       "    </tr>\n",
       "    <tr>\n",
       "      <th>SS3_ADJ</th>\n",
       "      <td>9809</td>\n",
       "      <td>48</td>\n",
       "      <td>0.0</td>\n",
       "      <td>154.0</td>\n",
       "      <td>23284</td>\n",
       "      <td>375.0</td>\n",
       "      <td>28.0</td>\n",
       "      <td>44</td>\n",
       "      <td>8.0</td>\n",
       "      <td>198</td>\n",
       "    </tr>\n",
       "    <tr>\n",
       "      <th>EXON_MRNA</th>\n",
       "      <td>9391</td>\n",
       "      <td>183</td>\n",
       "      <td>6.0</td>\n",
       "      <td>310.0</td>\n",
       "      <td>4128</td>\n",
       "      <td>951.0</td>\n",
       "      <td>115.0</td>\n",
       "      <td>108</td>\n",
       "      <td>34.0</td>\n",
       "      <td>340</td>\n",
       "    </tr>\n",
       "    <tr>\n",
       "      <th>SSB_PROX</th>\n",
       "      <td>5549</td>\n",
       "      <td>26</td>\n",
       "      <td>1.0</td>\n",
       "      <td>116.0</td>\n",
       "      <td>871</td>\n",
       "      <td>458.0</td>\n",
       "      <td>16.0</td>\n",
       "      <td>1</td>\n",
       "      <td>4.0</td>\n",
       "      <td>70</td>\n",
       "    </tr>\n",
       "    <tr>\n",
       "      <th>INTRON</th>\n",
       "      <td>4455</td>\n",
       "      <td>834</td>\n",
       "      <td>15.0</td>\n",
       "      <td>7691.0</td>\n",
       "      <td>1183</td>\n",
       "      <td>5512.0</td>\n",
       "      <td>495.0</td>\n",
       "      <td>159</td>\n",
       "      <td>171.0</td>\n",
       "      <td>2778</td>\n",
       "    </tr>\n",
       "    <tr>\n",
       "      <th>SS3_PROX</th>\n",
       "      <td>2866</td>\n",
       "      <td>34</td>\n",
       "      <td>4.0</td>\n",
       "      <td>393.0</td>\n",
       "      <td>1115</td>\n",
       "      <td>659.0</td>\n",
       "      <td>34.0</td>\n",
       "      <td>9</td>\n",
       "      <td>10.0</td>\n",
       "      <td>215</td>\n",
       "    </tr>\n",
       "    <tr>\n",
       "      <th>SSB_ADJ</th>\n",
       "      <td>2732</td>\n",
       "      <td>2</td>\n",
       "      <td>0.0</td>\n",
       "      <td>6.0</td>\n",
       "      <td>2385</td>\n",
       "      <td>56.0</td>\n",
       "      <td>2.0</td>\n",
       "      <td>1</td>\n",
       "      <td>1.0</td>\n",
       "      <td>35</td>\n",
       "    </tr>\n",
       "    <tr>\n",
       "      <th>EXON_LNCRNA</th>\n",
       "      <td>2465</td>\n",
       "      <td>586</td>\n",
       "      <td>10.0</td>\n",
       "      <td>882.0</td>\n",
       "      <td>865</td>\n",
       "      <td>407.0</td>\n",
       "      <td>233.0</td>\n",
       "      <td>343</td>\n",
       "      <td>179.0</td>\n",
       "      <td>405</td>\n",
       "    </tr>\n",
       "    <tr>\n",
       "      <th>UTR3</th>\n",
       "      <td>2449</td>\n",
       "      <td>14456</td>\n",
       "      <td>7.0</td>\n",
       "      <td>36352.0</td>\n",
       "      <td>672</td>\n",
       "      <td>945.0</td>\n",
       "      <td>2985.0</td>\n",
       "      <td>501</td>\n",
       "      <td>5728.0</td>\n",
       "      <td>6993</td>\n",
       "    </tr>\n",
       "    <tr>\n",
       "      <th>UTR5</th>\n",
       "      <td>1779</td>\n",
       "      <td>462</td>\n",
       "      <td>106.0</td>\n",
       "      <td>393.0</td>\n",
       "      <td>461</td>\n",
       "      <td>194.0</td>\n",
       "      <td>22.0</td>\n",
       "      <td>5429</td>\n",
       "      <td>39.0</td>\n",
       "      <td>627</td>\n",
       "    </tr>\n",
       "    <tr>\n",
       "      <th>CDS_STOP</th>\n",
       "      <td>738</td>\n",
       "      <td>1282</td>\n",
       "      <td>2.0</td>\n",
       "      <td>439.0</td>\n",
       "      <td>294</td>\n",
       "      <td>97.0</td>\n",
       "      <td>172.0</td>\n",
       "      <td>208</td>\n",
       "      <td>200.0</td>\n",
       "      <td>1039</td>\n",
       "    </tr>\n",
       "    <tr>\n",
       "      <th>CDS_START</th>\n",
       "      <td>561</td>\n",
       "      <td>496</td>\n",
       "      <td>28.0</td>\n",
       "      <td>147.0</td>\n",
       "      <td>118</td>\n",
       "      <td>39.0</td>\n",
       "      <td>25.0</td>\n",
       "      <td>2669</td>\n",
       "      <td>41.0</td>\n",
       "      <td>751</td>\n",
       "    </tr>\n",
       "    <tr>\n",
       "      <th>EXON_SMALL</th>\n",
       "      <td>218</td>\n",
       "      <td>16</td>\n",
       "      <td>14.0</td>\n",
       "      <td>36.0</td>\n",
       "      <td>236</td>\n",
       "      <td>34.0</td>\n",
       "      <td>38.0</td>\n",
       "      <td>65</td>\n",
       "      <td>113.0</td>\n",
       "      <td>113</td>\n",
       "    </tr>\n",
       "    <tr>\n",
       "      <th>EXON_PSEUDO</th>\n",
       "      <td>135</td>\n",
       "      <td>87</td>\n",
       "      <td>0.0</td>\n",
       "      <td>79.0</td>\n",
       "      <td>67</td>\n",
       "      <td>14.0</td>\n",
       "      <td>61.0</td>\n",
       "      <td>60</td>\n",
       "      <td>25.0</td>\n",
       "      <td>162</td>\n",
       "    </tr>\n",
       "    <tr>\n",
       "      <th>PRIMIRNA</th>\n",
       "      <td>20</td>\n",
       "      <td>3</td>\n",
       "      <td>2.0</td>\n",
       "      <td>1.0</td>\n",
       "      <td>6</td>\n",
       "      <td>1.0</td>\n",
       "      <td>5.0</td>\n",
       "      <td>4</td>\n",
       "      <td>3.0</td>\n",
       "      <td>2</td>\n",
       "    </tr>\n",
       "    <tr>\n",
       "      <th>CDS_SOLITARY</th>\n",
       "      <td>8</td>\n",
       "      <td>5</td>\n",
       "      <td>0.0</td>\n",
       "      <td>0.0</td>\n",
       "      <td>1</td>\n",
       "      <td>0.0</td>\n",
       "      <td>0.0</td>\n",
       "      <td>17</td>\n",
       "      <td>0.0</td>\n",
       "      <td>3</td>\n",
       "    </tr>\n",
       "  </tbody>\n",
       "</table>\n",
       "</div>"
      ],
      "text/plain": [
       "              PRPF8  IGF2BP2  EIF3G  FAM120A  SF3B4  RBFOX2  ZC3H11A  DDX3X  \\\n",
       "SS5_ADJ       29541       52    3.0    230.0   3483   482.0     18.0     14   \n",
       "SS5_PROX      15793      152    3.0    819.0    615   916.0     56.0     19   \n",
       "CDS           13734    10110   12.0   2574.0   4241  1066.0    417.0   2683   \n",
       "SS3_ADJ        9809       48    0.0    154.0  23284   375.0     28.0     44   \n",
       "EXON_MRNA      9391      183    6.0    310.0   4128   951.0    115.0    108   \n",
       "SSB_PROX       5549       26    1.0    116.0    871   458.0     16.0      1   \n",
       "INTRON         4455      834   15.0   7691.0   1183  5512.0    495.0    159   \n",
       "SS3_PROX       2866       34    4.0    393.0   1115   659.0     34.0      9   \n",
       "SSB_ADJ        2732        2    0.0      6.0   2385    56.0      2.0      1   \n",
       "EXON_LNCRNA    2465      586   10.0    882.0    865   407.0    233.0    343   \n",
       "UTR3           2449    14456    7.0  36352.0    672   945.0   2985.0    501   \n",
       "UTR5           1779      462  106.0    393.0    461   194.0     22.0   5429   \n",
       "CDS_STOP        738     1282    2.0    439.0    294    97.0    172.0    208   \n",
       "CDS_START       561      496   28.0    147.0    118    39.0     25.0   2669   \n",
       "EXON_SMALL      218       16   14.0     36.0    236    34.0     38.0     65   \n",
       "EXON_PSEUDO     135       87    0.0     79.0     67    14.0     61.0     60   \n",
       "PRIMIRNA         20        3    2.0      1.0      6     1.0      5.0      4   \n",
       "CDS_SOLITARY      8        5    0.0      0.0      1     0.0      0.0     17   \n",
       "\n",
       "                PUM2  LIN28B  \n",
       "SS5_ADJ          8.0     105  \n",
       "SS5_PROX         8.0     235  \n",
       "CDS            575.0   12597  \n",
       "SS3_ADJ          8.0     198  \n",
       "EXON_MRNA       34.0     340  \n",
       "SSB_PROX         4.0      70  \n",
       "INTRON         171.0    2778  \n",
       "SS3_PROX        10.0     215  \n",
       "SSB_ADJ          1.0      35  \n",
       "EXON_LNCRNA    179.0     405  \n",
       "UTR3          5728.0    6993  \n",
       "UTR5            39.0     627  \n",
       "CDS_STOP       200.0    1039  \n",
       "CDS_START       41.0     751  \n",
       "EXON_SMALL     113.0     113  \n",
       "EXON_PSEUDO     25.0     162  \n",
       "PRIMIRNA         3.0       2  \n",
       "CDS_SOLITARY     0.0       3  "
      ]
     },
     "execution_count": 6,
     "metadata": {},
     "output_type": "execute_result"
    }
   ],
   "source": [
    "cnt"
   ]
  },
  {
   "cell_type": "code",
   "execution_count": 11,
   "id": "bb882f72",
   "metadata": {},
   "outputs": [
    {
     "data": {
      "text/plain": [
       "<seaborn.matrix.ClusterGrid at 0x2b9c90dfe210>"
      ]
     },
     "execution_count": 11,
     "metadata": {},
     "output_type": "execute_result"
    },
    {
     "data": {
      "image/png": "[encoded data removed]",
      "text/plain": [
       "<Figure size 360x360 with 4 Axes>"
      ]
     },
     "metadata": {
      "needs_background": "light"
     },
     "output_type": "display_data"
    }
   ],
   "source": [
    "import seaborn as sns\n",
    "sns.clustermap(cnt.div(cnt.sum(axis = 0), axis = 1), metric = 'correlation', cmap = 'Greys', figsize = (5,5))"
   ]
  },
  {
   "cell_type": "code",
   "execution_count": 16,
   "id": "11651951",
   "metadata": {},
   "outputs": [],
   "source": [
    "data.rename({'DDX3X':'DDX3'}, inplace = True)"
   ]
  },
  {
   "cell_type": "code",
   "execution_count": 17,
   "id": "6f3b3d74",
   "metadata": {},
   "outputs": [],
   "source": [
    "data.to_csv(f'ABC_K562.skipper_reproducible_window.csv')"
   ]
  },
  {
   "cell_type": "code",
   "execution_count": 7,
   "id": "a79f0df0",
   "metadata": {},
   "outputs": [],
   "source": [
    "cnt.to_csv(f'ABC_K562.skipper_reproducible_window.feature_counts.csv')"
   ]
  },
  {
   "cell_type": "code",
   "execution_count": null,
   "id": "ea681348",
   "metadata": {},
   "outputs": [],
   "source": []
  }
 ],
 "metadata": {
  "kernelspec": {
   "display_name": "my_metadensity",
   "language": "python",
   "name": "my_metadensity"
  },
  "language_info": {
   "codemirror_mode": {
    "name": "ipython",
    "version": 3
   },
   "file_extension": ".py",
   "mimetype": "text/x-python",
   "name": "python",
   "nbconvert_exporter": "python",
   "pygments_lexer": "ipython3",
   "version": "3.7.12"
  }
 },
 "nbformat": 4,
 "nbformat_minor": 5
}
