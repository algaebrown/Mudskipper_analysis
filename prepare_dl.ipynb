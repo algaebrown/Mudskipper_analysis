{
 "cells": [
  {
   "cell_type": "code",
   "execution_count": 1,
   "id": "a926d1ed-59d6-4d9b-ab71-32236c9cf5a7",
   "metadata": {
    "tags": []
   },
   "outputs": [],
   "source": [
    "import pandas as pd\n",
    "from pathlib import Path\n",
    "import seaborn as sns\n",
    "from plot_params import *\n",
    "out_stem = 'K562_rep6'\n",
    "basedir = Path('/home/hsher/scratch/ABC_2rep/')\n",
    "df = pd.read_csv(basedir/f'DMM/{out_stem}.megaoutputs.tsv', sep = '\\t', index_col = 0)"
   ]
  },
  {
   "cell_type": "code",
   "execution_count": 12,
   "id": "5e8882cd-4f2c-46bc-acbd-d154bf1b16eb",
   "metadata": {
    "tags": []
   },
   "outputs": [],
   "source": [
    "rbps = [i.split('.')[1] for i in df.columns[df.columns.str.startswith(out_stem)]]"
   ]
  },
  {
   "cell_type": "code",
   "execution_count": 13,
   "id": "3e6129d0-f688-4b19-a30b-9062701e45a2",
   "metadata": {
    "tags": []
   },
   "outputs": [
    {
     "data": {
      "text/plain": [
       "['IGF2BP2',\n",
       " 'RBFOX2',\n",
       " 'PUM2',\n",
       " 'FAM120A',\n",
       " 'DDX3',\n",
       " 'ZC3H11A',\n",
       " 'EIF3G',\n",
       " 'PRPF8',\n",
       " 'LIN28B',\n",
       " 'SF3B4']"
      ]
     },
     "execution_count": 13,
     "metadata": {},
     "output_type": "execute_result"
    }
   ],
   "source": [
    "rbps"
   ]
  },
  {
   "cell_type": "code",
   "execution_count": 7,
   "id": "855c5083-346f-49ea-848f-e30c844b2612",
   "metadata": {
    "tags": []
   },
   "outputs": [
    {
     "data": {
      "text/plain": [
       "PosixPath('/home/hsher/scratch/ABC_2rep/DMM/K562_rep6.megaoutputs.tsv')"
      ]
     },
     "execution_count": 7,
     "metadata": {},
     "output_type": "execute_result"
    }
   ],
   "source": [
    "basedir/f'DMM/{out_stem}.megaoutputs.tsv'"
   ]
  },
  {
   "cell_type": "code",
   "execution_count": 5,
   "id": "b8680eb2-d1b3-46dc-815e-2069456dcd28",
   "metadata": {
    "tags": []
   },
   "outputs": [
    {
     "data": {
      "text/plain": [
       "Index(['K562_rep6.IGF2BP2', 'K562_rep6.RBFOX2', 'K562_rep6.PUM2',\n",
       "       'K562_rep6.FAM120A', 'K562_rep6.DDX3', 'K562_rep6.ZC3H11A',\n",
       "       'K562_rep6.EIF3G', 'K562_rep6.PRPF8', 'K562_rep6.LIN28B',\n",
       "       'K562_rep6.SF3B4'],\n",
       "      dtype='object')"
      ]
     },
     "execution_count": 5,
     "metadata": {},
     "output_type": "execute_result"
    }
   ],
   "source": [
    "outstem = Path(infile).name.split('.')[0]"
   ]
  },
  {
   "cell_type": "code",
   "execution_count": 3,
   "id": "2c064984-492a-4c0b-b3f2-837c4f12b6ea",
   "metadata": {
    "tags": []
   },
   "outputs": [
    {
     "data": {
      "text/html": [
       "<div>\n",
       "<style scoped>\n",
       "    .dataframe tbody tr th:only-of-type {\n",
       "        vertical-align: middle;\n",
       "    }\n",
       "\n",
       "    .dataframe tbody tr th {\n",
       "        vertical-align: top;\n",
       "    }\n",
       "\n",
       "    .dataframe thead th {\n",
       "        text-align: right;\n",
       "    }\n",
       "</style>\n",
       "<table border=\"1\" class=\"dataframe\">\n",
       "  <thead>\n",
       "    <tr style=\"text-align: right;\">\n",
       "      <th></th>\n",
       "      <th>chrom</th>\n",
       "      <th>start</th>\n",
       "      <th>end</th>\n",
       "      <th>name</th>\n",
       "      <th>score</th>\n",
       "      <th>strand</th>\n",
       "    </tr>\n",
       "    <tr>\n",
       "      <th>Row.names</th>\n",
       "      <th></th>\n",
       "      <th></th>\n",
       "      <th></th>\n",
       "      <th></th>\n",
       "      <th></th>\n",
       "      <th></th>\n",
       "    </tr>\n",
       "  </thead>\n",
       "  <tbody>\n",
       "    <tr>\n",
       "      <th>1</th>\n",
       "      <td>chr1</td>\n",
       "      <td>629639</td>\n",
       "      <td>629733</td>\n",
       "      <td>1</td>\n",
       "      <td>-1</td>\n",
       "      <td>+</td>\n",
       "    </tr>\n",
       "    <tr>\n",
       "      <th>10</th>\n",
       "      <td>chr1</td>\n",
       "      <td>630493</td>\n",
       "      <td>630588</td>\n",
       "      <td>10</td>\n",
       "      <td>-1</td>\n",
       "      <td>+</td>\n",
       "    </tr>\n",
       "    <tr>\n",
       "      <th>100013</th>\n",
       "      <td>chr1</td>\n",
       "      <td>65435609</td>\n",
       "      <td>65435708</td>\n",
       "      <td>100013</td>\n",
       "      <td>-1</td>\n",
       "      <td>+</td>\n",
       "    </tr>\n",
       "    <tr>\n",
       "      <th>100014</th>\n",
       "      <td>chr1</td>\n",
       "      <td>65435708</td>\n",
       "      <td>65435808</td>\n",
       "      <td>100014</td>\n",
       "      <td>-1</td>\n",
       "      <td>+</td>\n",
       "    </tr>\n",
       "    <tr>\n",
       "      <th>100015</th>\n",
       "      <td>chr1</td>\n",
       "      <td>65435808</td>\n",
       "      <td>65435907</td>\n",
       "      <td>100015</td>\n",
       "      <td>-1</td>\n",
       "      <td>+</td>\n",
       "    </tr>\n",
       "    <tr>\n",
       "      <th>...</th>\n",
       "      <td>...</td>\n",
       "      <td>...</td>\n",
       "      <td>...</td>\n",
       "      <td>...</td>\n",
       "      <td>...</td>\n",
       "      <td>...</td>\n",
       "    </tr>\n",
       "    <tr>\n",
       "      <th>99990</th>\n",
       "      <td>chr1</td>\n",
       "      <td>65433323</td>\n",
       "      <td>65433422</td>\n",
       "      <td>99990</td>\n",
       "      <td>-1</td>\n",
       "      <td>+</td>\n",
       "    </tr>\n",
       "    <tr>\n",
       "      <th>99991</th>\n",
       "      <td>chr1</td>\n",
       "      <td>65433422</td>\n",
       "      <td>65433522</td>\n",
       "      <td>99991</td>\n",
       "      <td>-1</td>\n",
       "      <td>+</td>\n",
       "    </tr>\n",
       "    <tr>\n",
       "      <th>99992</th>\n",
       "      <td>chr1</td>\n",
       "      <td>65433522</td>\n",
       "      <td>65433621</td>\n",
       "      <td>99992</td>\n",
       "      <td>-1</td>\n",
       "      <td>+</td>\n",
       "    </tr>\n",
       "    <tr>\n",
       "      <th>99993</th>\n",
       "      <td>chr1</td>\n",
       "      <td>65433621</td>\n",
       "      <td>65433721</td>\n",
       "      <td>99993</td>\n",
       "      <td>-1</td>\n",
       "      <td>+</td>\n",
       "    </tr>\n",
       "    <tr>\n",
       "      <th>99994</th>\n",
       "      <td>chr1</td>\n",
       "      <td>65433721</td>\n",
       "      <td>65433820</td>\n",
       "      <td>99994</td>\n",
       "      <td>-1</td>\n",
       "      <td>+</td>\n",
       "    </tr>\n",
       "  </tbody>\n",
       "</table>\n",
       "<p>138498 rows × 6 columns</p>\n",
       "</div>"
      ],
      "text/plain": [
       "          chrom     start       end    name  score strand\n",
       "Row.names                                                \n",
       "1          chr1    629639    629733       1     -1      +\n",
       "10         chr1    630493    630588      10     -1      +\n",
       "100013     chr1  65435609  65435708  100013     -1      +\n",
       "100014     chr1  65435708  65435808  100014     -1      +\n",
       "100015     chr1  65435808  65435907  100015     -1      +\n",
       "...         ...       ...       ...     ...    ...    ...\n",
       "99990      chr1  65433323  65433422   99990     -1      +\n",
       "99991      chr1  65433422  65433522   99991     -1      +\n",
       "99992      chr1  65433522  65433621   99992     -1      +\n",
       "99993      chr1  65433621  65433721   99993     -1      +\n",
       "99994      chr1  65433721  65433820   99994     -1      +\n",
       "\n",
       "[138498 rows x 6 columns]"
      ]
     },
     "execution_count": 3,
     "metadata": {},
     "output_type": "execute_result"
    }
   ],
   "source": [
    "for col in df.columns[df.columns.str.startswith(out_stem)]:\n",
    "    df['score'] = df[col].apply(lambda value: 1 if value else -1)\n",
    "    df[['chrom', 'start', 'end', 'name', 'score', 'strand']]\n",
    "    df.to_csv(f'{col}.bed', sep = '\\t', header = False, index = False)"
   ]
  },
  {
   "cell_type": "code",
   "execution_count": null,
   "id": "c6f2ff0d-91b5-481a-bb4f-621c70a59dd6",
   "metadata": {},
   "outputs": [],
   "source": []
  }
 ],
 "metadata": {
  "kernelspec": {
   "display_name": "Metadensity",
   "language": "python",
   "name": "metadensity"
  },
  "language_info": {
   "codemirror_mode": {
    "name": "ipython",
    "version": 3
   },
   "file_extension": ".py",
   "mimetype": "text/x-python",
   "name": "python",
   "nbconvert_exporter": "python",
   "pygments_lexer": "ipython3",
   "version": "3.9.16"
  }
 },
 "nbformat": 4,
 "nbformat_minor": 5
}
