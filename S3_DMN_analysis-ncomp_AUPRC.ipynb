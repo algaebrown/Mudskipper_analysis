{
 "cells": [
  {
   "cell_type": "code",
   "execution_count": 1,
   "id": "0571fa21",
   "metadata": {},
   "outputs": [],
   "source": [
    "from pathlib import Path\n",
    "import pandas as pd\n",
    "import seaborn as sns\n",
    "import matplotlib.pyplot as plt\n",
    "from pybedtools import BedTool\n",
    "from sklearn.metrics import roc_curve\n",
    "from sklearn.metrics import precision_recall_curve\n",
    "from sklearn.metrics import auc\n",
    "from scipy.stats import dirichlet\n",
    "from scipy.spatial.distance import pdist, squareform\n",
    "import numpy as np\n",
    "from plot_params import *\n",
    "basedir= Path('/tscc/nfs/home/hsher/ps-yeolab5/ABC_2rep_rerun/')\n",
    "out_stem = 'K562_rep6'\n",
    "#fl='/home/hsher/scratch/K562_rep4.count.csv'"
   ]
  },
  {
   "cell_type": "code",
   "execution_count": 2,
   "id": "ceba465c",
   "metadata": {},
   "outputs": [
    {
     "data": {
      "text/plain": [
       "EIF3G         213\n",
       "ZC3H11A      4722\n",
       "PUM2         7147\n",
       "RBFOX2      12206\n",
       "DDX3        12334\n",
       "LIN28B      26668\n",
       "IGF2BP2     28834\n",
       "SF3B4       44025\n",
       "FAM120A     50622\n",
       "PRPF8      102243\n",
       "dtype: int64"
      ]
     },
     "execution_count": 2,
     "metadata": {},
     "output_type": "execute_result"
    }
   ],
   "source": [
    "ground_truth = pd.read_csv('Dan_multiplex1_K562_rep4.Dan_multiplex1_K562_rep6.reproducible_window.csv',\n",
    "                          index_col = 0)\n",
    "ground_truth_skipper = pd.read_csv('ABC_K562.skipper_reproducible_window.csv',\n",
    "                          index_col = 0)\n",
    "ground_truth_skipper.rename({'DDX3X':'DDX3'}, axis = 1, inplace = True)\n",
    "ground_truth_skipper.sum().sort_values()"
   ]
  },
  {
   "cell_type": "code",
   "execution_count": 3,
   "id": "13ff8120-476c-4848-9424-acd2d14f58a1",
   "metadata": {},
   "outputs": [],
   "source": [
    "anno = pd.read_csv('/tscc/projects/ps-yeolab4/software/skipper/1.0.0/bin/skipper/annotations/gencode.v38.annotation.k562_totalrna.gt1.tiled_partition.features.tsv.gz',\n",
    "                   sep = '\\t')"
   ]
  },
  {
   "cell_type": "code",
   "execution_count": 4,
   "id": "a0b50468-323f-400c-8736-6767dd9bdfec",
   "metadata": {},
   "outputs": [
    {
     "data": {
      "text/html": [
       "<div>\n",
       "<style scoped>\n",
       "    .dataframe tbody tr th:only-of-type {\n",
       "        vertical-align: middle;\n",
       "    }\n",
       "\n",
       "    .dataframe tbody tr th {\n",
       "        vertical-align: top;\n",
       "    }\n",
       "\n",
       "    .dataframe thead th {\n",
       "        text-align: right;\n",
       "    }\n",
       "</style>\n",
       "<table border=\"1\" class=\"dataframe\">\n",
       "  <thead>\n",
       "    <tr style=\"text-align: right;\">\n",
       "      <th></th>\n",
       "      <th>chrom</th>\n",
       "      <th>start</th>\n",
       "      <th>end</th>\n",
       "      <th>name</th>\n",
       "      <th>score</th>\n",
       "      <th>strand</th>\n",
       "      <th>feature_id</th>\n",
       "      <th>feature_bin</th>\n",
       "      <th>feature_type_top</th>\n",
       "      <th>feature_types</th>\n",
       "      <th>gene_name</th>\n",
       "      <th>gene_id</th>\n",
       "      <th>transcript_ids</th>\n",
       "      <th>gene_type_top</th>\n",
       "      <th>transcript_type_top</th>\n",
       "      <th>gene_types</th>\n",
       "      <th>transcript_types</th>\n",
       "    </tr>\n",
       "  </thead>\n",
       "  <tbody>\n",
       "    <tr>\n",
       "      <th>99999</th>\n",
       "      <td>chr1</td>\n",
       "      <td>65434317</td>\n",
       "      <td>65434416</td>\n",
       "      <td>100000</td>\n",
       "      <td>0</td>\n",
       "      <td>+</td>\n",
       "      <td>12642</td>\n",
       "      <td>25</td>\n",
       "      <td>UTR3</td>\n",
       "      <td>UTR3:EXON_MRNA:INTRON</td>\n",
       "      <td>LEPR:LEPROT</td>\n",
       "      <td>ENSG00000116678.20:ENSG00000213625.9</td>\n",
       "      <td>ENST00000371060.7:ENST00000371059.7:ENST000003...</td>\n",
       "      <td>protein_coding</td>\n",
       "      <td>protein_coding</td>\n",
       "      <td>protein_coding</td>\n",
       "      <td>protein_coding</td>\n",
       "    </tr>\n",
       "  </tbody>\n",
       "</table>\n",
       "</div>"
      ],
      "text/plain": [
       "      chrom     start       end    name  score strand  feature_id  \\\n",
       "99999  chr1  65434317  65434416  100000      0      +       12642   \n",
       "\n",
       "       feature_bin feature_type_top          feature_types    gene_name  \\\n",
       "99999           25             UTR3  UTR3:EXON_MRNA:INTRON  LEPR:LEPROT   \n",
       "\n",
       "                                    gene_id  \\\n",
       "99999  ENSG00000116678.20:ENSG00000213625.9   \n",
       "\n",
       "                                          transcript_ids   gene_type_top  \\\n",
       "99999  ENST00000371060.7:ENST00000371059.7:ENST000003...  protein_coding   \n",
       "\n",
       "      transcript_type_top      gene_types transcript_types  \n",
       "99999      protein_coding  protein_coding   protein_coding  "
      ]
     },
     "execution_count": 4,
     "metadata": {},
     "output_type": "execute_result"
    }
   ],
   "source": [
    "anno.loc[anno['name']==100000]"
   ]
  },
  {
   "cell_type": "code",
   "execution_count": 5,
   "id": "579a469b-9b32-4fe0-9ea9-6be7049f382b",
   "metadata": {
    "tags": []
   },
   "outputs": [],
   "source": [
    "window_bed = BedTool('/tscc/projects/ps-yeolab4/software/skipper/1.0.0/bin/skipper/annotations/gencode.v38.annotation.k562_totalrna.gt1.tiled_partition.features.tsv.gz')\n",
    "window_df = pd.read_csv(window_bed.fn, sep = '\\t')\n",
    "\n",
    "\n",
    "pum_motif = pd.read_csv('/tscc/nfs/home/hsher/scratch/k562_window_pum2.homer.motif', sep = '\\t')\n",
    "pum_motif = pum_motif.loc[pum_motif['Motif Name']=='1-TGTATATA']\n",
    "pum_motif['windowstrand']=pum_motif['PositionID'].map(window_df.set_index('name')['strand'])\n",
    "pum_motif.dropna(inplace = True)\n",
    "pum_motif = pum_motif.loc[pum_motif['Strand']==pum_motif['windowstrand']]\n",
    "\n",
    "rbfox2_motif = pd.read_csv('/tscc/nfs/home/hsher/scratch/k562_window_rbfox2.homer.motif', sep = '\\t')\n",
    "rbfox2_motif = rbfox2_motif.loc[rbfox2_motif['Motif Name'].isin(\n",
    "    ['1-TGCATG', '2-GCATST', '3-AGCATG','8-TGCACA', '9-TGCACG']                                                            \n",
    ")\n",
    "]\n",
    "rbfox2_motif['windowstrand']=rbfox2_motif['PositionID'].map(window_df.set_index('name')['strand'])\n",
    "rbfox2_motif.dropna(inplace = True)\n",
    "rbfox2_motif = rbfox2_motif.loc[rbfox2_motif['Strand']==rbfox2_motif['windowstrand']]\n"
   ]
  },
  {
   "cell_type": "code",
   "execution_count": 6,
   "id": "526f9cc6-6e4c-418b-93f2-489173e62200",
   "metadata": {},
   "outputs": [],
   "source": [
    "def accuracy_among_topk(score, truth, k):\n",
    "    indicies = score.sort_values(ascending = False).iloc[:k].index\n",
    "    return truth.loc[indicies].mean()\n",
    "\n",
    "def plot(rbp, truth_col = 'contain_eclip'):\n",
    "    pbars = []\n",
    "    for i in range(2,10):\n",
    "        data = pd.read_csv(f'/tscc/nfs/home/hsher/ps-yeolab5/DMM_K_params/DMM/K562_rep6.{i}.megaoutputs.tsv',\n",
    "                          sep = '\\t')\n",
    "        score = data.set_index('Row.names')[f'logLR:{out_stem}.{rbp}']\n",
    "        score.name = 5*i+1\n",
    "        pbars.append(score)\n",
    "        \n",
    "        \n",
    "    pbars = pd.concat(pbars, axis = 1)\n",
    "\n",
    "    # read BBM and raw\n",
    "    df_beta = pd.read_csv(basedir / 'beta-mixture_CC'/ f'{out_stem}.{rbp}.enriched_windows.tsv', sep = '\\t', index_col = 0)\n",
    "    df_beta_full = pd.read_csv(basedir / 'beta-mixture_CC'/ f'{out_stem}.{rbp}.window_score.tsv', sep = '\\t', index_col = 0)\n",
    "    pbars['contain_beta'] = pbars.index.isin(df_beta['name'].astype(int))\n",
    "    pbars['contain_eclip'] = pbars.index.isin(ground_truth_skipper.loc[ground_truth_skipper[rbp]].index)\n",
    "    pbars['BBM']=pbars.index.map(df_beta_full.set_index('name')['logLR'])\n",
    "\n",
    "    if rbp == 'PUM2':\n",
    "        pbars['contain_motif'] = pbars.index.isin(pum_motif['PositionID'])\n",
    "    if rbp == 'RBFOX2':\n",
    "        pbars['contain_motif'] = pbars.index.isin(rbfox2_motif['PositionID'])\n",
    "    \n",
    "    plt.rcParams['axes.prop_cycle'] = plt.cycler(color=plt.cm.tab20c.colors)\n",
    "\n",
    "    auprc = []\n",
    "    topk = []\n",
    "    f, ax = plt.subplots(1,2,figsize = (6,3))\n",
    "    \n",
    "    cols = list(range(16, 50, 5))+['BBM']\n",
    "    for col in cols:\n",
    "        precision, recall, thresholds = precision_recall_curve(pbars[truth_col], \n",
    "                                                         pbars[col])\n",
    "        #ax[0].plot(recall, precision, label = col)\n",
    "        auprc.append(auc(recall, precision))\n",
    "    \n",
    "        for k in [500,1000, 5000]:\n",
    "            acc = accuracy_among_topk(pbars[col],pbars[truth_col],k)\n",
    "            topk.append([col, k, acc])\n",
    "    \n",
    "            \n",
    "    #ax[0].legend(bbox_to_anchor = (-0.5, 1))\n",
    "    sns.despine()\n",
    "    auprc = pd.Series(auprc, index = cols)\n",
    "    topk = pd.DataFrame(topk, columns = ['fc_cutoff', 'k', 'accuracy'])\n",
    "    auprc.plot.bar(ax=ax[0], color = 'Grey')\n",
    "    ax[0].set_ylabel('AUPRC')\n",
    "    ax[0].set_xlabel('k (number of clusters)')\n",
    "    plt.suptitle(rbp)\n",
    "    \n",
    "    pd.pivot_table(topk, index = 'fc_cutoff', columns = 'k', values = 'accuracy').T.plot.bar(ax = ax[1])\n",
    "    ax[1].set_ylabel('Top k accuracy')\n",
    "    ax[1].legend(bbox_to_anchor = (1.5,0.5))\n",
    "    sns.despine()\n",
    "\n",
    "    plt.tight_layout()\n",
    "\n",
    "    return auprc, topk"
   ]
  },
  {
   "cell_type": "code",
   "execution_count": 7,
   "id": "d0b87ee0-324c-4293-80a3-8632dc5f51e2",
   "metadata": {
    "tags": []
   },
   "outputs": [
    {
     "data": {
      "image/png": "[encoded data removed]",
      "text/plain": [
       "<Figure size 432x216 with 2 Axes>"
      ]
     },
     "metadata": {},
     "output_type": "display_data"
    },
    {
     "data": {
      "image/png": "[encoded data removed]",
      "text/plain": [
       "<Figure size 432x216 with 2 Axes>"
      ]
     },
     "metadata": {},
     "output_type": "display_data"
    },
    {
     "data": {
      "image/png": "[encoded data removed]",
      "text/plain": [
       "<Figure size 432x216 with 2 Axes>"
      ]
     },
     "metadata": {},
     "output_type": "display_data"
    },
    {
     "data": {
      "image/png": "[encoded data removed]",
      "text/plain": [
       "<Figure size 432x216 with 2 Axes>"
      ]
     },
     "metadata": {},
     "output_type": "display_data"
    }
   ],
   "source": [
    "auprc_data = []\n",
    "topk_data = []\n",
    "for rbp in ['RBFOX2', 'PUM2']:\n",
    "    auprc, topk = plot(rbp, truth_col = 'contain_eclip')\n",
    "    auprc.name = f'{rbp}:label:eCLIP'\n",
    "    topk['RBP'] = rbp\n",
    "    topk['label']='eCLIP'\n",
    "\n",
    "    auprc_data.append(auprc)\n",
    "    topk_data.append(topk)\n",
    "    plt.savefig(figdir / f'k_DMM.{rbp}.eclip.pdf')\n",
    "for rbp in ['RBFOX2', 'PUM2']:\n",
    "    auprc, topk = plot(rbp, truth_col = 'contain_motif')\n",
    "    auprc.name = f'{rbp}:label:motif'\n",
    "    topk['RBP'] = rbp\n",
    "    topk['label']='motif'\n",
    "    auprc_data.append(auprc)\n",
    "    topk_data.append(topk)\n",
    "    plt.savefig(figdir / f'k_DMM.{rbp}.motif.pdf')"
   ]
  },
  {
   "cell_type": "code",
   "execution_count": 8,
   "id": "befef4da-2148-4f95-84eb-3e65413cf772",
   "metadata": {},
   "outputs": [],
   "source": [
    "auprc_data = pd.concat(auprc_data, axis = 1)"
   ]
  },
  {
   "cell_type": "code",
   "execution_count": 9,
   "id": "3e5c80b9-9537-42d4-83e4-f7b1206ed0ad",
   "metadata": {},
   "outputs": [],
   "source": [
    "topk_data = pd.concat(topk_data)"
   ]
  },
  {
   "cell_type": "code",
   "execution_count": 10,
   "id": "69cc1c76-c60c-4f69-bb6c-08378ac22e63",
   "metadata": {},
   "outputs": [],
   "source": [
    "topk_data.to_csv(figdir / f'k_DMM.{rbp}.topk.csv')\n",
    "auprc_data.to_csv(figdir / f'k_DMM.{rbp}.auprc.csv')"
   ]
  },
  {
   "cell_type": "code",
   "execution_count": 11,
   "id": "cacdbde8-530a-4bcf-8a6f-bb481154f469",
   "metadata": {},
   "outputs": [
    {
     "data": {
      "text/html": [
       "<div>\n",
       "<style scoped>\n",
       "    .dataframe tbody tr th:only-of-type {\n",
       "        vertical-align: middle;\n",
       "    }\n",
       "\n",
       "    .dataframe tbody tr th {\n",
       "        vertical-align: top;\n",
       "    }\n",
       "\n",
       "    .dataframe thead th {\n",
       "        text-align: right;\n",
       "    }\n",
       "</style>\n",
       "<table border=\"1\" class=\"dataframe\">\n",
       "  <thead>\n",
       "    <tr style=\"text-align: right;\">\n",
       "      <th></th>\n",
       "      <th>RBFOX2:label:eCLIP</th>\n",
       "      <th>PUM2:label:eCLIP</th>\n",
       "      <th>RBFOX2:label:motif</th>\n",
       "      <th>PUM2:label:motif</th>\n",
       "    </tr>\n",
       "  </thead>\n",
       "  <tbody>\n",
       "    <tr>\n",
       "      <th>16</th>\n",
       "      <td>0.325270</td>\n",
       "      <td>0.083642</td>\n",
       "      <td>0.370728</td>\n",
       "      <td>0.016482</td>\n",
       "    </tr>\n",
       "    <tr>\n",
       "      <th>21</th>\n",
       "      <td>0.346605</td>\n",
       "      <td>0.098197</td>\n",
       "      <td>0.372877</td>\n",
       "      <td>0.018940</td>\n",
       "    </tr>\n",
       "    <tr>\n",
       "      <th>26</th>\n",
       "      <td>0.353558</td>\n",
       "      <td>0.104820</td>\n",
       "      <td>0.372693</td>\n",
       "      <td>0.019801</td>\n",
       "    </tr>\n",
       "    <tr>\n",
       "      <th>31</th>\n",
       "      <td>0.354096</td>\n",
       "      <td>0.105669</td>\n",
       "      <td>0.373046</td>\n",
       "      <td>0.020794</td>\n",
       "    </tr>\n",
       "    <tr>\n",
       "      <th>36</th>\n",
       "      <td>0.357728</td>\n",
       "      <td>0.105289</td>\n",
       "      <td>0.373189</td>\n",
       "      <td>0.019858</td>\n",
       "    </tr>\n",
       "    <tr>\n",
       "      <th>41</th>\n",
       "      <td>0.330505</td>\n",
       "      <td>0.105362</td>\n",
       "      <td>0.372380</td>\n",
       "      <td>0.020004</td>\n",
       "    </tr>\n",
       "    <tr>\n",
       "      <th>46</th>\n",
       "      <td>0.358839</td>\n",
       "      <td>0.113121</td>\n",
       "      <td>0.373118</td>\n",
       "      <td>0.021518</td>\n",
       "    </tr>\n",
       "    <tr>\n",
       "      <th>BBM</th>\n",
       "      <td>0.377092</td>\n",
       "      <td>0.118894</td>\n",
       "      <td>0.372201</td>\n",
       "      <td>0.024173</td>\n",
       "    </tr>\n",
       "  </tbody>\n",
       "</table>\n",
       "</div>"
      ],
      "text/plain": [
       "     RBFOX2:label:eCLIP  PUM2:label:eCLIP  RBFOX2:label:motif  \\\n",
       "16             0.325270          0.083642            0.370728   \n",
       "21             0.346605          0.098197            0.372877   \n",
       "26             0.353558          0.104820            0.372693   \n",
       "31             0.354096          0.105669            0.373046   \n",
       "36             0.357728          0.105289            0.373189   \n",
       "41             0.330505          0.105362            0.372380   \n",
       "46             0.358839          0.113121            0.373118   \n",
       "BBM            0.377092          0.118894            0.372201   \n",
       "\n",
       "     PUM2:label:motif  \n",
       "16           0.016482  \n",
       "21           0.018940  \n",
       "26           0.019801  \n",
       "31           0.020794  \n",
       "36           0.019858  \n",
       "41           0.020004  \n",
       "46           0.021518  \n",
       "BBM          0.024173  "
      ]
     },
     "execution_count": 11,
     "metadata": {},
     "output_type": "execute_result"
    }
   ],
   "source": [
    "auprc_data"
   ]
  },
  {
   "cell_type": "code",
   "execution_count": null,
   "id": "3bbaf0f6-1187-4103-a870-565430147f23",
   "metadata": {},
   "outputs": [],
   "source": []
  }
 ],
 "metadata": {
  "kernelspec": {
   "display_name": "my_metadensity",
   "language": "python",
   "name": "my_metadensity"
  },
  "language_info": {
   "codemirror_mode": {
    "name": "ipython",
    "version": 3
   },
   "file_extension": ".py",
   "mimetype": "text/x-python",
   "name": "python",
   "nbconvert_exporter": "python",
   "pygments_lexer": "ipython3",
   "version": "3.7.12"
  }
 },
 "nbformat": 4,
 "nbformat_minor": 5
}
