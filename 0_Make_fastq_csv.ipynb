{
 "cells": [
  {
   "cell_type": "code",
   "execution_count": 1,
   "id": "9c82bc74",
   "metadata": {
    "tags": []
   },
   "outputs": [],
   "source": [
    "import pandas as pd\n",
    "df1 = pd.read_csv('/tscc/nfs/home/hsher/projects/oligoCLIP/config/fastq_csv/multiplex1.csv')\n",
    "df2 = pd.read_csv('/tscc/nfs/home/hsher/projects/oligoCLIP/config/fastq_csv/multiplex2.csv')"
   ]
  },
  {
   "cell_type": "code",
   "execution_count": 2,
   "id": "8748bfbb",
   "metadata": {},
   "outputs": [],
   "source": [
    "df = pd.concat([df1, df2], axis = 0)"
   ]
  },
  {
   "cell_type": "code",
   "execution_count": 3,
   "id": "27c1195d",
   "metadata": {},
   "outputs": [
    {
     "data": {
      "text/html": [
       "<div>\n",
       "<style scoped>\n",
       "    .dataframe tbody tr th:only-of-type {\n",
       "        vertical-align: middle;\n",
       "    }\n",
       "\n",
       "    .dataframe tbody tr th {\n",
       "        vertical-align: top;\n",
       "    }\n",
       "\n",
       "    .dataframe thead th {\n",
       "        text-align: right;\n",
       "    }\n",
       "</style>\n",
       "<table border=\"1\" class=\"dataframe\">\n",
       "  <thead>\n",
       "    <tr style=\"text-align: right;\">\n",
       "      <th></th>\n",
       "      <th>Unnamed: 0</th>\n",
       "      <th>fastq</th>\n",
       "      <th>libname</th>\n",
       "    </tr>\n",
       "  </thead>\n",
       "  <tbody>\n",
       "    <tr>\n",
       "      <th>0</th>\n",
       "      <td>0</td>\n",
       "      <td>/projects/ps-yeolab5/hsher/ABC009_1_S1_R1_001....</td>\n",
       "      <td>K562_rep1</td>\n",
       "    </tr>\n",
       "    <tr>\n",
       "      <th>1</th>\n",
       "      <td>1</td>\n",
       "      <td>/projects/ps-yeolab5/hsher/ABC009_2_S2_R1_001....</td>\n",
       "      <td>K562_rep2</td>\n",
       "    </tr>\n",
       "    <tr>\n",
       "      <th>2</th>\n",
       "      <td>2</td>\n",
       "      <td>/projects/ps-yeolab5/hsher/ABC009_3_S3_R1_001....</td>\n",
       "      <td>HEK293_rep1</td>\n",
       "    </tr>\n",
       "    <tr>\n",
       "      <th>3</th>\n",
       "      <td>3</td>\n",
       "      <td>/projects/ps-yeolab5/hsher/ABC009_4_S4_R1_001....</td>\n",
       "      <td>HEK293_rep2</td>\n",
       "    </tr>\n",
       "    <tr>\n",
       "      <th>0</th>\n",
       "      <td>8</td>\n",
       "      <td>/projects/ps-yeolab5/hsher/ABC011_1_S1_R1_001....</td>\n",
       "      <td>K562_rep3</td>\n",
       "    </tr>\n",
       "    <tr>\n",
       "      <th>1</th>\n",
       "      <td>9</td>\n",
       "      <td>/projects/ps-yeolab5/hsher/ABC011_2_S2_R1_001....</td>\n",
       "      <td>K562_rep4</td>\n",
       "    </tr>\n",
       "    <tr>\n",
       "      <th>2</th>\n",
       "      <td>10</td>\n",
       "      <td>/projects/ps-yeolab5/hsher/ABC011_3_S3_R1_001....</td>\n",
       "      <td>K562_rep5</td>\n",
       "    </tr>\n",
       "    <tr>\n",
       "      <th>3</th>\n",
       "      <td>11</td>\n",
       "      <td>/projects/ps-yeolab5/hsher/ABC011_4_S4_R1_001....</td>\n",
       "      <td>K562_rep6</td>\n",
       "    </tr>\n",
       "  </tbody>\n",
       "</table>\n",
       "</div>"
      ],
      "text/plain": [
       "   Unnamed: 0                                              fastq      libname\n",
       "0           0  /projects/ps-yeolab5/hsher/ABC009_1_S1_R1_001....    K562_rep1\n",
       "1           1  /projects/ps-yeolab5/hsher/ABC009_2_S2_R1_001....    K562_rep2\n",
       "2           2  /projects/ps-yeolab5/hsher/ABC009_3_S3_R1_001....  HEK293_rep1\n",
       "3           3  /projects/ps-yeolab5/hsher/ABC009_4_S4_R1_001....  HEK293_rep2\n",
       "0           8  /projects/ps-yeolab5/hsher/ABC011_1_S1_R1_001....    K562_rep3\n",
       "1           9  /projects/ps-yeolab5/hsher/ABC011_2_S2_R1_001....    K562_rep4\n",
       "2          10  /projects/ps-yeolab5/hsher/ABC011_3_S3_R1_001....    K562_rep5\n",
       "3          11  /projects/ps-yeolab5/hsher/ABC011_4_S4_R1_001....    K562_rep6"
      ]
     },
     "execution_count": 3,
     "metadata": {},
     "output_type": "execute_result"
    }
   ],
   "source": [
    "df"
   ]
  },
  {
   "cell_type": "code",
   "execution_count": 4,
   "id": "b0c6c29f",
   "metadata": {},
   "outputs": [],
   "source": [
    "# ,libname,fastq1,fastq2,experiment\n",
    "# make it the same as the PE experiments\n",
    "df = df.loc[df['libname'].isin(['HEK293_rep1', 'HEK293_rep2', 'K562_rep4', 'K562_rep6'])]"
   ]
  },
  {
   "cell_type": "code",
   "execution_count": 5,
   "id": "eff86848",
   "metadata": {},
   "outputs": [
    {
     "name": "stderr",
     "output_type": "stream",
     "text": [
      "/tscc/nfs/home/hsher/miniconda3/envs/Metadensity/lib/python3.7/site-packages/ipykernel_launcher.py:1: SettingWithCopyWarning: \n",
      "A value is trying to be set on a copy of a slice from a DataFrame.\n",
      "Try using .loc[row_indexer,col_indexer] = value instead\n",
      "\n",
      "See the caveats in the documentation: https://pandas.pydata.org/pandas-docs/stable/user_guide/indexing.html#returning-a-view-versus-a-copy\n",
      "  \"\"\"Entry point for launching an IPython kernel.\n"
     ]
    }
   ],
   "source": [
    "df['experiment']= df['libname'].str.split('_', expand = True)[0]"
   ]
  },
  {
   "cell_type": "code",
   "execution_count": 6,
   "id": "48c5fe4e",
   "metadata": {},
   "outputs": [
    {
     "data": {
      "text/html": [
       "<div>\n",
       "<style scoped>\n",
       "    .dataframe tbody tr th:only-of-type {\n",
       "        vertical-align: middle;\n",
       "    }\n",
       "\n",
       "    .dataframe tbody tr th {\n",
       "        vertical-align: top;\n",
       "    }\n",
       "\n",
       "    .dataframe thead th {\n",
       "        text-align: right;\n",
       "    }\n",
       "</style>\n",
       "<table border=\"1\" class=\"dataframe\">\n",
       "  <thead>\n",
       "    <tr style=\"text-align: right;\">\n",
       "      <th></th>\n",
       "      <th>Unnamed: 0</th>\n",
       "      <th>fastq</th>\n",
       "      <th>libname</th>\n",
       "      <th>experiment</th>\n",
       "    </tr>\n",
       "  </thead>\n",
       "  <tbody>\n",
       "    <tr>\n",
       "      <th>2</th>\n",
       "      <td>2</td>\n",
       "      <td>/projects/ps-yeolab5/hsher/ABC009_3_S3_R1_001....</td>\n",
       "      <td>HEK293_rep1</td>\n",
       "      <td>HEK293</td>\n",
       "    </tr>\n",
       "    <tr>\n",
       "      <th>3</th>\n",
       "      <td>3</td>\n",
       "      <td>/projects/ps-yeolab5/hsher/ABC009_4_S4_R1_001....</td>\n",
       "      <td>HEK293_rep2</td>\n",
       "      <td>HEK293</td>\n",
       "    </tr>\n",
       "    <tr>\n",
       "      <th>1</th>\n",
       "      <td>9</td>\n",
       "      <td>/projects/ps-yeolab5/hsher/ABC011_2_S2_R1_001....</td>\n",
       "      <td>K562_rep4</td>\n",
       "      <td>K562</td>\n",
       "    </tr>\n",
       "    <tr>\n",
       "      <th>3</th>\n",
       "      <td>11</td>\n",
       "      <td>/projects/ps-yeolab5/hsher/ABC011_4_S4_R1_001....</td>\n",
       "      <td>K562_rep6</td>\n",
       "      <td>K562</td>\n",
       "    </tr>\n",
       "  </tbody>\n",
       "</table>\n",
       "</div>"
      ],
      "text/plain": [
       "   Unnamed: 0                                              fastq      libname  \\\n",
       "2           2  /projects/ps-yeolab5/hsher/ABC009_3_S3_R1_001....  HEK293_rep1   \n",
       "3           3  /projects/ps-yeolab5/hsher/ABC009_4_S4_R1_001....  HEK293_rep2   \n",
       "1           9  /projects/ps-yeolab5/hsher/ABC011_2_S2_R1_001....    K562_rep4   \n",
       "3          11  /projects/ps-yeolab5/hsher/ABC011_4_S4_R1_001....    K562_rep6   \n",
       "\n",
       "  experiment  \n",
       "2     HEK293  \n",
       "3     HEK293  \n",
       "1       K562  \n",
       "3       K562  "
      ]
     },
     "execution_count": 6,
     "metadata": {},
     "output_type": "execute_result"
    }
   ],
   "source": [
    "df"
   ]
  },
  {
   "cell_type": "code",
   "execution_count": 24,
   "id": "aa885eab-3558-4526-95a6-e377ceef4fea",
   "metadata": {},
   "outputs": [
    {
     "name": "stderr",
     "output_type": "stream",
     "text": [
      "/tscc/nfs/home/hsher/miniconda3/envs/Metadensity/lib/python3.7/site-packages/ipykernel_launcher.py:1: SettingWithCopyWarning: \n",
      "A value is trying to be set on a copy of a slice from a DataFrame.\n",
      "Try using .loc[row_indexer,col_indexer] = value instead\n",
      "\n",
      "See the caveats in the documentation: https://pandas.pydata.org/pandas-docs/stable/user_guide/indexing.html#returning-a-view-versus-a-copy\n",
      "  \"\"\"Entry point for launching an IPython kernel.\n"
     ]
    }
   ],
   "source": [
    "df['fastq'] = df['fastq'].str.replace('/projects/ps-yeo', '/tscc/projects/ps-yeo')"
   ]
  },
  {
   "cell_type": "code",
   "execution_count": 25,
   "id": "3b029722",
   "metadata": {},
   "outputs": [],
   "source": [
    "df[['fastq', 'libname', 'experiment']].to_csv('/tscc/nfs/home/hsher/projects/oligoCLIP/config/fastq_csv/ABC_2rep.csv')"
   ]
  },
  {
   "cell_type": "code",
   "execution_count": 8,
   "id": "834b401e",
   "metadata": {},
   "outputs": [],
   "source": [
    "barcode = pd.read_csv('/tscc/projects/ps-yeolab5/hsher/barcodes.csv')"
   ]
  },
  {
   "cell_type": "code",
   "execution_count": 27,
   "id": "5276a22e",
   "metadata": {},
   "outputs": [
    {
     "data": {
      "text/plain": [
       "['IGF2BP2',\n",
       " 'RBFOX2',\n",
       " 'PUM2',\n",
       " 'FAM120A',\n",
       " 'DDX3',\n",
       " 'ZC3H11A',\n",
       " 'EIF3G',\n",
       " 'PRPF8',\n",
       " 'LIN28B',\n",
       " 'SF3B4']"
      ]
     },
     "execution_count": 27,
     "metadata": {},
     "output_type": "execute_result"
    }
   ],
   "source": [
    "barcode['rbp'].tolist()"
   ]
  },
  {
   "cell_type": "code",
   "execution_count": 10,
   "id": "a38cb76d",
   "metadata": {},
   "outputs": [],
   "source": [
    "barcode.to_csv('/tscc/nfs/home/hsher/projects/oligoCLIP/config/barcode_csv/ABC_barcode.csv', sep = ':', index = False, header = False)"
   ]
  },
  {
   "cell_type": "code",
   "execution_count": 11,
   "id": "7858a3ca",
   "metadata": {},
   "outputs": [],
   "source": [
    "# make singleplex ABC "
   ]
  },
  {
   "cell_type": "code",
   "execution_count": 12,
   "id": "72fe647b-6830-4b41-9185-af1238a5c759",
   "metadata": {
    "tags": []
   },
   "outputs": [],
   "source": [
    "fastqs=['/tscc/projects/ps-yeolab5/hsher/ABC009_1_S1_R1_001.fastq.gz',\n",
    "'/tscc/projects/ps-yeolab5/hsher/ABC009_2_S2_R1_001.fastq.gz',\n",
    "'/tscc/projects/ps-yeolab5/hsher/ABC009_3_S3_R1_001.fastq.gz',\n",
    "'/tscc/projects/ps-yeolab5/hsher/ABC009_4_S4_R1_001.fastq.gz',\n",
    "'/tscc/projects/ps-yeolab5/hsher/ABC011_5_S5_R1_001.trimmed.fastq.gz',\n",
    "'/tscc/projects/ps-yeolab5/hsher/ABC011_6_S6_R1_001.trimmed.fastq.gz',\n",
    "'/tscc/projects/ps-yeolab5/hsher/ABC011_7_S7_R1_001.trimmed.fastq.gz',\n",
    "'/tscc/projects/ps-yeolab5/hsher/ABC011_8_S8_R1_001.trimmed.fastq.gz',\n",
    "'/tscc/projects/ps-yeolab5/hsher/ABC011_1_S1_R1_001.trimmed.fastq.gz',\n",
    "'/tscc/projects/ps-yeolab5/hsher/ABC011_2_S2_R1_001.trimmed.fastq.gz',\n",
    "'/tscc/projects/ps-yeolab5/hsher/ABC011_3_S3_R1_001.trimmed.fastq.gz',\n",
    "'/tscc/projects/ps-yeolab5/hsher/ABC011_4_S4_R1_001.trimmed.fastq.gz',\n",
    "'/tscc/projects/ps-yeolab5/hsher/ABC013_1_S28_R1_001.trimmed.fastq.gz',\n",
    "'/tscc/projects/ps-yeolab5/hsher/ABC013_2_S29_R1_001.trimmed.fastq.gz',\n",
    "]\n",
    "\n",
    "names = ['K562_rep1',\n",
    "'K562_rep2',\n",
    "'HEK293_rep1',\n",
    "'HEK293_rep2',\n",
    "'K562_SLBP_rep1',\n",
    "'K562_SLBP_rep2',\n",
    "'K562_RBFOX2_rep1',\n",
    "'K562_RBFOX2_rep2',\n",
    "'K562_rep3',\n",
    "'K562_rep4',\n",
    "'K562_rep5',\n",
    "'K562_rep6',\n",
    "'HEK293_RBFOX2_rep1',\n",
    "'HEK293_RBFOX2_rep2'\n",
    "]\n",
    "\n",
    "\n",
    "\n",
    "all_fastq_menifest = pd.DataFrame([fastqs, names], index = ['fastq', 'libname']).T\n"
   ]
  },
  {
   "cell_type": "code",
   "execution_count": 13,
   "id": "8aa5d3aa-60a7-4d09-82db-bfe676bb9308",
   "metadata": {
    "tags": []
   },
   "outputs": [],
   "source": [
    "rbfox2_singleplex = all_fastq_menifest.loc[all_fastq_menifest['libname'].str.contains('RBFOX2')]"
   ]
  },
  {
   "cell_type": "code",
   "execution_count": 14,
   "id": "f4796f2c-54e8-40b9-a8ce-945f6a8b5070",
   "metadata": {
    "tags": []
   },
   "outputs": [
    {
     "name": "stderr",
     "output_type": "stream",
     "text": [
      "/tscc/nfs/home/hsher/miniconda3/envs/Metadensity/lib/python3.7/site-packages/ipykernel_launcher.py:1: SettingWithCopyWarning: \n",
      "A value is trying to be set on a copy of a slice from a DataFrame.\n",
      "Try using .loc[row_indexer,col_indexer] = value instead\n",
      "\n",
      "See the caveats in the documentation: https://pandas.pydata.org/pandas-docs/stable/user_guide/indexing.html#returning-a-view-versus-a-copy\n",
      "  \"\"\"Entry point for launching an IPython kernel.\n"
     ]
    }
   ],
   "source": [
    "rbfox2_singleplex['experiment']=['K562_RBFOX2']*2+['HEK293_RBFOX2']*2"
   ]
  },
  {
   "cell_type": "code",
   "execution_count": 15,
   "id": "5b4f7e37-0520-454b-9454-84eea674ca68",
   "metadata": {
    "tags": []
   },
   "outputs": [
    {
     "data": {
      "text/html": [
       "<div>\n",
       "<style scoped>\n",
       "    .dataframe tbody tr th:only-of-type {\n",
       "        vertical-align: middle;\n",
       "    }\n",
       "\n",
       "    .dataframe tbody tr th {\n",
       "        vertical-align: top;\n",
       "    }\n",
       "\n",
       "    .dataframe thead th {\n",
       "        text-align: right;\n",
       "    }\n",
       "</style>\n",
       "<table border=\"1\" class=\"dataframe\">\n",
       "  <thead>\n",
       "    <tr style=\"text-align: right;\">\n",
       "      <th></th>\n",
       "      <th>fastq</th>\n",
       "      <th>libname</th>\n",
       "      <th>experiment</th>\n",
       "    </tr>\n",
       "  </thead>\n",
       "  <tbody>\n",
       "    <tr>\n",
       "      <th>6</th>\n",
       "      <td>/tscc/projects/ps-yeolab5/hsher/ABC011_7_S7_R1...</td>\n",
       "      <td>K562_RBFOX2_rep1</td>\n",
       "      <td>K562_RBFOX2</td>\n",
       "    </tr>\n",
       "    <tr>\n",
       "      <th>7</th>\n",
       "      <td>/tscc/projects/ps-yeolab5/hsher/ABC011_8_S8_R1...</td>\n",
       "      <td>K562_RBFOX2_rep2</td>\n",
       "      <td>K562_RBFOX2</td>\n",
       "    </tr>\n",
       "    <tr>\n",
       "      <th>12</th>\n",
       "      <td>/tscc/projects/ps-yeolab5/hsher/ABC013_1_S28_R...</td>\n",
       "      <td>HEK293_RBFOX2_rep1</td>\n",
       "      <td>HEK293_RBFOX2</td>\n",
       "    </tr>\n",
       "    <tr>\n",
       "      <th>13</th>\n",
       "      <td>/tscc/projects/ps-yeolab5/hsher/ABC013_2_S29_R...</td>\n",
       "      <td>HEK293_RBFOX2_rep2</td>\n",
       "      <td>HEK293_RBFOX2</td>\n",
       "    </tr>\n",
       "  </tbody>\n",
       "</table>\n",
       "</div>"
      ],
      "text/plain": [
       "                                                fastq             libname  \\\n",
       "6   /tscc/projects/ps-yeolab5/hsher/ABC011_7_S7_R1...    K562_RBFOX2_rep1   \n",
       "7   /tscc/projects/ps-yeolab5/hsher/ABC011_8_S8_R1...    K562_RBFOX2_rep2   \n",
       "12  /tscc/projects/ps-yeolab5/hsher/ABC013_1_S28_R...  HEK293_RBFOX2_rep1   \n",
       "13  /tscc/projects/ps-yeolab5/hsher/ABC013_2_S29_R...  HEK293_RBFOX2_rep2   \n",
       "\n",
       "       experiment  \n",
       "6     K562_RBFOX2  \n",
       "7     K562_RBFOX2  \n",
       "12  HEK293_RBFOX2  \n",
       "13  HEK293_RBFOX2  "
      ]
     },
     "execution_count": 15,
     "metadata": {},
     "output_type": "execute_result"
    }
   ],
   "source": [
    "rbfox2_singleplex"
   ]
  },
  {
   "cell_type": "code",
   "execution_count": 16,
   "id": "f73d5f90-89f4-44ca-8a98-3fa4aa681e29",
   "metadata": {
    "tags": []
   },
   "outputs": [],
   "source": [
    "rbfox2_singleplex.loc[rbfox2_singleplex['experiment']=='K562_RBFOX2',['fastq', 'libname', 'experiment']].to_csv('/tscc/nfs/home/hsher/projects/oligoCLIP/config/fastq_csv/ABC_K562_RBFOX2_singleplex.csv')"
   ]
  },
  {
   "cell_type": "code",
   "execution_count": 17,
   "id": "3913c912-badb-4101-be09-46c217097f06",
   "metadata": {
    "tags": []
   },
   "outputs": [],
   "source": [
    "rbfox2_singleplex.loc[rbfox2_singleplex['experiment']=='HEK293_RBFOX2',['fastq', 'libname', 'experiment']].to_csv('/tscc/nfs/home/hsher/projects/oligoCLIP/config/fastq_csv/ABC_HEK293_RBFOX2_singleplex.csv')"
   ]
  },
  {
   "cell_type": "code",
   "execution_count": 18,
   "id": "d22cb0bb-c7be-4ddd-b506-73a37f024d02",
   "metadata": {
    "tags": []
   },
   "outputs": [],
   "source": [
    "slbp_singleplex = all_fastq_menifest.loc[all_fastq_menifest['libname'].str.contains('SLBP')]"
   ]
  },
  {
   "cell_type": "code",
   "execution_count": 19,
   "id": "14150947-a5ab-4135-b8d8-32cf95db0834",
   "metadata": {
    "tags": []
   },
   "outputs": [
    {
     "name": "stderr",
     "output_type": "stream",
     "text": [
      "/tscc/nfs/home/hsher/miniconda3/envs/Metadensity/lib/python3.7/site-packages/ipykernel_launcher.py:1: SettingWithCopyWarning: \n",
      "A value is trying to be set on a copy of a slice from a DataFrame.\n",
      "Try using .loc[row_indexer,col_indexer] = value instead\n",
      "\n",
      "See the caveats in the documentation: https://pandas.pydata.org/pandas-docs/stable/user_guide/indexing.html#returning-a-view-versus-a-copy\n",
      "  \"\"\"Entry point for launching an IPython kernel.\n"
     ]
    }
   ],
   "source": [
    "slbp_singleplex['experiment']='K562_SLBP'"
   ]
  },
  {
   "cell_type": "code",
   "execution_count": 20,
   "id": "316c5220-1673-4a09-a659-baf717c156a1",
   "metadata": {
    "tags": []
   },
   "outputs": [
    {
     "data": {
      "text/html": [
       "<div>\n",
       "<style scoped>\n",
       "    .dataframe tbody tr th:only-of-type {\n",
       "        vertical-align: middle;\n",
       "    }\n",
       "\n",
       "    .dataframe tbody tr th {\n",
       "        vertical-align: top;\n",
       "    }\n",
       "\n",
       "    .dataframe thead th {\n",
       "        text-align: right;\n",
       "    }\n",
       "</style>\n",
       "<table border=\"1\" class=\"dataframe\">\n",
       "  <thead>\n",
       "    <tr style=\"text-align: right;\">\n",
       "      <th></th>\n",
       "      <th>fastq</th>\n",
       "      <th>libname</th>\n",
       "      <th>experiment</th>\n",
       "    </tr>\n",
       "  </thead>\n",
       "  <tbody>\n",
       "    <tr>\n",
       "      <th>4</th>\n",
       "      <td>/tscc/projects/ps-yeolab5/hsher/ABC011_5_S5_R1...</td>\n",
       "      <td>K562_SLBP_rep1</td>\n",
       "      <td>K562_SLBP</td>\n",
       "    </tr>\n",
       "    <tr>\n",
       "      <th>5</th>\n",
       "      <td>/tscc/projects/ps-yeolab5/hsher/ABC011_6_S6_R1...</td>\n",
       "      <td>K562_SLBP_rep2</td>\n",
       "      <td>K562_SLBP</td>\n",
       "    </tr>\n",
       "  </tbody>\n",
       "</table>\n",
       "</div>"
      ],
      "text/plain": [
       "                                               fastq         libname  \\\n",
       "4  /tscc/projects/ps-yeolab5/hsher/ABC011_5_S5_R1...  K562_SLBP_rep1   \n",
       "5  /tscc/projects/ps-yeolab5/hsher/ABC011_6_S6_R1...  K562_SLBP_rep2   \n",
       "\n",
       "  experiment  \n",
       "4  K562_SLBP  \n",
       "5  K562_SLBP  "
      ]
     },
     "execution_count": 20,
     "metadata": {},
     "output_type": "execute_result"
    }
   ],
   "source": [
    "slbp_singleplex"
   ]
  },
  {
   "cell_type": "code",
   "execution_count": 21,
   "id": "34315afd-4064-41c6-ae47-0929f05888dd",
   "metadata": {
    "tags": []
   },
   "outputs": [],
   "source": [
    "slbp_singleplex[['fastq', 'libname', 'experiment']].to_csv('/tscc/nfs/home/hsher/projects/oligoCLIP/config/fastq_csv/ABC_SLBP_singleplex.csv')"
   ]
  },
  {
   "cell_type": "code",
   "execution_count": null,
   "id": "b5080f07-8009-440a-8016-77d2df1bc9a4",
   "metadata": {},
   "outputs": [],
   "source": []
  }
 ],
 "metadata": {
  "kernelspec": {
   "display_name": "Metadensity",
   "language": "python",
   "name": "metadensity"
  },
  "language_info": {
   "codemirror_mode": {
    "name": "ipython",
    "version": 3
   },
   "file_extension": ".py",
   "mimetype": "text/x-python",
   "name": "python",
   "nbconvert_exporter": "python",
   "pygments_lexer": "ipython3",
   "version": "3.7.12"
  }
 },
 "nbformat": 4,
 "nbformat_minor": 5
}
