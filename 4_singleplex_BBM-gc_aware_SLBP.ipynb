{
 "cells": [
  {
   "cell_type": "code",
   "execution_count": 1,
   "id": "b0318e20-be11-4202-8336-b30c6d589d9f",
   "metadata": {
    "tags": []
   },
   "outputs": [],
   "source": [
    "\n",
    "import sys\n",
    "import seaborn as sns\n",
    "import matplotlib.pyplot as plt\n",
    "import numpy as np\n",
    "import pandas as pd\n",
    "from pathlib import Path\n",
    "from scipy import stats\n",
    "\n",
    "from statsmodels.stats.multitest import fdrcorrection\n",
    "from scipy.stats import betabinom\n",
    "\n",
    "from plot_params import *\n",
    "from pybedtools import BedTool"
   ]
  },
  {
   "cell_type": "code",
   "execution_count": 2,
   "id": "b16b9c0c-d291-4cc1-833e-046ccaf46637",
   "metadata": {
    "tags": []
   },
   "outputs": [],
   "source": [
    "\n",
    "window_bed = BedTool('/tscc/projects/ps-yeolab4/software/skipper/1.0.0/bin/skipper/annotations/gencode.v38.annotation.k562_totalrna.gt1.tiled_partition.features.tsv.gz')\n",
    "window_df = pd.read_csv(window_bed.fn, sep = '\\t')\n",
    "\n",
    "pum_motif = pd.read_csv('/tscc/nfs/home/hsher/scratch/k562_window_pum2.homer.motif', sep = '\\t')\n",
    "pum_motif = pum_motif.loc[pum_motif['Motif Name']=='1-TGTATATA']\n",
    "pum_motif['windowstrand']=pum_motif['PositionID'].map(window_df.set_index('name')['strand'])\n",
    "pum_motif.dropna(inplace = True)\n",
    "pum_motif = pum_motif.loc[pum_motif['Strand']==pum_motif['windowstrand']]\n",
    "\n",
    "rbfox2_motif = pd.read_csv('/tscc/nfs/home/hsher/scratch/k562_window_rbfox2.homer.motif', sep = '\\t')\n",
    "rbfox2_motif = rbfox2_motif.loc[rbfox2_motif['Motif Name'].isin(\n",
    "    ['1-TGCATG', '2-GCATST', '3-AGCATG','8-TGCACA', '9-TGCACG']                                                            \n",
    ")\n",
    "]\n",
    "rbfox2_motif['windowstrand']=rbfox2_motif['PositionID'].map(window_df.set_index('name')['strand'])\n",
    "rbfox2_motif.dropna(inplace = True)\n",
    "rbfox2_motif = rbfox2_motif.loc[rbfox2_motif['Strand']==rbfox2_motif['windowstrand']]\n"
   ]
  },
  {
   "cell_type": "code",
   "execution_count": 3,
   "id": "13decd77-c3c1-4cf0-bdd6-2bced0c80d28",
   "metadata": {
    "tags": []
   },
   "outputs": [
    {
     "data": {
      "text/plain": [
       "EIF3G         213\n",
       "ZC3H11A      4722\n",
       "PUM2         7147\n",
       "RBFOX2      12206\n",
       "DDX3        12334\n",
       "LIN28B      26668\n",
       "IGF2BP2     28834\n",
       "SF3B4       44025\n",
       "FAM120A     50622\n",
       "PRPF8      102243\n",
       "dtype: int64"
      ]
     },
     "execution_count": 3,
     "metadata": {},
     "output_type": "execute_result"
    }
   ],
   "source": [
    "# eCLIP binding sites\n",
    "ground_truth_skipper = pd.read_csv('ABC_K562.skipper_reproducible_window.csv',\n",
    "                          index_col = 0)\n",
    "ground_truth_skipper.rename({'DDX3X':'DDX3'}, axis = 1, inplace = True)\n",
    "ground_truth_skipper.sum().sort_values()"
   ]
  },
  {
   "cell_type": "code",
   "execution_count": 4,
   "id": "ea809adb-09bf-474b-93ab-ca8994b1c5a0",
   "metadata": {
    "tags": []
   },
   "outputs": [],
   "source": [
    "basedir=Path('/tscc/nfs/home/hsher/ps-yeolab5/Dan_ABC_singleplex_SLBP')"
   ]
  },
  {
   "cell_type": "code",
   "execution_count": 5,
   "id": "80d9c063-a881-41df-86dc-b1672662206b",
   "metadata": {
    "tags": []
   },
   "outputs": [],
   "source": [
    "def is_goldstandard(row):\n",
    "    return ('UTR3' in row['feature_types'] or 'CDS_STOP' in row['feature_types']) and (\n",
    "        row['gene_name'].startswith('H1') or row['gene_name'].startswith('H2') or\n",
    "        row['gene_name'].startswith('H3') or row['gene_name'].startswith('H4'))\n",
    "        "
   ]
  },
  {
   "cell_type": "code",
   "execution_count": 6,
   "id": "c9457ebe-8967-4e68-b4ad-26e60168f927",
   "metadata": {},
   "outputs": [],
   "source": [
    "# find all files\n",
    "beta_external = list(basedir.glob('beta-mixture_external/*/*window_score.tsv'))"
   ]
  },
  {
   "cell_type": "code",
   "execution_count": 7,
   "id": "3cad1a2a-988a-4bda-83ce-e865476c19db",
   "metadata": {},
   "outputs": [],
   "source": [
    "def accuracy_among_topk(score, truth, k):\n",
    "    indicies = score.sort_values(ascending = False).iloc[:k].index\n",
    "    return truth.loc[indicies].mean()\n"
   ]
  },
  {
   "cell_type": "code",
   "execution_count": 8,
   "id": "14bfa532-e7d9-4fbe-b916-ce93d643ad67",
   "metadata": {
    "tags": []
   },
   "outputs": [],
   "source": [
    "cdict = dict(zip(['oligoCLIP_ctrlSpike_rep1', 'oligoCLIP_ctrlSpike_rep2',\n",
    "       'oligoCLIP_ctrlBead_rep1', 'oligoCLIP_ctrlBead_rep2',\n",
    "                  'oligoCLIP_IgG_rep2','oligoCLIP_IgG_rep1',\n",
    "       'eCLIP_SLBP_SMInput', 'ABC_K562_summed'\n",
    "       , 'K562_totalRNAseq'],\n",
    "        \n",
    "                 ['tomato', 'red',\n",
    "                  'gold', 'orange', \n",
    "                  'seagreen', 'limegreen',\n",
    "                  'grey', \n",
    "                  'orchid', \n",
    "                  'royalblue']\n",
    "                ))"
   ]
  },
  {
   "cell_type": "code",
   "execution_count": 9,
   "id": "bcafc9f7-b5fe-43e3-963b-84bcc1de68a3",
   "metadata": {},
   "outputs": [],
   "source": [
    "rename_dict = {'K562_totalRNAseq': 'totalRNAseq',\n",
    "               'eCLIP_SLBP_SMInput': 'eCLIP_SMInput', \n",
    "                       'oligoCLIP_IgG_rep1': 'Barcode-IgG', \n",
    "               'oligoCLIP_ctrlBead_rep1': 'Bead-only control',\n",
    "                       'oligoCLIP_ctrlSpike_rep1':'Spike-in',\n",
    "               'oligoCLIP_IgG_rep2': 'Barcode-IgG', \n",
    "               'oligoCLIP_ctrlBead_rep2': 'Bead-only control',\n",
    "                       'oligoCLIP_ctrlSpike_rep2':'Spike-in',\n",
    "               'ABC_K562_summed': 'Sum of multiplex',\n",
    "               'ABC_K562_summed_rep4': 'Sum of multiplex'\n",
    "              }"
   ]
  },
  {
   "cell_type": "code",
   "execution_count": 10,
   "id": "e6f348cc-e00d-4fe7-804a-5b1ed81e93f5",
   "metadata": {
    "tags": []
   },
   "outputs": [],
   "source": [
    "from sklearn.metrics import precision_recall_curve\n",
    "from sklearn.metrics import auc\n",
    "from collections import OrderedDict\n",
    "stat = []\n",
    "topk = []\n",
    "cnts = []\n",
    "cnts_eclip = []\n",
    "skipper_cnts = []\n",
    "\n",
    "######## BBM #######\n",
    "for file in beta_external:\n",
    "    rep = file.name.split('.')[0]\n",
    "    ctrl = rename_dict[file.parent.name]\n",
    "    \n",
    "    df = pd.read_csv(file, sep = '\\t')\n",
    "\n",
    "    # annotation truth\n",
    "    df['is_histone']=df.apply(is_goldstandard, axis = 1)\n",
    "    \n",
    "    try:\n",
    "        df['composite_score']=(-np.log(df['pvalue']+1e-5)).fillna(0)+df['logLR'].fillna(0)\n",
    "    except:\n",
    "        try:\n",
    "            df['composite_score']=(-np.log(df['pvalue']+1e-5)).fillna(0)\n",
    "        except:\n",
    "            df['composite_score'] = df['logLR'].fillna(-100)\n",
    "    \n",
    "    df['composite_score'] = df['composite_score'].replace(-np.inf, -100)\n",
    "    \n",
    "    # AUPRC: motif\n",
    "    precision, recall, thresholds = precision_recall_curve(df['is_histone'], \n",
    "                                                        df['composite_score'])\n",
    "    \n",
    "    auprc = auc(recall, precision)\n",
    "    \n",
    "    stat.append([rep, ctrl, auprc, 'Histone', 'BBM'])\n",
    "    \n",
    "    \n",
    "\n",
    "    pivot = df.groupby(by = ['enriched', 'is_histone']).count()['name']\n",
    "    pivot.name = ctrl+'.'+rep\n",
    "    cnts.append(pivot)\n",
    "    \n",
    "    pivot = df.groupby(by = ['enriched', 'is_histone']).count()['name']\n",
    "    pivot.name = ctrl+'.'+rep\n",
    "    cnts_eclip.append(pivot)\n",
    "\n",
    "    for k in [10,100,1000]:\n",
    "        acc_motif = accuracy_among_topk(df['composite_score'], df['is_histone'], k)\n",
    "        \n",
    "        topk.append([rep, ctrl, k, acc_motif, 'BBM'])\n",
    "\n",
    "\n",
    "######## SKIPPER #######\n",
    "skipper_external = list(basedir.glob('skipper_external/*/tested_windows/*.tested_windows.tsv.gz'))\n",
    "window_df = pd.read_csv('/tscc/projects/ps-yeolab4/software/skipper/1.0.0/bin/skipper/annotations/gencode.v38.annotation.k562_totalrna.gt1.tiled_partition.features.tsv.gz', sep = '\\t')\n",
    "for f in skipper_external:\n",
    "    rep = f.name.split('.')[0]\n",
    "    ctrl = rename_dict[file.parent.name]\n",
    "    df = pd.read_csv(f, sep = '\\t')\n",
    "    df['feature_types']=df['name'].map(window_df.set_index('name')['feature_types'])\n",
    "    df['gene_name']=df['name'].map(window_df.set_index('name')['gene_name'])      \n",
    "    iteration = str(f).split('/')[4]\n",
    "    background = 'CC' if 'CC' in str(f) else 'IgG'\n",
    "    exp = f.name.split('.')[0]\n",
    "    if df.shape[0]>0:\n",
    "        \n",
    "        \n",
    "        df['pvalue'].fillna(1)\n",
    "        df['is_histone']=df.apply(is_goldstandard, axis = 1)\n",
    "        \n",
    "        precision, recall, thresholds = precision_recall_curve(df['is_histone'], \n",
    "                                                        -df['pvalue'])\n",
    "        auprc = auc(recall, precision)\n",
    "        stat.append([rep, ctrl, auprc, 'Histone', 'Skipper'])\n",
    "        \n",
    "        \n",
    "        \n",
    "        \n",
    "        \n",
    "        \n",
    "        df['enriched']=df['qvalue'].le(0.2)\n",
    "        pivot = df.groupby(by = ['enriched', 'is_histone']).count()['name']\n",
    "        pivot.name = ctrl+'.'+rep\n",
    "        skipper_cnts.append(pivot)\n",
    "        \n",
    "\n",
    "        for k in [10,100,1000]:\n",
    "            acc_motif = accuracy_among_topk(-df['pvalue'], df['is_histone'], k)\n",
    "            \n",
    "            topk.append([rep, ctrl, k, acc_motif, 'Skipper'])\n",
    "        \n",
    "\n",
    "\n",
    "cnts=pd.concat(cnts,axis = 1).fillna(0)\n",
    "cnts_eclip=pd.concat(cnts_eclip,axis = 1).fillna(0)\n",
    "stat = pd.DataFrame(stat, columns = ['rep', 'ctrl', 'AUPRC', 'Label', 'Algorithm'])\n",
    "topk = pd.DataFrame(topk, columns = ['rep', 'ctrl', 'k', 'topk(histone)',  'Algorithm'])"
   ]
  },
  {
   "cell_type": "code",
   "execution_count": 11,
   "id": "984d00da-f64a-46cb-a64d-63d39c910675",
   "metadata": {},
   "outputs": [],
   "source": [
    "# sns.boxplot(stat, y = 'AUPRC', x = 'ctrl', hue = 'Label')"
   ]
  },
  {
   "cell_type": "code",
   "execution_count": 13,
   "id": "3ae5b19f-e0aa-43bc-a736-b062f222d3e2",
   "metadata": {},
   "outputs": [
    {
     "data": {
      "image/png": "[encoded data removed]",
      "text/plain": [
       "<Figure size 648x216 with 3 Axes>"
      ]
     },
     "metadata": {},
     "output_type": "display_data"
    }
   ],
   "source": [
    "palette = {'BBM': 'magenta',\n",
    "           'Skipper': 'lightgrey'\n",
    "          }\n",
    "order = ['eCLIP_SMInput', 'Spike-in', 'Barcode-IgG', 'Bead-only control', 'Sum of multiplex',\n",
    "         'totalRNAseq']\n",
    "f, axes = plt.subplots(1,3, figsize = (9,3),sharey = True, sharex = 'col')\n",
    "for i, (name, group) in enumerate(topk.groupby(by = 'k')):\n",
    "    if i ==2:\n",
    "        legend = True\n",
    "    else:\n",
    "        legend = False\n",
    "    sns.boxplot(group, x = 'topk(histone)', y = 'ctrl', ax = axes[i], hue = 'Algorithm',\n",
    "               palette = palette, order = order)\n",
    "    \n",
    "    axes[i].set_xlabel(f'Top {name} Accuracy')\n",
    "    \n",
    "    axes[i].set_title(f'Truth=Histone 3UTR')\n",
    "    \n",
    "_ = [ax.set_ylabel('') for ax in axes.flatten()]\n",
    "_ = [ax.get_legend().remove() for ax in axes.flatten()[:-1]]\n",
    "sns.despine()\n",
    "plt.savefig(figdir / 'topk_singleplex_SLBP.pdf')"
   ]
  },
  {
   "cell_type": "code",
   "execution_count": null,
   "id": "c8692bc7-950b-4750-aee2-2f2452bff6d1",
   "metadata": {},
   "outputs": [],
   "source": []
  }
 ],
 "metadata": {
  "kernelspec": {
   "display_name": "my_metadensity",
   "language": "python",
   "name": "my_metadensity"
  },
  "language_info": {
   "codemirror_mode": {
    "name": "ipython",
    "version": 3
   },
   "file_extension": ".py",
   "mimetype": "text/x-python",
   "name": "python",
   "nbconvert_exporter": "python",
   "pygments_lexer": "ipython3",
   "version": "3.7.12"
  }
 },
 "nbformat": 4,
 "nbformat_minor": 5
}
