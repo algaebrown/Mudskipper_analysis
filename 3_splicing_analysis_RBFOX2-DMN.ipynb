{
 "cells": [
  {
   "cell_type": "code",
   "execution_count": 1,
   "id": "9b287c6c",
   "metadata": {
    "tags": []
   },
   "outputs": [],
   "source": [
    "from pybedtools import BedTool\n",
    "import pandas as pd\n",
    "import numpy as np\n",
    "from scipy.stats import chisquare\n",
    "\n",
    "import os\n",
    "from pathlib import Path\n",
    "import sys\n",
    "data_dir = Path('/home/hsher/projects/oligo_results/Final_published_figures')\n",
    "sys.path.append(str(data_dir))\n",
    "\n",
    "from plot_params import *\n",
    "\n",
    "\n",
    "# load all splicing data\n",
    "regions_dict = {}\n",
    "for group in ['in', 'ex', 'ctrl']:\n",
    "    regions = []\n",
    "    # (ce, ue, de, fiu, fid)\n",
    "    for region in ['casette', 'exon5', 'exon3', 'intron5_to_casette', 'intron3_to_casette']:\n",
    "    \n",
    "        bedfile = BedTool(data_dir/f'data/rbfox2_splicing_data/HEK293T.{group}.{region}.bed')\n",
    "        \n",
    "        regions_dict[group, region] = bedfile"
   ]
  },
  {
   "cell_type": "code",
   "execution_count": 2,
   "id": "2db3b404",
   "metadata": {
    "tags": []
   },
   "outputs": [],
   "source": [
    "# find peaks\n",
    "basedir = Path('/home/hsher/scratch/ABC_2rep/beta-mixture_CC/finemapping/mapped_sites/CITS')\n",
    "basedir2 = Path('/home/hsher/scratch/ABC_2rep/DMM/finemapping/mapped_sites/CITS')\n"
   ]
  },
  {
   "cell_type": "code",
   "execution_count": 3,
   "id": "60d71264",
   "metadata": {
    "tags": []
   },
   "outputs": [],
   "source": [
    "peak = BedTool(basedir/'HEK293_rep1.RBFOX2.finemapped_windows.bed.gz')"
   ]
  },
  {
   "cell_type": "code",
   "execution_count": 4,
   "id": "c25cee49-15d9-4b8e-999f-4d0c16b50c0b",
   "metadata": {
    "tags": []
   },
   "outputs": [],
   "source": [
    "peak2 = BedTool(basedir2/'HEK293_rep1.RBFOX2.finemapped_windows.bed.gz')"
   ]
  },
  {
   "cell_type": "code",
   "execution_count": 5,
   "id": "d18519e1",
   "metadata": {
    "tags": []
   },
   "outputs": [
    {
     "name": "stdout",
     "output_type": "stream",
     "text": [
      "/home/hsher/scratch/ABC_2rep/beta-mixture_CC/finemapping/mapped_sites/CITS/HEK293_rep1.RBFOX2.finemapped_windows.bed.gz\n",
      "/home/hsher/scratch/ABC_2rep/beta-mixture_CC/finemapping/mapped_sites/CITS/HEK293_rep2.RBFOX2.finemapped_windows.bed.gz\n"
     ]
    }
   ],
   "source": [
    "data = []\n",
    "for peak_file in basedir.glob(\"HEK*RBFOX2*.bed.gz\"):\n",
    "    peak = BedTool(peak_file)\n",
    "    print(peak_file)\n",
    "    libname = peak_file.name.split('.')[0]\n",
    "    \n",
    "    for key in regions_dict:\n",
    "        region_bed = regions_dict[key]\n",
    "        group, region = key\n",
    "        \n",
    "        n_region_has_peak = len(region_bed.intersect(peak, s = True, F = 0.5, u = True))\n",
    "        n_region_no_peak = len(region_bed.intersect(peak, s = True, F = 0.5, v = True))\n",
    "        \n",
    "        data.append([libname, group, region, n_region_has_peak, n_region_no_peak])\n",
    "data = pd.DataFrame(data, columns = ['libname', 'group', 'region', 'bound', 'not_bound'])"
   ]
  },
  {
   "cell_type": "markdown",
   "id": "2446e721-f2b1-4070-834a-10c7c8f99844",
   "metadata": {},
   "source": [
    "dmm_data"
   ]
  },
  {
   "cell_type": "code",
   "execution_count": 6,
   "id": "dc611e76-bddc-4a2e-b37a-b5d08502c94c",
   "metadata": {
    "tags": []
   },
   "outputs": [
    {
     "name": "stdout",
     "output_type": "stream",
     "text": [
      "/home/hsher/scratch/ABC_2rep/DMM/finemapping/mapped_sites/CITS/HEK293_rep1.RBFOX2.finemapped_windows.bed.gz\n",
      "/home/hsher/scratch/ABC_2rep/DMM/finemapping/mapped_sites/CITS/HEK293_rep2.RBFOX2.finemapped_windows.bed.gz\n"
     ]
    }
   ],
   "source": [
    "dmm_data = []\n",
    "for peak_file in basedir2.glob(\"HEK*RBFOX2*.bed.gz\"):\n",
    "    peak = BedTool(peak_file)\n",
    "    print(peak_file)\n",
    "    libname = peak_file.name.split('.')[0]\n",
    "    \n",
    "    for key in regions_dict:\n",
    "        region_bed = regions_dict[key]\n",
    "        group, region = key\n",
    "        \n",
    "        n_region_has_peak = len(region_bed.intersect(peak, s = True, F = 0.5, u = True))\n",
    "        n_region_no_peak = len(region_bed.intersect(peak, s = True, F = 0.5, v = True))\n",
    "        \n",
    "        dmm_data.append([libname, group, region, n_region_has_peak, n_region_no_peak])\n",
    "dmm_data = pd.DataFrame(dmm_data, columns = ['libname', 'group', 'region', 'bound', 'not_bound'])"
   ]
  },
  {
   "cell_type": "code",
   "execution_count": 7,
   "id": "b580a47b",
   "metadata": {
    "tags": []
   },
   "outputs": [],
   "source": [
    "clipper_data = []\n",
    "clipper_files = Path('/projects/ps-yeolab5/ABC_chisq_peaks/').glob('Dan_multiplex1_HEK*/*RBFOX2*compressed.bed')\n",
    "for peak_file in clipper_files:\n",
    "    peak = BedTool(peak_file).filter(lambda x: float(x[3])>3 and float(x[4])>3).saveas()\n",
    "    libname = str(peak_file).split('/')[-2].replace('Dan_multiplex1_', '')\n",
    "    \n",
    "    for key in regions_dict:\n",
    "        region_bed = regions_dict[key]\n",
    "        group, region = key\n",
    "        \n",
    "        n_region_has_peak = len(region_bed.intersect(peak, s = True, F = 0.5, u = True))\n",
    "        n_region_no_peak = len(region_bed.intersect(peak, s = True, F = 0.5, v = True))\n",
    "        \n",
    "        clipper_data.append([libname, group, region, n_region_has_peak, n_region_no_peak])\n",
    "clipper_data = pd.DataFrame(clipper_data, columns = ['libname', 'group', 'region', 'bound', 'not_bound'])"
   ]
  },
  {
   "cell_type": "code",
   "execution_count": 8,
   "id": "f917dce2",
   "metadata": {
    "tags": []
   },
   "outputs": [],
   "source": [
    "col = ['libname', 'group', 'region']\n",
    "all_counts = clipper_data.merge(data, left_on = col, right_on = col, suffixes = ('_clipper', '_beta-binom_mixture'))\n",
    "all_counts = all_counts.merge(dmm_data, left_on = col, right_on = col)\n",
    "all_counts.rename({'bound':'bound_dmm', 'not_bound':'not_bound_dmm'}, axis = 1, inplace = True)"
   ]
  },
  {
   "cell_type": "code",
   "execution_count": 9,
   "id": "02a5c105-8edd-4257-81a5-7246c0f176f6",
   "metadata": {
    "tags": []
   },
   "outputs": [
    {
     "data": {
      "text/html": [
       "<div>\n",
       "<style scoped>\n",
       "    .dataframe tbody tr th:only-of-type {\n",
       "        vertical-align: middle;\n",
       "    }\n",
       "\n",
       "    .dataframe tbody tr th {\n",
       "        vertical-align: top;\n",
       "    }\n",
       "\n",
       "    .dataframe thead th {\n",
       "        text-align: right;\n",
       "    }\n",
       "</style>\n",
       "<table border=\"1\" class=\"dataframe\">\n",
       "  <thead>\n",
       "    <tr style=\"text-align: right;\">\n",
       "      <th></th>\n",
       "      <th>libname</th>\n",
       "      <th>group</th>\n",
       "      <th>region</th>\n",
       "      <th>bound_clipper</th>\n",
       "      <th>not_bound_clipper</th>\n",
       "      <th>bound_beta-binom_mixture</th>\n",
       "      <th>not_bound_beta-binom_mixture</th>\n",
       "      <th>bound_dmm</th>\n",
       "      <th>not_bound_dmm</th>\n",
       "    </tr>\n",
       "  </thead>\n",
       "  <tbody>\n",
       "    <tr>\n",
       "      <th>0</th>\n",
       "      <td>HEK293_rep2</td>\n",
       "      <td>in</td>\n",
       "      <td>casette</td>\n",
       "      <td>6</td>\n",
       "      <td>144</td>\n",
       "      <td>3</td>\n",
       "      <td>147</td>\n",
       "      <td>4</td>\n",
       "      <td>146</td>\n",
       "    </tr>\n",
       "    <tr>\n",
       "      <th>1</th>\n",
       "      <td>HEK293_rep2</td>\n",
       "      <td>in</td>\n",
       "      <td>exon5</td>\n",
       "      <td>1</td>\n",
       "      <td>149</td>\n",
       "      <td>2</td>\n",
       "      <td>148</td>\n",
       "      <td>5</td>\n",
       "      <td>145</td>\n",
       "    </tr>\n",
       "    <tr>\n",
       "      <th>2</th>\n",
       "      <td>HEK293_rep2</td>\n",
       "      <td>in</td>\n",
       "      <td>exon3</td>\n",
       "      <td>2</td>\n",
       "      <td>148</td>\n",
       "      <td>4</td>\n",
       "      <td>146</td>\n",
       "      <td>5</td>\n",
       "      <td>145</td>\n",
       "    </tr>\n",
       "    <tr>\n",
       "      <th>3</th>\n",
       "      <td>HEK293_rep2</td>\n",
       "      <td>in</td>\n",
       "      <td>intron5_to_casette</td>\n",
       "      <td>5</td>\n",
       "      <td>141</td>\n",
       "      <td>11</td>\n",
       "      <td>135</td>\n",
       "      <td>14</td>\n",
       "      <td>132</td>\n",
       "    </tr>\n",
       "    <tr>\n",
       "      <th>4</th>\n",
       "      <td>HEK293_rep2</td>\n",
       "      <td>in</td>\n",
       "      <td>intron3_to_casette</td>\n",
       "      <td>3</td>\n",
       "      <td>143</td>\n",
       "      <td>5</td>\n",
       "      <td>141</td>\n",
       "      <td>5</td>\n",
       "      <td>141</td>\n",
       "    </tr>\n",
       "  </tbody>\n",
       "</table>\n",
       "</div>"
      ],
      "text/plain": [
       "       libname group              region  bound_clipper  not_bound_clipper  \\\n",
       "0  HEK293_rep2    in             casette              6                144   \n",
       "1  HEK293_rep2    in               exon5              1                149   \n",
       "2  HEK293_rep2    in               exon3              2                148   \n",
       "3  HEK293_rep2    in  intron5_to_casette              5                141   \n",
       "4  HEK293_rep2    in  intron3_to_casette              3                143   \n",
       "\n",
       "   bound_beta-binom_mixture  not_bound_beta-binom_mixture  bound_dmm  \\\n",
       "0                         3                           147          4   \n",
       "1                         2                           148          5   \n",
       "2                         4                           146          5   \n",
       "3                        11                           135         14   \n",
       "4                         5                           141          5   \n",
       "\n",
       "   not_bound_dmm  \n",
       "0            146  \n",
       "1            145  \n",
       "2            145  \n",
       "3            132  \n",
       "4            141  "
      ]
     },
     "execution_count": 9,
     "metadata": {},
     "output_type": "execute_result"
    }
   ],
   "source": [
    "all_counts.head()"
   ]
  },
  {
   "cell_type": "code",
   "execution_count": 10,
   "id": "c6d30ac7",
   "metadata": {
    "tags": []
   },
   "outputs": [],
   "source": [
    "reg_order = ['exon5', 'intron5_to_casette', 'casette', 'intron3_to_casette', 'exon3']"
   ]
  },
  {
   "cell_type": "code",
   "execution_count": 11,
   "id": "0e34c1b8",
   "metadata": {
    "tags": []
   },
   "outputs": [
    {
     "name": "stderr",
     "output_type": "stream",
     "text": [
      "/scratch/hsher/33888137.tscc-mgr7.local/ipykernel_33892/942692119.py:4: FutureWarning: The default value of numeric_only in DataFrameGroupBy.mean is deprecated. In a future version, numeric_only will default to False. Either specify numeric_only or select only columns which should be valid for the function.\n",
      "  group.groupby(by = ['region']).mean(\n",
      "/scratch/hsher/33888137.tscc-mgr7.local/ipykernel_33892/942692119.py:4: FutureWarning: The default value of numeric_only in DataFrameGroupBy.mean is deprecated. In a future version, numeric_only will default to False. Either specify numeric_only or select only columns which should be valid for the function.\n",
      "  group.groupby(by = ['region']).mean(\n",
      "/scratch/hsher/33888137.tscc-mgr7.local/ipykernel_33892/942692119.py:4: FutureWarning: The default value of numeric_only in DataFrameGroupBy.mean is deprecated. In a future version, numeric_only will default to False. Either specify numeric_only or select only columns which should be valid for the function.\n",
      "  group.groupby(by = ['region']).mean(\n",
      "/scratch/hsher/33888137.tscc-mgr7.local/ipykernel_33892/942692119.py:14: UserWarning: Tight layout not applied. The left and right margins cannot be made large enough to accommodate all axes decorations.\n",
      "  plt.tight_layout()\n"
     ]
    },
    {
     "data": {
      "image/png": "[encoded data removed]",
      "text/plain": [
       "<Figure size 144x360 with 3 Axes>"
      ]
     },
     "metadata": {
      "needs_background": "light"
     },
     "output_type": "display_data"
    }
   ],
   "source": [
    "f, ax = plt.subplots(3,1, figsize =(2,5), sharey = False, sharex = True)\n",
    "i = 0\n",
    "for name, group in all_counts.groupby(by = 'group'):\n",
    "    group.groupby(by = ['region']).mean(\n",
    "    ).loc[reg_order, ['bound_beta-binom_mixture', 'bound_dmm', 'bound_clipper']].plot.bar(\n",
    "        ax = ax[i], legend = False, color = ['mediumorchid', 'lightskyblue', 'lightgrey']\n",
    "    )\n",
    "    ax[i].set_title(name)\n",
    "    if i == 1:\n",
    "        ax[i].set_ylabel('#average bound region(2 reps)')\n",
    "    i+=1\n",
    "sns.despine()\n",
    "ax[i-1].legend(bbox_to_anchor = (1.2, 0.5))\n",
    "plt.tight_layout()\n",
    "plt.savefig(figdir/'RBFOX2_splicing_number.pdf')"
   ]
  },
  {
   "cell_type": "code",
   "execution_count": 12,
   "id": "4951d6cd",
   "metadata": {
    "tags": []
   },
   "outputs": [],
   "source": [
    "from scipy.stats import fisher_exact\n",
    "from scipy.stats import chisquare\n",
    "from statsmodels.stats.multitest import fdrcorrection\n",
    "def counts_to_stat(data):\n",
    "    stats = []\n",
    "    pseudocount = 1\n",
    "    for name, group in data.groupby(by = ['libname', 'region']):\n",
    "        \n",
    "        ctrl = group.loc[group['group']=='ctrl', ['bound', 'not_bound']].values\n",
    "        \n",
    "        for direction in ['in', 'ex']:\n",
    "            change = group.loc[group['group']==direction, ['bound', 'not_bound']].values\n",
    "\n",
    "\n",
    "            pv = np.concatenate([change, ctrl], axis = 0)\n",
    "            if np.any(pv<=5):\n",
    "                odds_ratio, pval = fisher_exact(pv+pseudocount, alternative = 'greater')\n",
    "            else:\n",
    "                chi, pval = chisquare(change[0], ctrl[0]/(ctrl[0].sum()/change[0].sum()))\n",
    "                odds_ratio = (change[0,0]/change[0,1])/(ctrl[0,0]/ctrl[0,1])\n",
    "\n",
    "                \n",
    "\n",
    "            stats.append([name[0], name[1], direction, odds_ratio, pval])\n",
    "    stats = pd.DataFrame(stats, columns = ['libname', 'region', 'direction', 'odds', 'pval'])\n",
    "    _, stats['FDR'] = fdrcorrection(stats['pval'])\n",
    "    stats['asterstick'] = stats['FDR'].apply(lambda p: '***' if p<1e-10\n",
    "                                                       else '**' if p<0.001 else\n",
    "                                                      '*' if p<0.05 else '')\n",
    "    return stats"
   ]
  },
  {
   "cell_type": "code",
   "execution_count": 13,
   "id": "4560362d",
   "metadata": {
    "tags": []
   },
   "outputs": [],
   "source": [
    "clipper_stat = counts_to_stat(clipper_data)\n",
    "stripper_stat = counts_to_stat(data)\n",
    "dmm_stat = counts_to_stat(dmm_data)"
   ]
  },
  {
   "cell_type": "code",
   "execution_count": 14,
   "id": "7300e827",
   "metadata": {
    "tags": []
   },
   "outputs": [],
   "source": [
    "clipper_stat['method'] = 'clipper'\n",
    "stripper_stat['method'] = 'Beta-binom Mixture'\n",
    "dmm_stat['method'] = 'Dirichlet-multinomial Mixture'"
   ]
  },
  {
   "cell_type": "code",
   "execution_count": 15,
   "id": "ac562995",
   "metadata": {
    "tags": []
   },
   "outputs": [],
   "source": [
    "stats = pd.concat([clipper_stat, stripper_stat, dmm_stat])"
   ]
  },
  {
   "cell_type": "code",
   "execution_count": 16,
   "id": "4c4d01c8",
   "metadata": {
    "tags": []
   },
   "outputs": [
    {
     "name": "stderr",
     "output_type": "stream",
     "text": [
      "/scratch/hsher/33888137.tscc-mgr7.local/ipykernel_33892/300115429.py:4: FutureWarning: In a future version of pandas, a length 1 tuple will be returned when iterating over a groupby with a grouper equal to a list of length 1. Don't supply a list with a single grouper to avoid this warning.\n",
      "  for name, group in stats.groupby(by = ['direction']):\n"
     ]
    },
    {
     "data": {
      "image/png": "[encoded data removed]",
      "text/plain": [
       "<Figure size 432x288 with 2 Axes>"
      ]
     },
     "metadata": {
      "needs_background": "light"
     },
     "output_type": "display_data"
    }
   ],
   "source": [
    "\n",
    "f, ax = plt.subplots(2,1, sharex = True, sharey = False)\n",
    "ax = ax.flatten(order = 'F')[::-1]\n",
    "i = 0\n",
    "for name, group in stats.groupby(by = ['direction']):\n",
    "    group.set_index('region', inplace = True)\n",
    "    group = group.loc[reg_order]\n",
    "    #group.loc[reg_order, 'odds'].plot.bar(ax = ax[i])\n",
    "    pv = pd.pivot_table(group, columns = 'region', index = ['method', 'libname'], values = 'odds').T\n",
    "    pv.loc[reg_order].plot.bar(\n",
    "    color = ['mediumorchid', 'orchid', 'lightskyblue', 'deepskyblue', 'lightgrey', 'grey'], ax = ax[i], legend = False)\n",
    "    \n",
    "    aster = pd.pivot_table(group, columns = 'region', index = ['method', 'libname'], values = 'asterstick', aggfunc = lambda x:x).T\n",
    "    for x, reg in enumerate(reg_order):\n",
    "        odds = pv.loc[reg]\n",
    "        ast = aster.loc[reg]\n",
    "        for yi, y in enumerate(odds):\n",
    "            \n",
    "            ax[i].text(x-0.2+yi/8, max(y*1.1, y+5), ast[yi],rotation = 'vertical')\n",
    "    ax[i].set_title(name)\n",
    "    ax[i].set_ylabel('Odds ratio')\n",
    "    i += 1\n",
    "ax[i-1].legend(bbox_to_anchor = (1.5,0.5))\n",
    "\n",
    "sns.despine()\n",
    "plt.savefig(figdir/'RBFOX2_splicing_odds.pdf')"
   ]
  }
 ],
 "metadata": {
  "kernelspec": {
   "display_name": "Metadensity",
   "language": "python",
   "name": "metadensity"
  },
  "language_info": {
   "codemirror_mode": {
    "name": "ipython",
    "version": 3
   },
   "file_extension": ".py",
   "mimetype": "text/x-python",
   "name": "python",
   "nbconvert_exporter": "python",
   "pygments_lexer": "ipython3",
   "version": "3.9.16"
  }
 },
 "nbformat": 4,
 "nbformat_minor": 5
}
