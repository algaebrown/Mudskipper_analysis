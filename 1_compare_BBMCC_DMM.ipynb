{
 "cells": [
  {
   "cell_type": "markdown",
   "id": "f2a41d4a-9a97-4884-80b0-b753790d6950",
   "metadata": {},
   "source": [
    "# Overlap beta-binomial mixture result with DMM\n",
    "- how much of beta-binom is captured by DMM\n",
    "- how much of DMM is captured by beta-binom\n",
    "- which cluster do beta-binom fall inside DMM?"
   ]
  },
  {
   "cell_type": "code",
   "execution_count": 1,
   "id": "b9bb4b20-12aa-4edb-a986-e33a71221f30",
   "metadata": {
    "tags": []
   },
   "outputs": [],
   "source": [
    "from pathlib import Path\n",
    "import pandas as pd\n",
    "import numpy as np\n",
    "from scipy import stats\n",
    "import seaborn as sns\n",
    "from pybedtools import BedTool\n",
    "from plot_params import *\n",
    "import matplotlib.pyplot as plt\n",
    "basedir = Path('/tscc/nfs/home/hsher/scratch/ABC_2rep')\n",
    "outstem='K562_rep6'"
   ]
  },
  {
   "cell_type": "code",
   "execution_count": 2,
   "id": "73ab7fb5-34a5-4dc1-9cc7-ed280f15e247",
   "metadata": {
    "tags": []
   },
   "outputs": [],
   "source": [
    "\n",
    "window_bed = BedTool('/tscc/projects/ps-yeolab4/software/skipper/1.0.0/bin/skipper/annotations/gencode.v38.annotation.k562_totalrna.gt1.tiled_partition.features.tsv.gz')\n",
    "window_df = pd.read_csv(window_bed.fn, sep = '\\t')\n"
   ]
  },
  {
   "cell_type": "markdown",
   "id": "88b1afed-128d-4de5-8c09-c7c047d42e18",
   "metadata": {},
   "source": [
    "# Some gold standards"
   ]
  },
  {
   "cell_type": "code",
   "execution_count": 3,
   "id": "86f8d9a5-a7a2-4572-bf38-a72bd2d057d4",
   "metadata": {
    "tags": []
   },
   "outputs": [],
   "source": [
    "\n",
    "window_bed = BedTool('/tscc/projects/ps-yeolab4/software/skipper/1.0.0/bin/skipper/annotations/gencode.v38.annotation.k562_totalrna.gt1.tiled_partition.features.tsv.gz')\n",
    "window_df = pd.read_csv(window_bed.fn, sep = '\\t')\n",
    "\n",
    "pum_motif = pd.read_csv('/tscc/nfs/home/hsher/scratch/k562_window_pum2.homer.motif', sep = '\\t')\n",
    "pum_motif = pum_motif.loc[pum_motif['Motif Name']=='1-TGTATATA']\n",
    "pum_motif['windowstrand']=pum_motif['PositionID'].map(window_df.set_index('name')['strand'])\n",
    "pum_motif.dropna(inplace = True)\n",
    "pum_motif = pum_motif.loc[pum_motif['Strand']==pum_motif['windowstrand']]\n",
    "\n",
    "rbfox2_motif = pd.read_csv('/tscc/nfs/home/hsher/scratch/k562_window_rbfox2.homer.motif', sep = '\\t')\n",
    "rbfox2_motif = rbfox2_motif.loc[rbfox2_motif['Motif Name'].isin(\n",
    "    ['1-TGCATG', '2-GCATST', '3-AGCATG','8-TGCACA', '9-TGCACG']                                                            \n",
    ")\n",
    "]\n",
    "rbfox2_motif['windowstrand']=rbfox2_motif['PositionID'].map(window_df.set_index('name')['strand'])\n",
    "rbfox2_motif.dropna(inplace = True)\n",
    "rbfox2_motif = rbfox2_motif.loc[rbfox2_motif['Strand']==rbfox2_motif['windowstrand']]\n"
   ]
  },
  {
   "cell_type": "code",
   "execution_count": 4,
   "id": "57215f38-4aa3-4027-b1af-63817b2e4c20",
   "metadata": {
    "tags": []
   },
   "outputs": [
    {
     "data": {
      "text/plain": [
       "EIF3G         213\n",
       "ZC3H11A      4722\n",
       "PUM2         7147\n",
       "RBFOX2      12206\n",
       "DDX3        12334\n",
       "LIN28B      26668\n",
       "IGF2BP2     28834\n",
       "SF3B4       44025\n",
       "FAM120A     50622\n",
       "PRPF8      102243\n",
       "dtype: int64"
      ]
     },
     "execution_count": 4,
     "metadata": {},
     "output_type": "execute_result"
    }
   ],
   "source": [
    "ground_truth_skipper = pd.read_csv('ABC_K562.skipper_reproducible_window.csv',\n",
    "                          index_col = 0)\n",
    "ground_truth_skipper.rename({'DDX3X':'DDX3'}, axis = 1, inplace = True)\n",
    "ground_truth_skipper.sum().sort_values()"
   ]
  },
  {
   "cell_type": "markdown",
   "id": "c828285b-a55d-4b19-8f95-2810a73f12c3",
   "metadata": {},
   "source": [
    "# Overlap between the two"
   ]
  },
  {
   "cell_type": "code",
   "execution_count": 5,
   "id": "ea995c6e-ccd4-4b77-8684-d893b8839378",
   "metadata": {
    "tags": []
   },
   "outputs": [],
   "source": [
    "def read_beta_and_dmm_enriched_windows(outstem, rbp, fc_raw_thres = None):\n",
    "    beta_df = pd.read_csv(basedir / 'beta-mixture_CC'/ f'{outstem}.{rbp}.window_score.tsv',\n",
    "                          sep = '\\t', index_col = 0)\n",
    "    dmm_df = pd.read_csv(basedir / 'DMM' / f'{outstem}.megaoutputs.tsv',\n",
    "                         sep = '\\t', index_col = 0)\n",
    "    if fc_raw_thres is None:\n",
    "        dmm_df['is_dmm']=dmm_df[f'{outstem}.{rbp}']\n",
    "    else:\n",
    "        dmm_df['is_dmm']=(dmm_df[f'{outstem}.{rbp}'])&(dmm_df[f'fc_raw:{outstem}.{rbp}'].ge(fc_raw_thres))\n",
    "    dmm_df['is_beta']=beta_df.set_index('name')['enriched']\n",
    "    dmm_df['is_eclip']=dmm_df['name'].isin(ground_truth_skipper.loc[ground_truth_skipper[rbp]].index)\n",
    "    return dmm_df"
   ]
  },
  {
   "cell_type": "code",
   "execution_count": 22,
   "id": "952048d7-dd1a-44a0-81a2-b62d84a2a905",
   "metadata": {
    "tags": []
   },
   "outputs": [
    {
     "name": "stdout",
     "output_type": "stream",
     "text": [
      "is_pum_motif       False      True\n",
      "is_dmm is_beta                    \n",
      "False  False    0.990666  0.009334\n",
      "       True     1.000000       NaN\n",
      "True   False    0.929515  0.070485\n",
      "       True     0.846626  0.153374\n",
      "is_eclip           False      True\n",
      "is_dmm is_beta                    \n",
      "False  False    0.971024  0.028976\n",
      "       True     0.945055  0.054945\n",
      "True   False    0.632893  0.367107\n",
      "       True     0.380368  0.619632\n"
     ]
    },
    {
     "data": {
      "image/png": "[encoded data removed]",
      "text/plain": [
       "<Figure size 288x288 with 2 Axes>"
      ]
     },
     "metadata": {},
     "output_type": "display_data"
    }
   ],
   "source": [
    "\n",
    "rbp='PUM2'\n",
    "dmm=read_beta_and_dmm_enriched_windows(outstem, rbp, fc_raw_thres = None)\n",
    "dmm['is_pum_motif']=dmm['name'].isin(pum_motif['PositionID'])\n",
    "\n",
    "f, ax = plt.subplots(1,2, figsize = (4,4), sharey = True)\n",
    "\n",
    "cnt = dmm.groupby(by = ['is_dmm', 'is_beta'])['is_pum_motif'].value_counts().unstack()\n",
    "print(cnt.div(cnt.sum(axis = 1), axis = 0))\n",
    "dmm.groupby(by = ['is_dmm', 'is_beta'])['is_pum_motif'].value_counts().unstack().iloc[1:].plot.bar(\n",
    "    stacked = True, ax = ax[0])\n",
    "ax[0].set_xticks([0,1,2])\n",
    "ax[0].set_xticklabels(['BBM+CC only', 'DMM only', 'Both'])\n",
    "ax[0].legend(title = 'contains \\n PUM2 motif', loc = 'upper right')\n",
    "\n",
    "cnt = dmm.groupby(by = ['is_dmm', 'is_beta'])['is_eclip'].value_counts().unstack()\n",
    "print(cnt.div(cnt.sum(axis = 1), axis = 0))\n",
    "dmm.groupby(by = ['is_dmm', 'is_beta'])['is_eclip'].value_counts().unstack(\n",
    ").iloc[1:].plot.bar(stacked = True, ax = ax[1])\n",
    "ax[1].set_xticks([0,1,2])\n",
    "ax[1].set_xticklabels(['BBM+CC only', 'DMM only', 'Both'])\n",
    "ax[0].set_ylabel('Number enriched windows')\n",
    "_ = [a.set_xlabel('') for a in ax]\n",
    "ax[1].legend(title = 'overlaps \\n eCLIP', loc = 'upper right')\n",
    "sns.despine()\n",
    "plt.tight_layout()\n",
    "#plt.subplots_adjust(left=1.5, right = 1.5)\n",
    "plt.savefig(figdir/'PUM2_compare_betaDMM.pdf')\n"
   ]
  },
  {
   "cell_type": "code",
   "execution_count": 7,
   "id": "80cf4d06-fd3f-4e33-9f6c-25316808eb1a",
   "metadata": {
    "tags": []
   },
   "outputs": [],
   "source": [
    "cluster_anno = pd.read_csv(basedir / 'DMM' / f'{outstem}.cluster_summary.csv', index_col = 0)"
   ]
  },
  {
   "cell_type": "code",
   "execution_count": 8,
   "id": "a9e18771-35db-43f0-a65e-fd8ffd887f85",
   "metadata": {
    "tags": []
   },
   "outputs": [
    {
     "data": {
      "text/html": [
       "<div>\n",
       "<style scoped>\n",
       "    .dataframe tbody tr th:only-of-type {\n",
       "        vertical-align: middle;\n",
       "    }\n",
       "\n",
       "    .dataframe tbody tr th {\n",
       "        vertical-align: top;\n",
       "    }\n",
       "\n",
       "    .dataframe thead tr th {\n",
       "        text-align: left;\n",
       "    }\n",
       "\n",
       "    .dataframe thead tr:last-of-type th {\n",
       "        text-align: right;\n",
       "    }\n",
       "</style>\n",
       "<table border=\"1\" class=\"dataframe\">\n",
       "  <thead>\n",
       "    <tr>\n",
       "      <th>is_dmm</th>\n",
       "      <th>False</th>\n",
       "      <th colspan=\"2\" halign=\"left\">True</th>\n",
       "    </tr>\n",
       "    <tr>\n",
       "      <th>is_beta</th>\n",
       "      <th>True</th>\n",
       "      <th>False</th>\n",
       "      <th>True</th>\n",
       "    </tr>\n",
       "    <tr>\n",
       "      <th>cluster</th>\n",
       "      <th></th>\n",
       "      <th></th>\n",
       "      <th></th>\n",
       "    </tr>\n",
       "  </thead>\n",
       "  <tbody>\n",
       "    <tr>\n",
       "      <th>V1</th>\n",
       "      <td>0.0</td>\n",
       "      <td>4.0</td>\n",
       "      <td>0.0</td>\n",
       "    </tr>\n",
       "    <tr>\n",
       "      <th>V10</th>\n",
       "      <td>0.0</td>\n",
       "      <td>1.0</td>\n",
       "      <td>0.0</td>\n",
       "    </tr>\n",
       "    <tr>\n",
       "      <th>V11</th>\n",
       "      <td>0.0</td>\n",
       "      <td>14.0</td>\n",
       "      <td>1.0</td>\n",
       "    </tr>\n",
       "    <tr>\n",
       "      <th>V12</th>\n",
       "      <td>0.0</td>\n",
       "      <td>65.0</td>\n",
       "      <td>0.0</td>\n",
       "    </tr>\n",
       "    <tr>\n",
       "      <th>V13</th>\n",
       "      <td>0.0</td>\n",
       "      <td>26.0</td>\n",
       "      <td>13.0</td>\n",
       "    </tr>\n",
       "    <tr>\n",
       "      <th>V14</th>\n",
       "      <td>0.0</td>\n",
       "      <td>4.0</td>\n",
       "      <td>0.0</td>\n",
       "    </tr>\n",
       "    <tr>\n",
       "      <th>V15</th>\n",
       "      <td>0.0</td>\n",
       "      <td>13.0</td>\n",
       "      <td>1.0</td>\n",
       "    </tr>\n",
       "    <tr>\n",
       "      <th>V16</th>\n",
       "      <td>0.0</td>\n",
       "      <td>19.0</td>\n",
       "      <td>4.0</td>\n",
       "    </tr>\n",
       "    <tr>\n",
       "      <th>V17</th>\n",
       "      <td>0.0</td>\n",
       "      <td>4.0</td>\n",
       "      <td>0.0</td>\n",
       "    </tr>\n",
       "    <tr>\n",
       "      <th>V18</th>\n",
       "      <td>0.0</td>\n",
       "      <td>6.0</td>\n",
       "      <td>0.0</td>\n",
       "    </tr>\n",
       "    <tr>\n",
       "      <th>V19</th>\n",
       "      <td>0.0</td>\n",
       "      <td>3.0</td>\n",
       "      <td>0.0</td>\n",
       "    </tr>\n",
       "    <tr>\n",
       "      <th>V2</th>\n",
       "      <td>0.0</td>\n",
       "      <td>22.0</td>\n",
       "      <td>0.0</td>\n",
       "    </tr>\n",
       "    <tr>\n",
       "      <th>V20</th>\n",
       "      <td>0.0</td>\n",
       "      <td>1.0</td>\n",
       "      <td>0.0</td>\n",
       "    </tr>\n",
       "    <tr>\n",
       "      <th>V21</th>\n",
       "      <td>0.0</td>\n",
       "      <td>4.0</td>\n",
       "      <td>1.0</td>\n",
       "    </tr>\n",
       "    <tr>\n",
       "      <th>V22</th>\n",
       "      <td>0.0</td>\n",
       "      <td>4.0</td>\n",
       "      <td>0.0</td>\n",
       "    </tr>\n",
       "    <tr>\n",
       "      <th>V23</th>\n",
       "      <td>0.0</td>\n",
       "      <td>37.0</td>\n",
       "      <td>10.0</td>\n",
       "    </tr>\n",
       "    <tr>\n",
       "      <th>V24</th>\n",
       "      <td>0.0</td>\n",
       "      <td>2.0</td>\n",
       "      <td>0.0</td>\n",
       "    </tr>\n",
       "    <tr>\n",
       "      <th>V25</th>\n",
       "      <td>0.0</td>\n",
       "      <td>3.0</td>\n",
       "      <td>0.0</td>\n",
       "    </tr>\n",
       "    <tr>\n",
       "      <th>V26</th>\n",
       "      <td>0.0</td>\n",
       "      <td>13.0</td>\n",
       "      <td>0.0</td>\n",
       "    </tr>\n",
       "    <tr>\n",
       "      <th>V27</th>\n",
       "      <td>0.0</td>\n",
       "      <td>1.0</td>\n",
       "      <td>0.0</td>\n",
       "    </tr>\n",
       "    <tr>\n",
       "      <th>V28</th>\n",
       "      <td>0.0</td>\n",
       "      <td>3.0</td>\n",
       "      <td>0.0</td>\n",
       "    </tr>\n",
       "    <tr>\n",
       "      <th>V29</th>\n",
       "      <td>0.0</td>\n",
       "      <td>6.0</td>\n",
       "      <td>1.0</td>\n",
       "    </tr>\n",
       "    <tr>\n",
       "      <th>V30</th>\n",
       "      <td>0.0</td>\n",
       "      <td>5.0</td>\n",
       "      <td>1.0</td>\n",
       "    </tr>\n",
       "    <tr>\n",
       "      <th>V31</th>\n",
       "      <td>0.0</td>\n",
       "      <td>177.0</td>\n",
       "      <td>71.0</td>\n",
       "    </tr>\n",
       "    <tr>\n",
       "      <th>V32</th>\n",
       "      <td>0.0</td>\n",
       "      <td>3.0</td>\n",
       "      <td>0.0</td>\n",
       "    </tr>\n",
       "    <tr>\n",
       "      <th>V33</th>\n",
       "      <td>0.0</td>\n",
       "      <td>2.0</td>\n",
       "      <td>0.0</td>\n",
       "    </tr>\n",
       "    <tr>\n",
       "      <th>V34</th>\n",
       "      <td>0.0</td>\n",
       "      <td>2.0</td>\n",
       "      <td>1.0</td>\n",
       "    </tr>\n",
       "    <tr>\n",
       "      <th>V35</th>\n",
       "      <td>0.0</td>\n",
       "      <td>5.0</td>\n",
       "      <td>0.0</td>\n",
       "    </tr>\n",
       "    <tr>\n",
       "      <th>V36</th>\n",
       "      <td>0.0</td>\n",
       "      <td>8.0</td>\n",
       "      <td>1.0</td>\n",
       "    </tr>\n",
       "    <tr>\n",
       "      <th>V37</th>\n",
       "      <td>0.0</td>\n",
       "      <td>13.0</td>\n",
       "      <td>1.0</td>\n",
       "    </tr>\n",
       "    <tr>\n",
       "      <th>V38</th>\n",
       "      <td>0.0</td>\n",
       "      <td>6.0</td>\n",
       "      <td>1.0</td>\n",
       "    </tr>\n",
       "    <tr>\n",
       "      <th>V4</th>\n",
       "      <td>0.0</td>\n",
       "      <td>12.0</td>\n",
       "      <td>0.0</td>\n",
       "    </tr>\n",
       "    <tr>\n",
       "      <th>V41</th>\n",
       "      <td>0.0</td>\n",
       "      <td>5.0</td>\n",
       "      <td>0.0</td>\n",
       "    </tr>\n",
       "    <tr>\n",
       "      <th>V42</th>\n",
       "      <td>0.0</td>\n",
       "      <td>14.0</td>\n",
       "      <td>3.0</td>\n",
       "    </tr>\n",
       "    <tr>\n",
       "      <th>V43</th>\n",
       "      <td>0.0</td>\n",
       "      <td>3.0</td>\n",
       "      <td>0.0</td>\n",
       "    </tr>\n",
       "    <tr>\n",
       "      <th>V44</th>\n",
       "      <td>91.0</td>\n",
       "      <td>132.0</td>\n",
       "      <td>52.0</td>\n",
       "    </tr>\n",
       "    <tr>\n",
       "      <th>V45</th>\n",
       "      <td>0.0</td>\n",
       "      <td>3.0</td>\n",
       "      <td>0.0</td>\n",
       "    </tr>\n",
       "    <tr>\n",
       "      <th>V46</th>\n",
       "      <td>0.0</td>\n",
       "      <td>2.0</td>\n",
       "      <td>1.0</td>\n",
       "    </tr>\n",
       "    <tr>\n",
       "      <th>V6</th>\n",
       "      <td>0.0</td>\n",
       "      <td>9.0</td>\n",
       "      <td>0.0</td>\n",
       "    </tr>\n",
       "    <tr>\n",
       "      <th>V7</th>\n",
       "      <td>0.0</td>\n",
       "      <td>9.0</td>\n",
       "      <td>0.0</td>\n",
       "    </tr>\n",
       "    <tr>\n",
       "      <th>V8</th>\n",
       "      <td>0.0</td>\n",
       "      <td>1.0</td>\n",
       "      <td>0.0</td>\n",
       "    </tr>\n",
       "    <tr>\n",
       "      <th>V9</th>\n",
       "      <td>0.0</td>\n",
       "      <td>15.0</td>\n",
       "      <td>0.0</td>\n",
       "    </tr>\n",
       "  </tbody>\n",
       "</table>\n",
       "</div>"
      ],
      "text/plain": [
       "is_dmm  False   True      \n",
       "is_beta  True  False  True\n",
       "cluster                   \n",
       "V1        0.0    4.0   0.0\n",
       "V10       0.0    1.0   0.0\n",
       "V11       0.0   14.0   1.0\n",
       "V12       0.0   65.0   0.0\n",
       "V13       0.0   26.0  13.0\n",
       "V14       0.0    4.0   0.0\n",
       "V15       0.0   13.0   1.0\n",
       "V16       0.0   19.0   4.0\n",
       "V17       0.0    4.0   0.0\n",
       "V18       0.0    6.0   0.0\n",
       "V19       0.0    3.0   0.0\n",
       "V2        0.0   22.0   0.0\n",
       "V20       0.0    1.0   0.0\n",
       "V21       0.0    4.0   1.0\n",
       "V22       0.0    4.0   0.0\n",
       "V23       0.0   37.0  10.0\n",
       "V24       0.0    2.0   0.0\n",
       "V25       0.0    3.0   0.0\n",
       "V26       0.0   13.0   0.0\n",
       "V27       0.0    1.0   0.0\n",
       "V28       0.0    3.0   0.0\n",
       "V29       0.0    6.0   1.0\n",
       "V30       0.0    5.0   1.0\n",
       "V31       0.0  177.0  71.0\n",
       "V32       0.0    3.0   0.0\n",
       "V33       0.0    2.0   0.0\n",
       "V34       0.0    2.0   1.0\n",
       "V35       0.0    5.0   0.0\n",
       "V36       0.0    8.0   1.0\n",
       "V37       0.0   13.0   1.0\n",
       "V38       0.0    6.0   1.0\n",
       "V4        0.0   12.0   0.0\n",
       "V41       0.0    5.0   0.0\n",
       "V42       0.0   14.0   3.0\n",
       "V43       0.0    3.0   0.0\n",
       "V44      91.0  132.0  52.0\n",
       "V45       0.0    3.0   0.0\n",
       "V46       0.0    2.0   1.0\n",
       "V6        0.0    9.0   0.0\n",
       "V7        0.0    9.0   0.0\n",
       "V8        0.0    1.0   0.0\n",
       "V9        0.0   15.0   0.0"
      ]
     },
     "execution_count": 8,
     "metadata": {},
     "output_type": "execute_result"
    }
   ],
   "source": [
    "cluster_cnt = dmm.groupby(by = ['is_dmm', 'is_beta'])['cluster'].value_counts().unstack().iloc[1:].fillna(0)\n",
    "cluster_cnt.loc[:,cluster_cnt.sum(axis = 0)>0].T"
   ]
  },
  {
   "cell_type": "code",
   "execution_count": 9,
   "id": "196b788b-3396-4c25-84a1-e669b960bffe",
   "metadata": {
    "tags": []
   },
   "outputs": [
    {
     "data": {
      "text/plain": [
       "is_eclip\n",
       "False    1.0\n",
       "True     1.0\n",
       "Name: fc_raw_pass, dtype: float64"
      ]
     },
     "execution_count": 9,
     "metadata": {},
     "output_type": "execute_result"
    }
   ],
   "source": [
    "dmm['fc_raw_pass']=dmm[f'fc_raw:{outstem}.{rbp}'].ge(1)\n",
    "dmm.loc[dmm['is_dmm']].groupby(by = 'is_eclip')[f'fc_raw_pass'].mean()"
   ]
  },
  {
   "cell_type": "code",
   "execution_count": 10,
   "id": "e6033726-de67-4a7d-b225-c01009619019",
   "metadata": {
    "tags": []
   },
   "outputs": [
    {
     "data": {
      "text/html": [
       "<div>\n",
       "<style scoped>\n",
       "    .dataframe tbody tr th:only-of-type {\n",
       "        vertical-align: middle;\n",
       "    }\n",
       "\n",
       "    .dataframe tbody tr th {\n",
       "        vertical-align: top;\n",
       "    }\n",
       "\n",
       "    .dataframe thead th {\n",
       "        text-align: right;\n",
       "    }\n",
       "</style>\n",
       "<table border=\"1\" class=\"dataframe\">\n",
       "  <thead>\n",
       "    <tr style=\"text-align: right;\">\n",
       "      <th></th>\n",
       "      <th>is_pum_motif</th>\n",
       "      <th>False</th>\n",
       "      <th>True</th>\n",
       "    </tr>\n",
       "    <tr>\n",
       "      <th>is_dmm</th>\n",
       "      <th>is_beta</th>\n",
       "      <th></th>\n",
       "      <th></th>\n",
       "    </tr>\n",
       "  </thead>\n",
       "  <tbody>\n",
       "    <tr>\n",
       "      <th rowspan=\"2\" valign=\"top\">False</th>\n",
       "      <th>False</th>\n",
       "      <td>136279.0</td>\n",
       "      <td>1284.0</td>\n",
       "    </tr>\n",
       "    <tr>\n",
       "      <th>True</th>\n",
       "      <td>91.0</td>\n",
       "      <td>NaN</td>\n",
       "    </tr>\n",
       "    <tr>\n",
       "      <th rowspan=\"2\" valign=\"top\">True</th>\n",
       "      <th>False</th>\n",
       "      <td>633.0</td>\n",
       "      <td>48.0</td>\n",
       "    </tr>\n",
       "    <tr>\n",
       "      <th>True</th>\n",
       "      <td>138.0</td>\n",
       "      <td>25.0</td>\n",
       "    </tr>\n",
       "  </tbody>\n",
       "</table>\n",
       "</div>"
      ],
      "text/plain": [
       "is_pum_motif       False    True\n",
       "is_dmm is_beta                  \n",
       "False  False    136279.0  1284.0\n",
       "       True         91.0     NaN\n",
       "True   False       633.0    48.0\n",
       "       True        138.0    25.0"
      ]
     },
     "execution_count": 10,
     "metadata": {},
     "output_type": "execute_result"
    }
   ],
   "source": [
    "dmm.groupby(by = ['is_dmm', 'is_beta'])['is_pum_motif'].value_counts().unstack()"
   ]
  },
  {
   "cell_type": "code",
   "execution_count": 11,
   "id": "d2a36875-f7bb-439e-923e-f2f1d470d83f",
   "metadata": {
    "tags": []
   },
   "outputs": [
    {
     "data": {
      "text/plain": [
       "Text(0.5, 0, '# enriched windows')"
      ]
     },
     "execution_count": 11,
     "metadata": {},
     "output_type": "execute_result"
    },
    {
     "data": {
      "image/png": "[encoded data removed]",
      "text/plain": [
       "<Figure size 432x288 with 1 Axes>"
      ]
     },
     "metadata": {},
     "output_type": "display_data"
    },
    {
     "data": {
      "image/png": "[encoded data removed]",
      "text/plain": [
       "<Figure size 432x288 with 1 Axes>"
      ]
     },
     "metadata": {},
     "output_type": "display_data"
    }
   ],
   "source": [
    "rbp='RBFOX2'\n",
    "dmm=read_beta_and_dmm_enriched_windows(outstem, rbp, fc_raw_thres = None)\n",
    "dmm['is_motif']=dmm['name'].isin(rbfox2_motif['PositionID'])\n",
    "cnt = dmm.groupby(by = ['is_dmm', 'is_beta'])['is_motif'].value_counts().unstack()\n",
    "dmm.groupby(by = ['is_dmm', 'is_beta'])['is_motif'].value_counts().unstack().iloc[1:].plot.barh(stacked = True)\n",
    "plt.xlabel('# enriched windows')\n",
    "sns.despine()\n",
    "plt.savefig(figdir/'RBFOX2_compare_betaDMM.pdf')\n",
    "cnt.div(cnt.sum(axis = 1), axis = 0).plot.barh(stacked = True)\n",
    "plt.xlabel('# enriched windows')"
   ]
  },
  {
   "cell_type": "code",
   "execution_count": 12,
   "id": "db1539ca-e21c-43c8-b110-a25443254edd",
   "metadata": {
    "tags": []
   },
   "outputs": [
    {
     "data": {
      "text/plain": [
       "Text(0.5, 0, '# enriched windows')"
      ]
     },
     "execution_count": 12,
     "metadata": {},
     "output_type": "execute_result"
    },
    {
     "data": {
      "image/png": "[encoded data removed]",
      "text/plain": [
       "<Figure size 432x288 with 1 Axes>"
      ]
     },
     "metadata": {},
     "output_type": "display_data"
    },
    {
     "data": {
      "image/png": "[encoded data removed]",
      "text/plain": [
       "<Figure size 432x288 with 1 Axes>"
      ]
     },
     "metadata": {},
     "output_type": "display_data"
    }
   ],
   "source": [
    "cnt = dmm.groupby(by = ['is_dmm', 'is_beta'])['is_eclip'].value_counts().unstack()\n",
    "dmm.groupby(by = ['is_dmm', 'is_beta'])['is_eclip'].value_counts().unstack().plot.barh(stacked = True)\n",
    "plt.xlabel('# enriched windows')\n",
    "sns.despine()\n",
    "plt.savefig(figdir/'RBFOX2_compare_betaDMM_eCLIP.pdf')\n",
    "cnt.div(cnt.sum(axis = 1), axis = 0).plot.barh(stacked = True)\n",
    "plt.xlabel('# enriched windows')\n",
    "#dmm.groupby(by = ['is_dmm', 'is_beta'])['cluster'].value_counts().unstack().iloc[1:].plot.bar(stacked = True)"
   ]
  },
  {
   "cell_type": "markdown",
   "id": "ce835181-9a7b-4a7d-91f1-d1e93ec7ab37",
   "metadata": {},
   "source": [
    "# Evaluate all"
   ]
  },
  {
   "cell_type": "code",
   "execution_count": 13,
   "id": "8a9bc5b2-2e8d-420c-b510-7b4aa0b3b8a0",
   "metadata": {
    "tags": []
   },
   "outputs": [
    {
     "name": "stdout",
     "output_type": "stream",
     "text": [
      "3.307713340540774\n",
      "Non-beta-cluster: V31 PUM2\n",
      "1.556649455204098\n",
      "Non-beta-cluster: V7 IGF2BP2\n",
      "4.493642817836555\n",
      "Non-beta-cluster: V15 EIF3G\n",
      "1.921391301788\n",
      "2.2084460979903744\n",
      "Non-beta-cluster: V19 LIN28B\n",
      "0.8429776836425564\n",
      "Non-beta-cluster: V13 FAM120A\n",
      "2.076935038708178\n",
      "2.6985774843633923\n",
      "2.615346949657633\n",
      "1.5221012245318897\n",
      "Non-beta-cluster: V4 PRPF8\n"
     ]
    }
   ],
   "source": [
    "\n",
    "rbps = [f.name.split('.')[1] for f in list((basedir/'DMM').glob(f'{outstem}.*enriched_windows*'))]\n",
    "\n",
    "counts = []\n",
    "for rbp in rbps:\n",
    "    dmm=read_beta_and_dmm_enriched_windows(outstem, rbp, fc_raw_thres = None)\n",
    "    print(dmm.loc[dmm[f'{outstem}.{rbp}'], f'fc_raw:{outstem}.{rbp}'].min())\n",
    "    cnt = dmm.groupby(by = ['is_dmm', 'is_beta'])['is_eclip'].value_counts().unstack()\n",
    "    frac_eclip = cnt[True].div(cnt.sum(axis = 1))\n",
    "    frac_eclip.name = rbp\n",
    "    counts.append(frac_eclip)\n",
    "    \n",
    "    # print the culprit\n",
    "    cluster_cnt = dmm.groupby(by = ['is_dmm', 'is_beta'])['cluster'].value_counts().unstack().iloc[1:].fillna(0)\n",
    "    try:\n",
    "        print('Non-beta-cluster:',cluster_cnt.loc[True, False].idxmax(), rbp)\n",
    "    except:\n",
    "        pass\n",
    "    "
   ]
  },
  {
   "cell_type": "code",
   "execution_count": 14,
   "id": "8d685686-57f5-4031-b42f-73f8457cc574",
   "metadata": {
    "tags": []
   },
   "outputs": [],
   "source": [
    "counts = pd.concat(counts, axis = 1)"
   ]
  },
  {
   "cell_type": "code",
   "execution_count": 15,
   "id": "4468528f-e296-4b2f-b658-b9d110dda9c8",
   "metadata": {
    "tags": []
   },
   "outputs": [
    {
     "data": {
      "image/png": "[encoded data removed]",
      "text/plain": [
       "<Figure size 432x288 with 2 Axes>"
      ]
     },
     "metadata": {},
     "output_type": "display_data"
    }
   ],
   "source": [
    "\n",
    "g=sns.heatmap(counts, cmap = 'Greys', annot = True,\n",
    "           cbar_kws={'label':'fraction eCLIP binding site'})\n",
    "plt.yticks(rotation=45)\n",
    "plt.savefig(figdir/'compare_betaDMM_eCLIP.pdf')"
   ]
  },
  {
   "cell_type": "code",
   "execution_count": null,
   "id": "351f63a4-1186-46a8-8633-28dfebd098e2",
   "metadata": {
    "tags": []
   },
   "outputs": [],
   "source": []
  },
  {
   "cell_type": "code",
   "execution_count": null,
   "id": "3db7604a-dc98-4211-ac91-d202fde37b67",
   "metadata": {},
   "outputs": [],
   "source": []
  }
 ],
 "metadata": {
  "kernelspec": {
   "display_name": "my_metadensity",
   "language": "python",
   "name": "my_metadensity"
  },
  "language_info": {
   "codemirror_mode": {
    "name": "ipython",
    "version": 3
   },
   "file_extension": ".py",
   "mimetype": "text/x-python",
   "name": "python",
   "nbconvert_exporter": "python",
   "pygments_lexer": "ipython3",
   "version": "3.7.12"
  }
 },
 "nbformat": 4,
 "nbformat_minor": 5
}
