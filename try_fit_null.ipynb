{
 "cells": [
  {
   "cell_type": "code",
   "execution_count": 1,
   "id": "1214efde-ccb7-4ef0-b3a2-527e2bcd9213",
   "metadata": {
    "tags": []
   },
   "outputs": [
    {
     "name": "stderr",
     "output_type": "stream",
     "text": [
      "── \u001b[1mAttaching packages\u001b[22m ─────────────────────────────────────── tidyverse 1.3.2 ──\n",
      "\u001b[32m✔\u001b[39m \u001b[34mggplot2\u001b[39m 3.3.6     \u001b[32m✔\u001b[39m \u001b[34mpurrr  \u001b[39m 0.3.4\n",
      "\u001b[32m✔\u001b[39m \u001b[34mtibble \u001b[39m 3.1.8     \u001b[32m✔\u001b[39m \u001b[34mdplyr  \u001b[39m 1.0.9\n",
      "\u001b[32m✔\u001b[39m \u001b[34mtidyr  \u001b[39m 1.2.0     \u001b[32m✔\u001b[39m \u001b[34mstringr\u001b[39m 1.4.1\n",
      "\u001b[32m✔\u001b[39m \u001b[34mreadr  \u001b[39m 2.1.2     \u001b[32m✔\u001b[39m \u001b[34mforcats\u001b[39m 0.5.2\n",
      "── \u001b[1mConflicts\u001b[22m ────────────────────────────────────────── tidyverse_conflicts() ──\n",
      "\u001b[31m✖\u001b[39m \u001b[34mdplyr\u001b[39m::\u001b[32mfilter()\u001b[39m masks \u001b[34mstats\u001b[39m::filter()\n",
      "\u001b[31m✖\u001b[39m \u001b[34mdplyr\u001b[39m::\u001b[32mlag()\u001b[39m    masks \u001b[34mstats\u001b[39m::lag()\n",
      "Loading required package: stats4\n",
      "\n",
      "Loading required package: splines\n",
      "\n"
     ]
    }
   ],
   "source": [
    "library(tidyverse)\n",
    "library(VGAM)"
   ]
  },
  {
   "cell_type": "code",
   "execution_count": 2,
   "id": "9fcf2bad-dd12-463f-a397-af10b58008bb",
   "metadata": {
    "tags": []
   },
   "outputs": [],
   "source": [
    "fl='/home/hsher/scratch/ABC_2rep/counts/genome/megatables/K562_rep4.tsv.gz'\n",
    "fl2='/home/hsher/scratch/ABC_2rep/counts/genome/megatables/K562_rep6.tsv.gz'"
   ]
  },
  {
   "cell_type": "code",
   "execution_count": 3,
   "id": "ddf0e54a-85d8-494f-a6bd-f63440656d54",
   "metadata": {
    "tags": []
   },
   "outputs": [],
   "source": [
    "min_read = 10"
   ]
  },
  {
   "cell_type": "code",
   "execution_count": 4,
   "id": "217d6b52-7356-4238-b3ac-0d7b5b06381b",
   "metadata": {
    "tags": []
   },
   "outputs": [
    {
     "name": "stderr",
     "output_type": "stream",
     "text": [
      "\u001b[1mRows: \u001b[22m\u001b[34m5926997\u001b[39m \u001b[1mColumns: \u001b[22m\u001b[34m10\u001b[39m\n",
      "\u001b[36m──\u001b[39m \u001b[1mColumn specification\u001b[22m \u001b[36m────────────────────────────────────────────────────────\u001b[39m\n",
      "\u001b[1mDelimiter:\u001b[22m \"\\t\"\n",
      "\u001b[32mdbl\u001b[39m (10): K562_rep4.IGF2BP2, K562_rep4.RBFOX2, K562_rep4.PUM2, K562_rep4.FAM...\n",
      "\n",
      "\u001b[36mℹ\u001b[39m Use `spec()` to retrieve the full column specification for this data.\n",
      "\u001b[36mℹ\u001b[39m Specify the column types or set `show_col_types = FALSE` to quiet this message.\n"
     ]
    }
   ],
   "source": [
    "count_df = read_tsv(fl)\n",
    "sample_cols = colnames(count_df)\n"
   ]
  },
  {
   "cell_type": "code",
   "execution_count": 5,
   "id": "dfc693d4-01f5-4d38-9a52-22d64d45f48e",
   "metadata": {
    "tags": []
   },
   "outputs": [
    {
     "name": "stderr",
     "output_type": "stream",
     "text": [
      "\u001b[1mRows: \u001b[22m\u001b[34m5926997\u001b[39m \u001b[1mColumns: \u001b[22m\u001b[34m10\u001b[39m\n",
      "\u001b[36m──\u001b[39m \u001b[1mColumn specification\u001b[22m \u001b[36m────────────────────────────────────────────────────────\u001b[39m\n",
      "\u001b[1mDelimiter:\u001b[22m \"\\t\"\n",
      "\u001b[32mdbl\u001b[39m (10): K562_rep6.IGF2BP2, K562_rep6.RBFOX2, K562_rep6.PUM2, K562_rep6.FAM...\n",
      "\n",
      "\u001b[36mℹ\u001b[39m Use `spec()` to retrieve the full column specification for this data.\n",
      "\u001b[36mℹ\u001b[39m Specify the column types or set `show_col_types = FALSE` to quiet this message.\n"
     ]
    }
   ],
   "source": [
    "count_df2 = read_tsv(fl2)\n",
    "sample_cols2 = colnames(count_df2)\n"
   ]
  },
  {
   "cell_type": "code",
   "execution_count": 6,
   "id": "9e3f38de-ade9-442f-9ec7-4540814a3924",
   "metadata": {
    "tags": []
   },
   "outputs": [],
   "source": [
    "valid_cols=rowSums(count_df[,sample_cols])>min_read & rowSums(count_df2[,sample_cols2])>min_read "
   ]
  },
  {
   "cell_type": "code",
   "execution_count": 7,
   "id": "e5c10c6c-a79a-46fa-885a-72334adde033",
   "metadata": {
    "tags": []
   },
   "outputs": [],
   "source": [
    "count_df2 = count_df2[valid_cols,]\n",
    "count_df = count_df[valid_cols,]\n",
    "fraction_df = count_df/rowSums(count_df)"
   ]
  },
  {
   "cell_type": "code",
   "execution_count": 8,
   "id": "716c1fe3-0a4f-4b12-8158-f2e77c48fdf0",
   "metadata": {
    "tags": []
   },
   "outputs": [
    {
     "data": {
      "text/html": [
       "<style>\n",
       ".list-inline {list-style: none; margin:0; padding: 0}\n",
       ".list-inline>li {display: inline-block}\n",
       ".list-inline>li:not(:last-child)::after {content: \"\\00b7\"; padding: 0 .5ex}\n",
       "</style>\n",
       "<ol class=list-inline><li>'K562_rep6.IGF2BP2'</li><li>'K562_rep6.RBFOX2'</li><li>'K562_rep6.PUM2'</li><li>'K562_rep6.FAM120A'</li><li>'K562_rep6.DDX3'</li><li>'K562_rep6.ZC3H11A'</li><li>'K562_rep6.EIF3G'</li><li>'K562_rep6.PRPF8'</li><li>'K562_rep6.LIN28B'</li><li>'K562_rep6.SF3B4'</li></ol>\n"
      ],
      "text/latex": [
       "\\begin{enumerate*}\n",
       "\\item 'K562\\_rep6.IGF2BP2'\n",
       "\\item 'K562\\_rep6.RBFOX2'\n",
       "\\item 'K562\\_rep6.PUM2'\n",
       "\\item 'K562\\_rep6.FAM120A'\n",
       "\\item 'K562\\_rep6.DDX3'\n",
       "\\item 'K562\\_rep6.ZC3H11A'\n",
       "\\item 'K562\\_rep6.EIF3G'\n",
       "\\item 'K562\\_rep6.PRPF8'\n",
       "\\item 'K562\\_rep6.LIN28B'\n",
       "\\item 'K562\\_rep6.SF3B4'\n",
       "\\end{enumerate*}\n"
      ],
      "text/markdown": [
       "1. 'K562_rep6.IGF2BP2'\n",
       "2. 'K562_rep6.RBFOX2'\n",
       "3. 'K562_rep6.PUM2'\n",
       "4. 'K562_rep6.FAM120A'\n",
       "5. 'K562_rep6.DDX3'\n",
       "6. 'K562_rep6.ZC3H11A'\n",
       "7. 'K562_rep6.EIF3G'\n",
       "8. 'K562_rep6.PRPF8'\n",
       "9. 'K562_rep6.LIN28B'\n",
       "10. 'K562_rep6.SF3B4'\n",
       "\n",
       "\n"
      ],
      "text/plain": [
       " [1] \"K562_rep6.IGF2BP2\" \"K562_rep6.RBFOX2\"  \"K562_rep6.PUM2\"   \n",
       " [4] \"K562_rep6.FAM120A\" \"K562_rep6.DDX3\"    \"K562_rep6.ZC3H11A\"\n",
       " [7] \"K562_rep6.EIF3G\"   \"K562_rep6.PRPF8\"   \"K562_rep6.LIN28B\" \n",
       "[10] \"K562_rep6.SF3B4\"  "
      ]
     },
     "metadata": {},
     "output_type": "display_data"
    }
   ],
   "source": [
    "colnames(count_df2)"
   ]
  },
  {
   "cell_type": "code",
   "execution_count": 9,
   "id": "541227c8-8b7e-43f1-a6de-7a6343aa70dc",
   "metadata": {
    "tags": []
   },
   "outputs": [
    {
     "data": {
      "text/html": [
       "<style>\n",
       ".list-inline {list-style: none; margin:0; padding: 0}\n",
       ".list-inline>li {display: inline-block}\n",
       ".list-inline>li:not(:last-child)::after {content: \"\\00b7\"; padding: 0 .5ex}\n",
       "</style>\n",
       "<ol class=list-inline><li>'K562_rep4.IGF2BP2'</li><li>'K562_rep4.RBFOX2'</li><li>'K562_rep4.PUM2'</li><li>'K562_rep4.FAM120A'</li><li>'K562_rep4.DDX3'</li><li>'K562_rep4.ZC3H11A'</li><li>'K562_rep4.EIF3G'</li><li>'K562_rep4.PRPF8'</li><li>'K562_rep4.LIN28B'</li><li>'K562_rep4.SF3B4'</li></ol>\n"
      ],
      "text/latex": [
       "\\begin{enumerate*}\n",
       "\\item 'K562\\_rep4.IGF2BP2'\n",
       "\\item 'K562\\_rep4.RBFOX2'\n",
       "\\item 'K562\\_rep4.PUM2'\n",
       "\\item 'K562\\_rep4.FAM120A'\n",
       "\\item 'K562\\_rep4.DDX3'\n",
       "\\item 'K562\\_rep4.ZC3H11A'\n",
       "\\item 'K562\\_rep4.EIF3G'\n",
       "\\item 'K562\\_rep4.PRPF8'\n",
       "\\item 'K562\\_rep4.LIN28B'\n",
       "\\item 'K562\\_rep4.SF3B4'\n",
       "\\end{enumerate*}\n"
      ],
      "text/markdown": [
       "1. 'K562_rep4.IGF2BP2'\n",
       "2. 'K562_rep4.RBFOX2'\n",
       "3. 'K562_rep4.PUM2'\n",
       "4. 'K562_rep4.FAM120A'\n",
       "5. 'K562_rep4.DDX3'\n",
       "6. 'K562_rep4.ZC3H11A'\n",
       "7. 'K562_rep4.EIF3G'\n",
       "8. 'K562_rep4.PRPF8'\n",
       "9. 'K562_rep4.LIN28B'\n",
       "10. 'K562_rep4.SF3B4'\n",
       "\n",
       "\n"
      ],
      "text/plain": [
       " [1] \"K562_rep4.IGF2BP2\" \"K562_rep4.RBFOX2\"  \"K562_rep4.PUM2\"   \n",
       " [4] \"K562_rep4.FAM120A\" \"K562_rep4.DDX3\"    \"K562_rep4.ZC3H11A\"\n",
       " [7] \"K562_rep4.EIF3G\"   \"K562_rep4.PRPF8\"   \"K562_rep4.LIN28B\" \n",
       "[10] \"K562_rep4.SF3B4\"  "
      ]
     },
     "metadata": {},
     "output_type": "display_data"
    }
   ],
   "source": [
    "colnames(count_df)"
   ]
  },
  {
   "cell_type": "code",
   "execution_count": 10,
   "id": "45ca0c45-4c05-4877-a4f0-ddbff6594d82",
   "metadata": {
    "tags": []
   },
   "outputs": [],
   "source": [
    "colnames(fraction_df)=colnames(count_df2)"
   ]
  },
  {
   "cell_type": "code",
   "execution_count": 11,
   "id": "ba1ebfa3-ee15-4777-ba86-781d8aff341f",
   "metadata": {
    "tags": []
   },
   "outputs": [
    {
     "data": {
      "text/html": [
       "<table class=\"dataframe\">\n",
       "<caption>A matrix: 6 × 10 of type dbl</caption>\n",
       "<thead>\n",
       "\t<tr><th scope=col>K562_rep6.IGF2BP2</th><th scope=col>K562_rep6.RBFOX2</th><th scope=col>K562_rep6.PUM2</th><th scope=col>K562_rep6.FAM120A</th><th scope=col>K562_rep6.DDX3</th><th scope=col>K562_rep6.ZC3H11A</th><th scope=col>K562_rep6.EIF3G</th><th scope=col>K562_rep6.PRPF8</th><th scope=col>K562_rep6.LIN28B</th><th scope=col>K562_rep6.SF3B4</th></tr>\n",
       "</thead>\n",
       "<tbody>\n",
       "\t<tr><td>0.1040000</td><td>0.1560000</td><td>0.03200000</td><td>0.1720000</td><td>0.10000000</td><td>0.14400000</td><td>0.02800000</td><td>0.10400000</td><td>0.08400000</td><td>0.07600000</td></tr>\n",
       "\t<tr><td>0.1201299</td><td>0.1558442</td><td>0.01623377</td><td>0.1850649</td><td>0.06493506</td><td>0.10714286</td><td>0.02597403</td><td>0.13311688</td><td>0.08116883</td><td>0.11038961</td></tr>\n",
       "\t<tr><td>0.1572052</td><td>0.1615721</td><td>0.02620087</td><td>0.1834061</td><td>0.08733624</td><td>0.08733624</td><td>0.01746725</td><td>0.13537118</td><td>0.04366812</td><td>0.10043668</td></tr>\n",
       "\t<tr><td>0.1250000</td><td>0.1761364</td><td>0.01136364</td><td>0.1988636</td><td>0.06818182</td><td>0.15909091</td><td>0.01704545</td><td>0.10227273</td><td>0.06250000</td><td>0.07954545</td></tr>\n",
       "\t<tr><td>0.1555556</td><td>0.1111111</td><td>0.04444444</td><td>0.2000000</td><td>0.06666667</td><td>0.13333333</td><td>0.06666667</td><td>0.13333333</td><td>0.04444444</td><td>0.04444444</td></tr>\n",
       "\t<tr><td>0.1372549</td><td>0.1568627</td><td>0.01960784</td><td>0.2156863</td><td>0.09803922</td><td>0.07843137</td><td>0.01960784</td><td>0.07843137</td><td>0.07843137</td><td>0.11764706</td></tr>\n",
       "</tbody>\n",
       "</table>\n"
      ],
      "text/latex": [
       "A matrix: 6 × 10 of type dbl\n",
       "\\begin{tabular}{llllllllll}\n",
       " K562\\_rep6.IGF2BP2 & K562\\_rep6.RBFOX2 & K562\\_rep6.PUM2 & K562\\_rep6.FAM120A & K562\\_rep6.DDX3 & K562\\_rep6.ZC3H11A & K562\\_rep6.EIF3G & K562\\_rep6.PRPF8 & K562\\_rep6.LIN28B & K562\\_rep6.SF3B4\\\\\n",
       "\\hline\n",
       "\t 0.1040000 & 0.1560000 & 0.03200000 & 0.1720000 & 0.10000000 & 0.14400000 & 0.02800000 & 0.10400000 & 0.08400000 & 0.07600000\\\\\n",
       "\t 0.1201299 & 0.1558442 & 0.01623377 & 0.1850649 & 0.06493506 & 0.10714286 & 0.02597403 & 0.13311688 & 0.08116883 & 0.11038961\\\\\n",
       "\t 0.1572052 & 0.1615721 & 0.02620087 & 0.1834061 & 0.08733624 & 0.08733624 & 0.01746725 & 0.13537118 & 0.04366812 & 0.10043668\\\\\n",
       "\t 0.1250000 & 0.1761364 & 0.01136364 & 0.1988636 & 0.06818182 & 0.15909091 & 0.01704545 & 0.10227273 & 0.06250000 & 0.07954545\\\\\n",
       "\t 0.1555556 & 0.1111111 & 0.04444444 & 0.2000000 & 0.06666667 & 0.13333333 & 0.06666667 & 0.13333333 & 0.04444444 & 0.04444444\\\\\n",
       "\t 0.1372549 & 0.1568627 & 0.01960784 & 0.2156863 & 0.09803922 & 0.07843137 & 0.01960784 & 0.07843137 & 0.07843137 & 0.11764706\\\\\n",
       "\\end{tabular}\n"
      ],
      "text/markdown": [
       "\n",
       "A matrix: 6 × 10 of type dbl\n",
       "\n",
       "| K562_rep6.IGF2BP2 | K562_rep6.RBFOX2 | K562_rep6.PUM2 | K562_rep6.FAM120A | K562_rep6.DDX3 | K562_rep6.ZC3H11A | K562_rep6.EIF3G | K562_rep6.PRPF8 | K562_rep6.LIN28B | K562_rep6.SF3B4 |\n",
       "|---|---|---|---|---|---|---|---|---|---|\n",
       "| 0.1040000 | 0.1560000 | 0.03200000 | 0.1720000 | 0.10000000 | 0.14400000 | 0.02800000 | 0.10400000 | 0.08400000 | 0.07600000 |\n",
       "| 0.1201299 | 0.1558442 | 0.01623377 | 0.1850649 | 0.06493506 | 0.10714286 | 0.02597403 | 0.13311688 | 0.08116883 | 0.11038961 |\n",
       "| 0.1572052 | 0.1615721 | 0.02620087 | 0.1834061 | 0.08733624 | 0.08733624 | 0.01746725 | 0.13537118 | 0.04366812 | 0.10043668 |\n",
       "| 0.1250000 | 0.1761364 | 0.01136364 | 0.1988636 | 0.06818182 | 0.15909091 | 0.01704545 | 0.10227273 | 0.06250000 | 0.07954545 |\n",
       "| 0.1555556 | 0.1111111 | 0.04444444 | 0.2000000 | 0.06666667 | 0.13333333 | 0.06666667 | 0.13333333 | 0.04444444 | 0.04444444 |\n",
       "| 0.1372549 | 0.1568627 | 0.01960784 | 0.2156863 | 0.09803922 | 0.07843137 | 0.01960784 | 0.07843137 | 0.07843137 | 0.11764706 |\n",
       "\n"
      ],
      "text/plain": [
       "     K562_rep6.IGF2BP2 K562_rep6.RBFOX2 K562_rep6.PUM2 K562_rep6.FAM120A\n",
       "[1,] 0.1040000         0.1560000        0.03200000     0.1720000        \n",
       "[2,] 0.1201299         0.1558442        0.01623377     0.1850649        \n",
       "[3,] 0.1572052         0.1615721        0.02620087     0.1834061        \n",
       "[4,] 0.1250000         0.1761364        0.01136364     0.1988636        \n",
       "[5,] 0.1555556         0.1111111        0.04444444     0.2000000        \n",
       "[6,] 0.1372549         0.1568627        0.01960784     0.2156863        \n",
       "     K562_rep6.DDX3 K562_rep6.ZC3H11A K562_rep6.EIF3G K562_rep6.PRPF8\n",
       "[1,] 0.10000000     0.14400000        0.02800000      0.10400000     \n",
       "[2,] 0.06493506     0.10714286        0.02597403      0.13311688     \n",
       "[3,] 0.08733624     0.08733624        0.01746725      0.13537118     \n",
       "[4,] 0.06818182     0.15909091        0.01704545      0.10227273     \n",
       "[5,] 0.06666667     0.13333333        0.06666667      0.13333333     \n",
       "[6,] 0.09803922     0.07843137        0.01960784      0.07843137     \n",
       "     K562_rep6.LIN28B K562_rep6.SF3B4\n",
       "[1,] 0.08400000       0.07600000     \n",
       "[2,] 0.08116883       0.11038961     \n",
       "[3,] 0.04366812       0.10043668     \n",
       "[4,] 0.06250000       0.07954545     \n",
       "[5,] 0.04444444       0.04444444     \n",
       "[6,] 0.07843137       0.11764706     "
      ]
     },
     "metadata": {},
     "output_type": "display_data"
    }
   ],
   "source": [
    "head(as.matrix(fraction_df, 100))"
   ]
  },
  {
   "cell_type": "code",
   "execution_count": 13,
   "id": "386e180b-4cd4-4ded-81e0-c6b46b956426",
   "metadata": {
    "tags": []
   },
   "outputs": [
    {
     "name": "stdout",
     "output_type": "stream",
     "text": [
      "VGLM    linear loop  1 :  loglikelihood = -11001.872\n",
      "VGLM    linear loop  2 :  loglikelihood = -10987.129\n",
      "VGLM    linear loop  3 :  loglikelihood = -10984.102\n",
      "VGLM    linear loop  4 :  loglikelihood = -10983.167\n",
      "VGLM    linear loop  5 :  loglikelihood = -10982.709\n",
      "VGLM    linear loop  6 :  loglikelihood = -10982.42\n",
      "VGLM    linear loop  7 :  loglikelihood = -10982.223\n",
      "VGLM    linear loop  8 :  loglikelihood = -10982.088\n",
      "VGLM    linear loop  9 :  loglikelihood = -10981.994\n",
      "VGLM    linear loop  10 :  loglikelihood = -10981.929\n",
      "VGLM    linear loop  11 :  loglikelihood = -10981.885\n",
      "VGLM    linear loop  12 :  loglikelihood = -10981.855\n",
      "VGLM    linear loop  13 :  loglikelihood = -10981.835\n",
      "VGLM    linear loop  14 :  loglikelihood = -10981.821\n",
      "VGLM    linear loop  15 :  loglikelihood = -10981.811\n",
      "VGLM    linear loop  16 :  loglikelihood = -10981.805\n",
      "VGLM    linear loop  17 :  loglikelihood = -10981.801\n",
      "VGLM    linear loop  18 :  loglikelihood = -10981.798\n",
      "VGLM    linear loop  19 :  loglikelihood = -10981.796\n",
      "VGLM    linear loop  20 :  loglikelihood = -10981.795\n",
      "VGLM    linear loop  21 :  loglikelihood = -10981.794\n",
      "VGLM    linear loop  22 :  loglikelihood = -10981.793\n",
      "VGLM    linear loop  23 :  loglikelihood = -10981.793\n",
      "VGLM    linear loop  24 :  loglikelihood = -10981.792\n",
      "VGLM    linear loop  25 :  loglikelihood = -10981.792\n",
      "VGLM    linear loop  26 :  loglikelihood = -10981.792\n",
      "VGLM    linear loop  27 :  loglikelihood = -10981.792\n"
     ]
    }
   ],
   "source": [
    "fit_only = VGAM::vglm(head(as.matrix(count_df2),100) ~ 1, \n",
    "                 VGAM:: dirmultinomial(), trace = TRUE\n",
    "                )\n"
   ]
  },
  {
   "cell_type": "code",
   "execution_count": 14,
   "id": "b60d7945-2237-43de-a0b4-973230e3245e",
   "metadata": {
    "tags": []
   },
   "outputs": [
    {
     "data": {
      "text/html": [
       "<table class=\"dataframe\">\n",
       "<caption>A matrix: 1 × 10 of type dbl</caption>\n",
       "<thead>\n",
       "\t<tr><th></th><th scope=col>log(prob[,1]/prob[,10])</th><th scope=col>log(prob[,2]/prob[,10])</th><th scope=col>log(prob[,3]/prob[,10])</th><th scope=col>log(prob[,4]/prob[,10])</th><th scope=col>log(prob[,5]/prob[,10])</th><th scope=col>log(prob[,6]/prob[,10])</th><th scope=col>log(prob[,7]/prob[,10])</th><th scope=col>log(prob[,8]/prob[,10])</th><th scope=col>log(prob[,9]/prob[,10])</th><th scope=col>logitlink(phi)</th></tr>\n",
       "</thead>\n",
       "<tbody>\n",
       "\t<tr><th scope=row>(Intercept)</th><td>-0.6771476</td><td>0.2441111</td><td>-2.064249</td><td>-0.1313124</td><td>-0.8357364</td><td>-0.8218396</td><td>-1.582586</td><td>0.1859673</td><td>-1.034087</td><td>-3.456545</td></tr>\n",
       "</tbody>\n",
       "</table>\n"
      ],
      "text/latex": [
       "A matrix: 1 × 10 of type dbl\n",
       "\\begin{tabular}{r|llllllllll}\n",
       "  & log(prob{[},1{]}/prob{[},10{]}) & log(prob{[},2{]}/prob{[},10{]}) & log(prob{[},3{]}/prob{[},10{]}) & log(prob{[},4{]}/prob{[},10{]}) & log(prob{[},5{]}/prob{[},10{]}) & log(prob{[},6{]}/prob{[},10{]}) & log(prob{[},7{]}/prob{[},10{]}) & log(prob{[},8{]}/prob{[},10{]}) & log(prob{[},9{]}/prob{[},10{]}) & logitlink(phi)\\\\\n",
       "\\hline\n",
       "\t(Intercept) & -0.6771476 & 0.2441111 & -2.064249 & -0.1313124 & -0.8357364 & -0.8218396 & -1.582586 & 0.1859673 & -1.034087 & -3.456545\\\\\n",
       "\\end{tabular}\n"
      ],
      "text/markdown": [
       "\n",
       "A matrix: 1 × 10 of type dbl\n",
       "\n",
       "| <!--/--> | log(prob[,1]/prob[,10]) | log(prob[,2]/prob[,10]) | log(prob[,3]/prob[,10]) | log(prob[,4]/prob[,10]) | log(prob[,5]/prob[,10]) | log(prob[,6]/prob[,10]) | log(prob[,7]/prob[,10]) | log(prob[,8]/prob[,10]) | log(prob[,9]/prob[,10]) | logitlink(phi) |\n",
       "|---|---|---|---|---|---|---|---|---|---|---|\n",
       "| (Intercept) | -0.6771476 | 0.2441111 | -2.064249 | -0.1313124 | -0.8357364 | -0.8218396 | -1.582586 | 0.1859673 | -1.034087 | -3.456545 |\n",
       "\n"
      ],
      "text/plain": [
       "            log(prob[,1]/prob[,10]) log(prob[,2]/prob[,10])\n",
       "(Intercept) -0.6771476              0.2441111              \n",
       "            log(prob[,3]/prob[,10]) log(prob[,4]/prob[,10])\n",
       "(Intercept) -2.064249               -0.1313124             \n",
       "            log(prob[,5]/prob[,10]) log(prob[,6]/prob[,10])\n",
       "(Intercept) -0.8357364              -0.8218396             \n",
       "            log(prob[,7]/prob[,10]) log(prob[,8]/prob[,10])\n",
       "(Intercept) -1.582586               0.1859673              \n",
       "            log(prob[,9]/prob[,10]) logitlink(phi)\n",
       "(Intercept) -1.034087               -3.456545     "
      ]
     },
     "metadata": {},
     "output_type": "display_data"
    }
   ],
   "source": [
    "coef(fit_only, matrix = TRUE)"
   ]
  },
  {
   "cell_type": "code",
   "execution_count": 15,
   "id": "58890b77-152a-40b8-abef-32b6dd51ecef",
   "metadata": {
    "tags": []
   },
   "outputs": [
    {
     "data": {
      "text/html": [
       "<style>\n",
       ".list-inline {list-style: none; margin:0; padding: 0}\n",
       ".list-inline>li {display: inline-block}\n",
       ".list-inline>li:not(:last-child)::after {content: \"\\00b7\"; padding: 0 .5ex}\n",
       "</style>\n",
       "<ol class=list-inline><li>1</li><li>2</li><li>3</li><li>4</li><li>5</li><li>6</li><li>7</li><li>8</li><li>9</li><li>10</li></ol>\n"
      ],
      "text/latex": [
       "\\begin{enumerate*}\n",
       "\\item 1\n",
       "\\item 2\n",
       "\\item 3\n",
       "\\item 4\n",
       "\\item 5\n",
       "\\item 6\n",
       "\\item 7\n",
       "\\item 8\n",
       "\\item 9\n",
       "\\item 10\n",
       "\\end{enumerate*}\n"
      ],
      "text/markdown": [
       "1. 1\n",
       "2. 2\n",
       "3. 3\n",
       "4. 4\n",
       "5. 5\n",
       "6. 6\n",
       "7. 7\n",
       "8. 8\n",
       "9. 9\n",
       "10. 10\n",
       "\n",
       "\n"
      ],
      "text/plain": [
       " [1]  1  2  3  4  5  6  7  8  9 10"
      ]
     },
     "metadata": {},
     "output_type": "display_data"
    }
   ],
   "source": [
    "seq(ncol(count_df2))"
   ]
  },
  {
   "cell_type": "code",
   "execution_count": 16,
   "id": "b8b51786-1981-4b30-aa37-7ada2f786266",
   "metadata": {
    "tags": []
   },
   "outputs": [],
   "source": [
    "colnames(count_df2) <- paste(\"count\" ,seq(ncol(count_df2)),sep=\"\")"
   ]
  },
  {
   "cell_type": "code",
   "execution_count": 17,
   "id": "1fcf1d3a-79c6-4a0e-a654-6244735490a8",
   "metadata": {
    "tags": []
   },
   "outputs": [],
   "source": [
    "colnames(fraction_df) <- paste(\"fraction\" ,seq(ncol(count_df2)),sep=\"\")"
   ]
  },
  {
   "cell_type": "code",
   "execution_count": 18,
   "id": "bd41ceba-92e4-44fe-bd0f-f5e1f70d8bfe",
   "metadata": {
    "tags": []
   },
   "outputs": [],
   "source": [
    "alldata = cbind(count_df2, fraction_df)"
   ]
  },
  {
   "cell_type": "code",
   "execution_count": 19,
   "id": "49a1c3ed-2450-4e1b-af85-759e70a83a2c",
   "metadata": {
    "tags": []
   },
   "outputs": [
    {
     "data": {
      "text/html": [
       "<table class=\"dataframe\">\n",
       "<caption>A data.frame: 6 × 20</caption>\n",
       "<thead>\n",
       "\t<tr><th></th><th scope=col>count1</th><th scope=col>count2</th><th scope=col>count3</th><th scope=col>count4</th><th scope=col>count5</th><th scope=col>count6</th><th scope=col>count7</th><th scope=col>count8</th><th scope=col>count9</th><th scope=col>count10</th><th scope=col>fraction1</th><th scope=col>fraction2</th><th scope=col>fraction3</th><th scope=col>fraction4</th><th scope=col>fraction5</th><th scope=col>fraction6</th><th scope=col>fraction7</th><th scope=col>fraction8</th><th scope=col>fraction9</th><th scope=col>fraction10</th></tr>\n",
       "\t<tr><th></th><th scope=col>&lt;dbl&gt;</th><th scope=col>&lt;dbl&gt;</th><th scope=col>&lt;dbl&gt;</th><th scope=col>&lt;dbl&gt;</th><th scope=col>&lt;dbl&gt;</th><th scope=col>&lt;dbl&gt;</th><th scope=col>&lt;dbl&gt;</th><th scope=col>&lt;dbl&gt;</th><th scope=col>&lt;dbl&gt;</th><th scope=col>&lt;dbl&gt;</th><th scope=col>&lt;dbl&gt;</th><th scope=col>&lt;dbl&gt;</th><th scope=col>&lt;dbl&gt;</th><th scope=col>&lt;dbl&gt;</th><th scope=col>&lt;dbl&gt;</th><th scope=col>&lt;dbl&gt;</th><th scope=col>&lt;dbl&gt;</th><th scope=col>&lt;dbl&gt;</th><th scope=col>&lt;dbl&gt;</th><th scope=col>&lt;dbl&gt;</th></tr>\n",
       "</thead>\n",
       "<tbody>\n",
       "\t<tr><th scope=row>1</th><td>32</td><td>43</td><td>7</td><td>56</td><td>25</td><td>41</td><td>10</td><td>32</td><td>20</td><td>32</td><td>0.1040000</td><td>0.1560000</td><td>0.03200000</td><td>0.1720000</td><td>0.10000000</td><td>0.14400000</td><td>0.02800000</td><td>0.10400000</td><td>0.08400000</td><td>0.07600000</td></tr>\n",
       "\t<tr><th scope=row>2</th><td>43</td><td>53</td><td>8</td><td>61</td><td>28</td><td>37</td><td> 9</td><td>40</td><td>18</td><td>42</td><td>0.1201299</td><td>0.1558442</td><td>0.01623377</td><td>0.1850649</td><td>0.06493506</td><td>0.10714286</td><td>0.02597403</td><td>0.13311688</td><td>0.08116883</td><td>0.11038961</td></tr>\n",
       "\t<tr><th scope=row>3</th><td>27</td><td>36</td><td>8</td><td>35</td><td>18</td><td>25</td><td> 8</td><td>30</td><td>10</td><td>28</td><td>0.1572052</td><td>0.1615721</td><td>0.02620087</td><td>0.1834061</td><td>0.08733624</td><td>0.08733624</td><td>0.01746725</td><td>0.13537118</td><td>0.04366812</td><td>0.10043668</td></tr>\n",
       "\t<tr><th scope=row>4</th><td>29</td><td>31</td><td>5</td><td>43</td><td>22</td><td>18</td><td> 7</td><td>22</td><td>13</td><td>19</td><td>0.1250000</td><td>0.1761364</td><td>0.01136364</td><td>0.1988636</td><td>0.06818182</td><td>0.15909091</td><td>0.01704545</td><td>0.10227273</td><td>0.06250000</td><td>0.07954545</td></tr>\n",
       "\t<tr><th scope=row>5</th><td> 5</td><td>11</td><td>2</td><td> 9</td><td> 7</td><td> 6</td><td> 2</td><td> 8</td><td> 6</td><td> 8</td><td>0.1555556</td><td>0.1111111</td><td>0.04444444</td><td>0.2000000</td><td>0.06666667</td><td>0.13333333</td><td>0.06666667</td><td>0.13333333</td><td>0.04444444</td><td>0.04444444</td></tr>\n",
       "\t<tr><th scope=row>6</th><td> 4</td><td>10</td><td>0</td><td>14</td><td> 9</td><td> 1</td><td> 4</td><td> 8</td><td> 4</td><td> 7</td><td>0.1372549</td><td>0.1568627</td><td>0.01960784</td><td>0.2156863</td><td>0.09803922</td><td>0.07843137</td><td>0.01960784</td><td>0.07843137</td><td>0.07843137</td><td>0.11764706</td></tr>\n",
       "</tbody>\n",
       "</table>\n"
      ],
      "text/latex": [
       "A data.frame: 6 × 20\n",
       "\\begin{tabular}{r|llllllllllllllllllll}\n",
       "  & count1 & count2 & count3 & count4 & count5 & count6 & count7 & count8 & count9 & count10 & fraction1 & fraction2 & fraction3 & fraction4 & fraction5 & fraction6 & fraction7 & fraction8 & fraction9 & fraction10\\\\\n",
       "  & <dbl> & <dbl> & <dbl> & <dbl> & <dbl> & <dbl> & <dbl> & <dbl> & <dbl> & <dbl> & <dbl> & <dbl> & <dbl> & <dbl> & <dbl> & <dbl> & <dbl> & <dbl> & <dbl> & <dbl>\\\\\n",
       "\\hline\n",
       "\t1 & 32 & 43 & 7 & 56 & 25 & 41 & 10 & 32 & 20 & 32 & 0.1040000 & 0.1560000 & 0.03200000 & 0.1720000 & 0.10000000 & 0.14400000 & 0.02800000 & 0.10400000 & 0.08400000 & 0.07600000\\\\\n",
       "\t2 & 43 & 53 & 8 & 61 & 28 & 37 &  9 & 40 & 18 & 42 & 0.1201299 & 0.1558442 & 0.01623377 & 0.1850649 & 0.06493506 & 0.10714286 & 0.02597403 & 0.13311688 & 0.08116883 & 0.11038961\\\\\n",
       "\t3 & 27 & 36 & 8 & 35 & 18 & 25 &  8 & 30 & 10 & 28 & 0.1572052 & 0.1615721 & 0.02620087 & 0.1834061 & 0.08733624 & 0.08733624 & 0.01746725 & 0.13537118 & 0.04366812 & 0.10043668\\\\\n",
       "\t4 & 29 & 31 & 5 & 43 & 22 & 18 &  7 & 22 & 13 & 19 & 0.1250000 & 0.1761364 & 0.01136364 & 0.1988636 & 0.06818182 & 0.15909091 & 0.01704545 & 0.10227273 & 0.06250000 & 0.07954545\\\\\n",
       "\t5 &  5 & 11 & 2 &  9 &  7 &  6 &  2 &  8 &  6 &  8 & 0.1555556 & 0.1111111 & 0.04444444 & 0.2000000 & 0.06666667 & 0.13333333 & 0.06666667 & 0.13333333 & 0.04444444 & 0.04444444\\\\\n",
       "\t6 &  4 & 10 & 0 & 14 &  9 &  1 &  4 &  8 &  4 &  7 & 0.1372549 & 0.1568627 & 0.01960784 & 0.2156863 & 0.09803922 & 0.07843137 & 0.01960784 & 0.07843137 & 0.07843137 & 0.11764706\\\\\n",
       "\\end{tabular}\n"
      ],
      "text/markdown": [
       "\n",
       "A data.frame: 6 × 20\n",
       "\n",
       "| <!--/--> | count1 &lt;dbl&gt; | count2 &lt;dbl&gt; | count3 &lt;dbl&gt; | count4 &lt;dbl&gt; | count5 &lt;dbl&gt; | count6 &lt;dbl&gt; | count7 &lt;dbl&gt; | count8 &lt;dbl&gt; | count9 &lt;dbl&gt; | count10 &lt;dbl&gt; | fraction1 &lt;dbl&gt; | fraction2 &lt;dbl&gt; | fraction3 &lt;dbl&gt; | fraction4 &lt;dbl&gt; | fraction5 &lt;dbl&gt; | fraction6 &lt;dbl&gt; | fraction7 &lt;dbl&gt; | fraction8 &lt;dbl&gt; | fraction9 &lt;dbl&gt; | fraction10 &lt;dbl&gt; |\n",
       "|---|---|---|---|---|---|---|---|---|---|---|---|---|---|---|---|---|---|---|---|---|\n",
       "| 1 | 32 | 43 | 7 | 56 | 25 | 41 | 10 | 32 | 20 | 32 | 0.1040000 | 0.1560000 | 0.03200000 | 0.1720000 | 0.10000000 | 0.14400000 | 0.02800000 | 0.10400000 | 0.08400000 | 0.07600000 |\n",
       "| 2 | 43 | 53 | 8 | 61 | 28 | 37 |  9 | 40 | 18 | 42 | 0.1201299 | 0.1558442 | 0.01623377 | 0.1850649 | 0.06493506 | 0.10714286 | 0.02597403 | 0.13311688 | 0.08116883 | 0.11038961 |\n",
       "| 3 | 27 | 36 | 8 | 35 | 18 | 25 |  8 | 30 | 10 | 28 | 0.1572052 | 0.1615721 | 0.02620087 | 0.1834061 | 0.08733624 | 0.08733624 | 0.01746725 | 0.13537118 | 0.04366812 | 0.10043668 |\n",
       "| 4 | 29 | 31 | 5 | 43 | 22 | 18 |  7 | 22 | 13 | 19 | 0.1250000 | 0.1761364 | 0.01136364 | 0.1988636 | 0.06818182 | 0.15909091 | 0.01704545 | 0.10227273 | 0.06250000 | 0.07954545 |\n",
       "| 5 |  5 | 11 | 2 |  9 |  7 |  6 |  2 |  8 |  6 |  8 | 0.1555556 | 0.1111111 | 0.04444444 | 0.2000000 | 0.06666667 | 0.13333333 | 0.06666667 | 0.13333333 | 0.04444444 | 0.04444444 |\n",
       "| 6 |  4 | 10 | 0 | 14 |  9 |  1 |  4 |  8 |  4 |  7 | 0.1372549 | 0.1568627 | 0.01960784 | 0.2156863 | 0.09803922 | 0.07843137 | 0.01960784 | 0.07843137 | 0.07843137 | 0.11764706 |\n",
       "\n"
      ],
      "text/plain": [
       "  count1 count2 count3 count4 count5 count6 count7 count8 count9 count10\n",
       "1 32     43     7      56     25     41     10     32     20     32     \n",
       "2 43     53     8      61     28     37      9     40     18     42     \n",
       "3 27     36     8      35     18     25      8     30     10     28     \n",
       "4 29     31     5      43     22     18      7     22     13     19     \n",
       "5  5     11     2       9      7      6      2      8      6      8     \n",
       "6  4     10     0      14      9      1      4      8      4      7     \n",
       "  fraction1 fraction2 fraction3  fraction4 fraction5  fraction6  fraction7 \n",
       "1 0.1040000 0.1560000 0.03200000 0.1720000 0.10000000 0.14400000 0.02800000\n",
       "2 0.1201299 0.1558442 0.01623377 0.1850649 0.06493506 0.10714286 0.02597403\n",
       "3 0.1572052 0.1615721 0.02620087 0.1834061 0.08733624 0.08733624 0.01746725\n",
       "4 0.1250000 0.1761364 0.01136364 0.1988636 0.06818182 0.15909091 0.01704545\n",
       "5 0.1555556 0.1111111 0.04444444 0.2000000 0.06666667 0.13333333 0.06666667\n",
       "6 0.1372549 0.1568627 0.01960784 0.2156863 0.09803922 0.07843137 0.01960784\n",
       "  fraction8  fraction9  fraction10\n",
       "1 0.10400000 0.08400000 0.07600000\n",
       "2 0.13311688 0.08116883 0.11038961\n",
       "3 0.13537118 0.04366812 0.10043668\n",
       "4 0.10227273 0.06250000 0.07954545\n",
       "5 0.13333333 0.04444444 0.04444444\n",
       "6 0.07843137 0.07843137 0.11764706"
      ]
     },
     "metadata": {},
     "output_type": "display_data"
    }
   ],
   "source": [
    "head(alldata)"
   ]
  },
  {
   "cell_type": "code",
   "execution_count": 21,
   "id": "76798c91-137b-4cc5-a452-1ef39e40caaf",
   "metadata": {
    "tags": []
   },
   "outputs": [
    {
     "name": "stdout",
     "output_type": "stream",
     "text": [
      "VGLM    linear loop  1 :  loglikelihood = -10910.854\n",
      "VGLM    linear loop  2 :  loglikelihood = -10845.008\n",
      "VGLM    linear loop  3 :  loglikelihood = -10807.936\n",
      "VGLM    linear loop  4 :  loglikelihood = -10783\n",
      "VGLM    linear loop  5 :  loglikelihood = -10765\n",
      "VGLM    linear loop  6 :  loglikelihood = -10753.281\n",
      "VGLM    linear loop  7 :  loglikelihood = -10745.923\n",
      "VGLM    linear loop  8 :  loglikelihood = -10741.592\n",
      "VGLM    linear loop  9 :  loglikelihood = -10739.105\n",
      "VGLM    linear loop  10 :  loglikelihood = -10737.854\n",
      "VGLM    linear loop  11 :  loglikelihood = -10737.373\n"
     ]
    },
    {
     "name": "stderr",
     "output_type": "stream",
     "text": [
      "Warning message in checkwz(wz, M = M, trace = trace, wzepsilon = control$wzepsilon):\n",
      "“100 diagonal elements of the working weights variable 'wz' have been replaced by 1.819e-12”\n"
     ]
    },
    {
     "name": "stdout",
     "output_type": "stream",
     "text": [
      "VGLM    linear loop  12 :  loglikelihood = -10737.125\n"
     ]
    },
    {
     "name": "stderr",
     "output_type": "stream",
     "text": [
      "Warning message in checkwz(wz, M = M, trace = trace, wzepsilon = control$wzepsilon):\n",
      "“100 diagonal elements of the working weights variable 'wz' have been replaced by 1.819e-12”\n"
     ]
    },
    {
     "name": "stdout",
     "output_type": "stream",
     "text": [
      "VGLM    linear loop  13 :  loglikelihood = -10737\n"
     ]
    },
    {
     "name": "stderr",
     "output_type": "stream",
     "text": [
      "Warning message in checkwz(wz, M = M, trace = trace, wzepsilon = control$wzepsilon):\n",
      "“100 diagonal elements of the working weights variable 'wz' have been replaced by 1.819e-12”\n"
     ]
    },
    {
     "name": "stdout",
     "output_type": "stream",
     "text": [
      "VGLM    linear loop  14 :  loglikelihood = -10736.95\n"
     ]
    },
    {
     "name": "stderr",
     "output_type": "stream",
     "text": [
      "Warning message in checkwz(wz, M = M, trace = trace, wzepsilon = control$wzepsilon):\n",
      "“100 diagonal elements of the working weights variable 'wz' have been replaced by 1.819e-12”\n"
     ]
    },
    {
     "name": "stdout",
     "output_type": "stream",
     "text": [
      "VGLM    linear loop  15 :  loglikelihood = -10736.947\n"
     ]
    },
    {
     "name": "stderr",
     "output_type": "stream",
     "text": [
      "Warning message in checkwz(wz, M = M, trace = trace, wzepsilon = control$wzepsilon):\n",
      "“100 diagonal elements of the working weights variable 'wz' have been replaced by 1.819e-12”\n"
     ]
    },
    {
     "name": "stdout",
     "output_type": "stream",
     "text": [
      "VGLM    linear loop  16 :  loglikelihood = -10736.973\n",
      "Taking a modified step....................\n"
     ]
    },
    {
     "name": "stderr",
     "output_type": "stream",
     "text": [
      "Warning message in vglm.fitter(x = x, y = y, w = w, offset = offset, Xm2 = Xm2, :\n",
      "“iterations terminated because half-step sizes are very small”\n",
      "Warning message in vglm.fitter(x = x, y = y, w = w, offset = offset, Xm2 = Xm2, :\n",
      "“some quantities such as z, residuals, SEs may be inaccurate due to convergence at a half-step”\n"
     ]
    }
   ],
   "source": [
    "fit.full = VGAM::vglm(cbind(count1,count2,count3,count4,count5,count6,count7,count8,count9,count10) ~ \n",
    "                      fraction1+fraction2+fraction3+fraction4+fraction5+fraction6+fraction7+fraction8+fraction9,\n",
    "            dirmultinomial,\n",
    "            data = head(alldata,100), trace = TRUE,\n",
    "                      \n",
    "                )\n"
   ]
  },
  {
   "cell_type": "code",
   "execution_count": 65,
   "id": "67e35e5d-b564-44a1-bf33-bc72ed1f84ac",
   "metadata": {
    "tags": []
   },
   "outputs": [
    {
     "data": {
      "text/html": [
       "<style>\n",
       ".dl-inline {width: auto; margin:0; padding: 0}\n",
       ".dl-inline>dt, .dl-inline>dd {float: none; width: auto; display: inline-block}\n",
       ".dl-inline>dt::after {content: \":\\0020\"; padding-right: .5ex}\n",
       ".dl-inline>dt:not(:first-of-type) {padding-left: .5ex}\n",
       "</style><dl class=dl-inline><dt>(Intercept):1</dt><dd>-3.45052767709458</dd><dt>(Intercept):2</dt><dd>-3.48940850773001</dd><dt>(Intercept):3</dt><dd>-4.28169913483874</dd><dt>(Intercept):4</dt><dd>-4.04400578103994</dd><dt>(Intercept):5</dt><dd>-4.34078476165743</dd><dt>(Intercept):6</dt><dd>-3.30656677420046</dd><dt>(Intercept):7</dt><dd>-4.53799335843704</dd><dt>(Intercept):8</dt><dd>-1.05805269143015</dd><dt>(Intercept):9</dt><dd>-4.67464901644908</dd><dt>(Intercept):10</dt><dd>-81.0610761020105</dd><dt>fraction1:1</dt><dd>3.73192662199818</dd><dt>fraction1:2</dt><dd>1.87487083832583</dd><dt>fraction1:3</dt><dd>3.45549658904497</dd><dt>fraction1:4</dt><dd>4.48594154717192</dd><dt>fraction1:5</dt><dd>3.49684012566542</dd><dt>fraction1:6</dt><dd>3.68858234592847</dd><dt>fraction1:7</dt><dd>5.02614163243234</dd><dt>fraction1:8</dt><dd>0.867031541263976</dd><dt>fraction1:9</dt><dd>5.17236828634694</dd><dt>fraction2:1</dt><dd>1.92362588620117</dd><dt>fraction2:2</dt><dd>5.67882601371671</dd><dt>fraction2:3</dt><dd>-0.159062658058643</dd><dt>fraction2:4</dt><dd>3.90704618666832</dd><dt>fraction2:5</dt><dd>3.44766599084217</dd><dt>fraction2:6</dt><dd>0.453280185032952</dd><dt>fraction2:7</dt><dd>3.01861159251124</dd><dt>fraction2:8</dt><dd>0.676456397522947</dd><dt>fraction2:9</dt><dd>1.43282858081762</dd><dt>fraction3:1</dt><dd>3.27993678381567</dd><dt>fraction3:2</dt><dd>3.32101828097808</dd><dt>fraction3:3</dt><dd>5.3940071865674</dd><dt>fraction3:4</dt><dd>5.09703030841418</dd><dt>fraction3:5</dt><dd>6.01637447795126</dd><dt>fraction3:6</dt><dd>2.83243135411316</dd><dt>fraction3:7</dt><dd>-0.948385890486258</dd><dt>fraction3:8</dt><dd>-1.4272351244695</dd><dt>fraction3:9</dt><dd>4.57969499316813</dd><dt>fraction4:1</dt><dd>4.47714984663503</dd><dt>fraction4:2</dt><dd>4.72756576476182</dd><dt>fraction4:3</dt><dd>1.70280210074304</dd><dt>fraction4:4</dt><dd>6.89340048739816</dd><dt>fraction4:5</dt><dd>5.73817106145076</dd><dt>fraction4:6</dt><dd>2.91966387568402</dd><dt>fraction4:7</dt><dd>1.89489430987648</dd><dt>fraction4:8</dt><dd>1.61487625980897</dd><dt>fraction4:9</dt><dd>3.58991316349173</dd><dt>fraction5:1</dt><dd>6.95114425903367</dd><dt>fraction5:2</dt><dd>6.6093879411071</dd><dt>fraction5:3</dt><dd>11.6345806228753</dd><dt>fraction5:4</dt><dd>5.99198001315981</dd><dt>fraction5:5</dt><dd>9.96355547279527</dd><dt>fraction5:6</dt><dd>5.40821497826247</dd><dt>fraction5:7</dt><dd>9.78691528214997</dd><dt>fraction5:8</dt><dd>1.20090032577666</dd><dt>fraction5:9</dt><dd>8.59162384459859</dd><dt>fraction6:1</dt><dd>4.74990633827901</dd><dt>fraction6:2</dt><dd>4.13314236613963</dd><dt>fraction6:3</dt><dd>6.43875794442684</dd><dt>fraction6:4</dt><dd>6.24118552279811</dd><dt>fraction6:5</dt><dd>4.24536995032996</dd><dt>fraction6:6</dt><dd>10.0217328507381</dd><dt>fraction6:7</dt><dd>4.41225078717234</dd><dt>fraction6:8</dt><dd>0.419298427000621</dd><dt>fraction6:9</dt><dd>5.93348128270267</dd><dt>fraction7:1</dt><dd>5.99810650903167</dd><dt>fraction7:2</dt><dd>2.16191082380789</dd><dt>fraction7:3</dt><dd>12.0816735345758</dd><dt>fraction7:4</dt><dd>3.1767675097915</dd><dt>fraction7:5</dt><dd>5.11861266584031</dd><dt>fraction7:6</dt><dd>6.22134861933806</dd><dt>fraction7:7</dt><dd>9.26622038953604</dd><dt>fraction7:8</dt><dd>-2.71860078278932</dd><dt>fraction7:9</dt><dd>4.04930782430833</dd><dt>fraction8:1</dt><dd>2.12850056067703</dd><dt>fraction8:2</dt><dd>4.16892929693771</dd><dt>fraction8:3</dt><dd>-1.06435473634754</dd><dt>fraction8:4</dt><dd>3.34752003058328</dd><dt>fraction8:5</dt><dd>2.02168483054459</dd><dt>fraction8:6</dt><dd>1.60229055260734</dd><dt>fraction8:7</dt><dd>2.15578038960172</dd><dt>fraction8:8</dt><dd>2.99191310829338</dd><dt>fraction8:9</dt><dd>3.68960610837602</dd><dt>fraction9:1</dt><dd>2.43658870744041</dd><dt>fraction9:2</dt><dd>1.9376537877425</dd><dt>fraction9:3</dt><dd>1.70813417920439</dd><dt>fraction9:4</dt><dd>3.01015110675189</dd><dt>fraction9:5</dt><dd>2.92832311873701</dd><dt>fraction9:6</dt><dd>2.67367190335515</dd><dt>fraction9:7</dt><dd>1.75638247927257</dd><dt>fraction9:8</dt><dd>1.49704388324764</dd><dt>fraction9:9</dt><dd>6.8446799797483</dd></dl>\n"
      ],
      "text/latex": [
       "\\begin{description*}\n",
       "\\item[(Intercept):1] -3.45052767709458\n",
       "\\item[(Intercept):2] -3.48940850773001\n",
       "\\item[(Intercept):3] -4.28169913483874\n",
       "\\item[(Intercept):4] -4.04400578103994\n",
       "\\item[(Intercept):5] -4.34078476165743\n",
       "\\item[(Intercept):6] -3.30656677420046\n",
       "\\item[(Intercept):7] -4.53799335843704\n",
       "\\item[(Intercept):8] -1.05805269143015\n",
       "\\item[(Intercept):9] -4.67464901644908\n",
       "\\item[(Intercept):10] -81.0610761020105\n",
       "\\item[fraction1:1] 3.73192662199818\n",
       "\\item[fraction1:2] 1.87487083832583\n",
       "\\item[fraction1:3] 3.45549658904497\n",
       "\\item[fraction1:4] 4.48594154717192\n",
       "\\item[fraction1:5] 3.49684012566542\n",
       "\\item[fraction1:6] 3.68858234592847\n",
       "\\item[fraction1:7] 5.02614163243234\n",
       "\\item[fraction1:8] 0.867031541263976\n",
       "\\item[fraction1:9] 5.17236828634694\n",
       "\\item[fraction2:1] 1.92362588620117\n",
       "\\item[fraction2:2] 5.67882601371671\n",
       "\\item[fraction2:3] -0.159062658058643\n",
       "\\item[fraction2:4] 3.90704618666832\n",
       "\\item[fraction2:5] 3.44766599084217\n",
       "\\item[fraction2:6] 0.453280185032952\n",
       "\\item[fraction2:7] 3.01861159251124\n",
       "\\item[fraction2:8] 0.676456397522947\n",
       "\\item[fraction2:9] 1.43282858081762\n",
       "\\item[fraction3:1] 3.27993678381567\n",
       "\\item[fraction3:2] 3.32101828097808\n",
       "\\item[fraction3:3] 5.3940071865674\n",
       "\\item[fraction3:4] 5.09703030841418\n",
       "\\item[fraction3:5] 6.01637447795126\n",
       "\\item[fraction3:6] 2.83243135411316\n",
       "\\item[fraction3:7] -0.948385890486258\n",
       "\\item[fraction3:8] -1.4272351244695\n",
       "\\item[fraction3:9] 4.57969499316813\n",
       "\\item[fraction4:1] 4.47714984663503\n",
       "\\item[fraction4:2] 4.72756576476182\n",
       "\\item[fraction4:3] 1.70280210074304\n",
       "\\item[fraction4:4] 6.89340048739816\n",
       "\\item[fraction4:5] 5.73817106145076\n",
       "\\item[fraction4:6] 2.91966387568402\n",
       "\\item[fraction4:7] 1.89489430987648\n",
       "\\item[fraction4:8] 1.61487625980897\n",
       "\\item[fraction4:9] 3.58991316349173\n",
       "\\item[fraction5:1] 6.95114425903367\n",
       "\\item[fraction5:2] 6.6093879411071\n",
       "\\item[fraction5:3] 11.6345806228753\n",
       "\\item[fraction5:4] 5.99198001315981\n",
       "\\item[fraction5:5] 9.96355547279527\n",
       "\\item[fraction5:6] 5.40821497826247\n",
       "\\item[fraction5:7] 9.78691528214997\n",
       "\\item[fraction5:8] 1.20090032577666\n",
       "\\item[fraction5:9] 8.59162384459859\n",
       "\\item[fraction6:1] 4.74990633827901\n",
       "\\item[fraction6:2] 4.13314236613963\n",
       "\\item[fraction6:3] 6.43875794442684\n",
       "\\item[fraction6:4] 6.24118552279811\n",
       "\\item[fraction6:5] 4.24536995032996\n",
       "\\item[fraction6:6] 10.0217328507381\n",
       "\\item[fraction6:7] 4.41225078717234\n",
       "\\item[fraction6:8] 0.419298427000621\n",
       "\\item[fraction6:9] 5.93348128270267\n",
       "\\item[fraction7:1] 5.99810650903167\n",
       "\\item[fraction7:2] 2.16191082380789\n",
       "\\item[fraction7:3] 12.0816735345758\n",
       "\\item[fraction7:4] 3.1767675097915\n",
       "\\item[fraction7:5] 5.11861266584031\n",
       "\\item[fraction7:6] 6.22134861933806\n",
       "\\item[fraction7:7] 9.26622038953604\n",
       "\\item[fraction7:8] -2.71860078278932\n",
       "\\item[fraction7:9] 4.04930782430833\n",
       "\\item[fraction8:1] 2.12850056067703\n",
       "\\item[fraction8:2] 4.16892929693771\n",
       "\\item[fraction8:3] -1.06435473634754\n",
       "\\item[fraction8:4] 3.34752003058328\n",
       "\\item[fraction8:5] 2.02168483054459\n",
       "\\item[fraction8:6] 1.60229055260734\n",
       "\\item[fraction8:7] 2.15578038960172\n",
       "\\item[fraction8:8] 2.99191310829338\n",
       "\\item[fraction8:9] 3.68960610837602\n",
       "\\item[fraction9:1] 2.43658870744041\n",
       "\\item[fraction9:2] 1.9376537877425\n",
       "\\item[fraction9:3] 1.70813417920439\n",
       "\\item[fraction9:4] 3.01015110675189\n",
       "\\item[fraction9:5] 2.92832311873701\n",
       "\\item[fraction9:6] 2.67367190335515\n",
       "\\item[fraction9:7] 1.75638247927257\n",
       "\\item[fraction9:8] 1.49704388324764\n",
       "\\item[fraction9:9] 6.8446799797483\n",
       "\\end{description*}\n"
      ],
      "text/markdown": [
       "(Intercept):1\n",
       ":   -3.45052767709458(Intercept):2\n",
       ":   -3.48940850773001(Intercept):3\n",
       ":   -4.28169913483874(Intercept):4\n",
       ":   -4.04400578103994(Intercept):5\n",
       ":   -4.34078476165743(Intercept):6\n",
       ":   -3.30656677420046(Intercept):7\n",
       ":   -4.53799335843704(Intercept):8\n",
       ":   -1.05805269143015(Intercept):9\n",
       ":   -4.67464901644908(Intercept):10\n",
       ":   -81.0610761020105fraction1:1\n",
       ":   3.73192662199818fraction1:2\n",
       ":   1.87487083832583fraction1:3\n",
       ":   3.45549658904497fraction1:4\n",
       ":   4.48594154717192fraction1:5\n",
       ":   3.49684012566542fraction1:6\n",
       ":   3.68858234592847fraction1:7\n",
       ":   5.02614163243234fraction1:8\n",
       ":   0.867031541263976fraction1:9\n",
       ":   5.17236828634694fraction2:1\n",
       ":   1.92362588620117fraction2:2\n",
       ":   5.67882601371671fraction2:3\n",
       ":   -0.159062658058643fraction2:4\n",
       ":   3.90704618666832fraction2:5\n",
       ":   3.44766599084217fraction2:6\n",
       ":   0.453280185032952fraction2:7\n",
       ":   3.01861159251124fraction2:8\n",
       ":   0.676456397522947fraction2:9\n",
       ":   1.43282858081762fraction3:1\n",
       ":   3.27993678381567fraction3:2\n",
       ":   3.32101828097808fraction3:3\n",
       ":   5.3940071865674fraction3:4\n",
       ":   5.09703030841418fraction3:5\n",
       ":   6.01637447795126fraction3:6\n",
       ":   2.83243135411316fraction3:7\n",
       ":   -0.948385890486258fraction3:8\n",
       ":   -1.4272351244695fraction3:9\n",
       ":   4.57969499316813fraction4:1\n",
       ":   4.47714984663503fraction4:2\n",
       ":   4.72756576476182fraction4:3\n",
       ":   1.70280210074304fraction4:4\n",
       ":   6.89340048739816fraction4:5\n",
       ":   5.73817106145076fraction4:6\n",
       ":   2.91966387568402fraction4:7\n",
       ":   1.89489430987648fraction4:8\n",
       ":   1.61487625980897fraction4:9\n",
       ":   3.58991316349173fraction5:1\n",
       ":   6.95114425903367fraction5:2\n",
       ":   6.6093879411071fraction5:3\n",
       ":   11.6345806228753fraction5:4\n",
       ":   5.99198001315981fraction5:5\n",
       ":   9.96355547279527fraction5:6\n",
       ":   5.40821497826247fraction5:7\n",
       ":   9.78691528214997fraction5:8\n",
       ":   1.20090032577666fraction5:9\n",
       ":   8.59162384459859fraction6:1\n",
       ":   4.74990633827901fraction6:2\n",
       ":   4.13314236613963fraction6:3\n",
       ":   6.43875794442684fraction6:4\n",
       ":   6.24118552279811fraction6:5\n",
       ":   4.24536995032996fraction6:6\n",
       ":   10.0217328507381fraction6:7\n",
       ":   4.41225078717234fraction6:8\n",
       ":   0.419298427000621fraction6:9\n",
       ":   5.93348128270267fraction7:1\n",
       ":   5.99810650903167fraction7:2\n",
       ":   2.16191082380789fraction7:3\n",
       ":   12.0816735345758fraction7:4\n",
       ":   3.1767675097915fraction7:5\n",
       ":   5.11861266584031fraction7:6\n",
       ":   6.22134861933806fraction7:7\n",
       ":   9.26622038953604fraction7:8\n",
       ":   -2.71860078278932fraction7:9\n",
       ":   4.04930782430833fraction8:1\n",
       ":   2.12850056067703fraction8:2\n",
       ":   4.16892929693771fraction8:3\n",
       ":   -1.06435473634754fraction8:4\n",
       ":   3.34752003058328fraction8:5\n",
       ":   2.02168483054459fraction8:6\n",
       ":   1.60229055260734fraction8:7\n",
       ":   2.15578038960172fraction8:8\n",
       ":   2.99191310829338fraction8:9\n",
       ":   3.68960610837602fraction9:1\n",
       ":   2.43658870744041fraction9:2\n",
       ":   1.9376537877425fraction9:3\n",
       ":   1.70813417920439fraction9:4\n",
       ":   3.01015110675189fraction9:5\n",
       ":   2.92832311873701fraction9:6\n",
       ":   2.67367190335515fraction9:7\n",
       ":   1.75638247927257fraction9:8\n",
       ":   1.49704388324764fraction9:9\n",
       ":   6.8446799797483\n",
       "\n"
      ],
      "text/plain": [
       " (Intercept):1  (Intercept):2  (Intercept):3  (Intercept):4  (Intercept):5 \n",
       "    -3.4505277     -3.4894085     -4.2816991     -4.0440058     -4.3407848 \n",
       " (Intercept):6  (Intercept):7  (Intercept):8  (Intercept):9 (Intercept):10 \n",
       "    -3.3065668     -4.5379934     -1.0580527     -4.6746490    -81.0610761 \n",
       "   fraction1:1    fraction1:2    fraction1:3    fraction1:4    fraction1:5 \n",
       "     3.7319266      1.8748708      3.4554966      4.4859415      3.4968401 \n",
       "   fraction1:6    fraction1:7    fraction1:8    fraction1:9    fraction2:1 \n",
       "     3.6885823      5.0261416      0.8670315      5.1723683      1.9236259 \n",
       "   fraction2:2    fraction2:3    fraction2:4    fraction2:5    fraction2:6 \n",
       "     5.6788260     -0.1590627      3.9070462      3.4476660      0.4532802 \n",
       "   fraction2:7    fraction2:8    fraction2:9    fraction3:1    fraction3:2 \n",
       "     3.0186116      0.6764564      1.4328286      3.2799368      3.3210183 \n",
       "   fraction3:3    fraction3:4    fraction3:5    fraction3:6    fraction3:7 \n",
       "     5.3940072      5.0970303      6.0163745      2.8324314     -0.9483859 \n",
       "   fraction3:8    fraction3:9    fraction4:1    fraction4:2    fraction4:3 \n",
       "    -1.4272351      4.5796950      4.4771498      4.7275658      1.7028021 \n",
       "   fraction4:4    fraction4:5    fraction4:6    fraction4:7    fraction4:8 \n",
       "     6.8934005      5.7381711      2.9196639      1.8948943      1.6148763 \n",
       "   fraction4:9    fraction5:1    fraction5:2    fraction5:3    fraction5:4 \n",
       "     3.5899132      6.9511443      6.6093879     11.6345806      5.9919800 \n",
       "   fraction5:5    fraction5:6    fraction5:7    fraction5:8    fraction5:9 \n",
       "     9.9635555      5.4082150      9.7869153      1.2009003      8.5916238 \n",
       "   fraction6:1    fraction6:2    fraction6:3    fraction6:4    fraction6:5 \n",
       "     4.7499063      4.1331424      6.4387579      6.2411855      4.2453700 \n",
       "   fraction6:6    fraction6:7    fraction6:8    fraction6:9    fraction7:1 \n",
       "    10.0217329      4.4122508      0.4192984      5.9334813      5.9981065 \n",
       "   fraction7:2    fraction7:3    fraction7:4    fraction7:5    fraction7:6 \n",
       "     2.1619108     12.0816735      3.1767675      5.1186127      6.2213486 \n",
       "   fraction7:7    fraction7:8    fraction7:9    fraction8:1    fraction8:2 \n",
       "     9.2662204     -2.7186008      4.0493078      2.1285006      4.1689293 \n",
       "   fraction8:3    fraction8:4    fraction8:5    fraction8:6    fraction8:7 \n",
       "    -1.0643547      3.3475200      2.0216848      1.6022906      2.1557804 \n",
       "   fraction8:8    fraction8:9    fraction9:1    fraction9:2    fraction9:3 \n",
       "     2.9919131      3.6896061      2.4365887      1.9376538      1.7081342 \n",
       "   fraction9:4    fraction9:5    fraction9:6    fraction9:7    fraction9:8 \n",
       "     3.0101511      2.9283231      2.6736719      1.7563825      1.4970439 \n",
       "   fraction9:9 \n",
       "     6.8446800 "
      ]
     },
     "metadata": {},
     "output_type": "display_data"
    }
   ],
   "source": [
    "coef(fit.full)"
   ]
  },
  {
   "cell_type": "code",
   "execution_count": 23,
   "id": "cdf4f1f9-84a6-4bc0-8895-e58881174dd7",
   "metadata": {
    "tags": []
   },
   "outputs": [
    {
     "data": {
      "text/html": [
       "<table class=\"dataframe\">\n",
       "<caption>A matrix: 10 × 10 of type dbl</caption>\n",
       "<thead>\n",
       "\t<tr><th></th><th scope=col>log(prob[,1]/prob[,10])</th><th scope=col>log(prob[,2]/prob[,10])</th><th scope=col>log(prob[,3]/prob[,10])</th><th scope=col>log(prob[,4]/prob[,10])</th><th scope=col>log(prob[,5]/prob[,10])</th><th scope=col>log(prob[,6]/prob[,10])</th><th scope=col>log(prob[,7]/prob[,10])</th><th scope=col>log(prob[,8]/prob[,10])</th><th scope=col>log(prob[,9]/prob[,10])</th><th scope=col>logitlink(phi)</th></tr>\n",
       "</thead>\n",
       "<tbody>\n",
       "\t<tr><th scope=row>(Intercept)</th><td>-3.450528</td><td>-3.489409</td><td>-4.2816991</td><td>-4.044006</td><td>-4.340785</td><td>-3.3065668</td><td>-4.5379934</td><td>-1.0580527</td><td>-4.674649</td><td>-81.06108</td></tr>\n",
       "\t<tr><th scope=row>fraction1</th><td> 3.731927</td><td> 1.874871</td><td> 3.4554966</td><td> 4.485942</td><td> 3.496840</td><td> 3.6885823</td><td> 5.0261416</td><td> 0.8670315</td><td> 5.172368</td><td>  0.00000</td></tr>\n",
       "\t<tr><th scope=row>fraction2</th><td> 1.923626</td><td> 5.678826</td><td>-0.1590627</td><td> 3.907046</td><td> 3.447666</td><td> 0.4532802</td><td> 3.0186116</td><td> 0.6764564</td><td> 1.432829</td><td>  0.00000</td></tr>\n",
       "\t<tr><th scope=row>fraction3</th><td> 3.279937</td><td> 3.321018</td><td> 5.3940072</td><td> 5.097030</td><td> 6.016374</td><td> 2.8324314</td><td>-0.9483859</td><td>-1.4272351</td><td> 4.579695</td><td>  0.00000</td></tr>\n",
       "\t<tr><th scope=row>fraction4</th><td> 4.477150</td><td> 4.727566</td><td> 1.7028021</td><td> 6.893400</td><td> 5.738171</td><td> 2.9196639</td><td> 1.8948943</td><td> 1.6148763</td><td> 3.589913</td><td>  0.00000</td></tr>\n",
       "\t<tr><th scope=row>fraction5</th><td> 6.951144</td><td> 6.609388</td><td>11.6345806</td><td> 5.991980</td><td> 9.963555</td><td> 5.4082150</td><td> 9.7869153</td><td> 1.2009003</td><td> 8.591624</td><td>  0.00000</td></tr>\n",
       "\t<tr><th scope=row>fraction6</th><td> 4.749906</td><td> 4.133142</td><td> 6.4387579</td><td> 6.241186</td><td> 4.245370</td><td>10.0217329</td><td> 4.4122508</td><td> 0.4192984</td><td> 5.933481</td><td>  0.00000</td></tr>\n",
       "\t<tr><th scope=row>fraction7</th><td> 5.998107</td><td> 2.161911</td><td>12.0816735</td><td> 3.176768</td><td> 5.118613</td><td> 6.2213486</td><td> 9.2662204</td><td>-2.7186008</td><td> 4.049308</td><td>  0.00000</td></tr>\n",
       "\t<tr><th scope=row>fraction8</th><td> 2.128501</td><td> 4.168929</td><td>-1.0643547</td><td> 3.347520</td><td> 2.021685</td><td> 1.6022906</td><td> 2.1557804</td><td> 2.9919131</td><td> 3.689606</td><td>  0.00000</td></tr>\n",
       "\t<tr><th scope=row>fraction9</th><td> 2.436589</td><td> 1.937654</td><td> 1.7081342</td><td> 3.010151</td><td> 2.928323</td><td> 2.6736719</td><td> 1.7563825</td><td> 1.4970439</td><td> 6.844680</td><td>  0.00000</td></tr>\n",
       "</tbody>\n",
       "</table>\n"
      ],
      "text/latex": [
       "A matrix: 10 × 10 of type dbl\n",
       "\\begin{tabular}{r|llllllllll}\n",
       "  & log(prob{[},1{]}/prob{[},10{]}) & log(prob{[},2{]}/prob{[},10{]}) & log(prob{[},3{]}/prob{[},10{]}) & log(prob{[},4{]}/prob{[},10{]}) & log(prob{[},5{]}/prob{[},10{]}) & log(prob{[},6{]}/prob{[},10{]}) & log(prob{[},7{]}/prob{[},10{]}) & log(prob{[},8{]}/prob{[},10{]}) & log(prob{[},9{]}/prob{[},10{]}) & logitlink(phi)\\\\\n",
       "\\hline\n",
       "\t(Intercept) & -3.450528 & -3.489409 & -4.2816991 & -4.044006 & -4.340785 & -3.3065668 & -4.5379934 & -1.0580527 & -4.674649 & -81.06108\\\\\n",
       "\tfraction1 &  3.731927 &  1.874871 &  3.4554966 &  4.485942 &  3.496840 &  3.6885823 &  5.0261416 &  0.8670315 &  5.172368 &   0.00000\\\\\n",
       "\tfraction2 &  1.923626 &  5.678826 & -0.1590627 &  3.907046 &  3.447666 &  0.4532802 &  3.0186116 &  0.6764564 &  1.432829 &   0.00000\\\\\n",
       "\tfraction3 &  3.279937 &  3.321018 &  5.3940072 &  5.097030 &  6.016374 &  2.8324314 & -0.9483859 & -1.4272351 &  4.579695 &   0.00000\\\\\n",
       "\tfraction4 &  4.477150 &  4.727566 &  1.7028021 &  6.893400 &  5.738171 &  2.9196639 &  1.8948943 &  1.6148763 &  3.589913 &   0.00000\\\\\n",
       "\tfraction5 &  6.951144 &  6.609388 & 11.6345806 &  5.991980 &  9.963555 &  5.4082150 &  9.7869153 &  1.2009003 &  8.591624 &   0.00000\\\\\n",
       "\tfraction6 &  4.749906 &  4.133142 &  6.4387579 &  6.241186 &  4.245370 & 10.0217329 &  4.4122508 &  0.4192984 &  5.933481 &   0.00000\\\\\n",
       "\tfraction7 &  5.998107 &  2.161911 & 12.0816735 &  3.176768 &  5.118613 &  6.2213486 &  9.2662204 & -2.7186008 &  4.049308 &   0.00000\\\\\n",
       "\tfraction8 &  2.128501 &  4.168929 & -1.0643547 &  3.347520 &  2.021685 &  1.6022906 &  2.1557804 &  2.9919131 &  3.689606 &   0.00000\\\\\n",
       "\tfraction9 &  2.436589 &  1.937654 &  1.7081342 &  3.010151 &  2.928323 &  2.6736719 &  1.7563825 &  1.4970439 &  6.844680 &   0.00000\\\\\n",
       "\\end{tabular}\n"
      ],
      "text/markdown": [
       "\n",
       "A matrix: 10 × 10 of type dbl\n",
       "\n",
       "| <!--/--> | log(prob[,1]/prob[,10]) | log(prob[,2]/prob[,10]) | log(prob[,3]/prob[,10]) | log(prob[,4]/prob[,10]) | log(prob[,5]/prob[,10]) | log(prob[,6]/prob[,10]) | log(prob[,7]/prob[,10]) | log(prob[,8]/prob[,10]) | log(prob[,9]/prob[,10]) | logitlink(phi) |\n",
       "|---|---|---|---|---|---|---|---|---|---|---|\n",
       "| (Intercept) | -3.450528 | -3.489409 | -4.2816991 | -4.044006 | -4.340785 | -3.3065668 | -4.5379934 | -1.0580527 | -4.674649 | -81.06108 |\n",
       "| fraction1 |  3.731927 |  1.874871 |  3.4554966 |  4.485942 |  3.496840 |  3.6885823 |  5.0261416 |  0.8670315 |  5.172368 |   0.00000 |\n",
       "| fraction2 |  1.923626 |  5.678826 | -0.1590627 |  3.907046 |  3.447666 |  0.4532802 |  3.0186116 |  0.6764564 |  1.432829 |   0.00000 |\n",
       "| fraction3 |  3.279937 |  3.321018 |  5.3940072 |  5.097030 |  6.016374 |  2.8324314 | -0.9483859 | -1.4272351 |  4.579695 |   0.00000 |\n",
       "| fraction4 |  4.477150 |  4.727566 |  1.7028021 |  6.893400 |  5.738171 |  2.9196639 |  1.8948943 |  1.6148763 |  3.589913 |   0.00000 |\n",
       "| fraction5 |  6.951144 |  6.609388 | 11.6345806 |  5.991980 |  9.963555 |  5.4082150 |  9.7869153 |  1.2009003 |  8.591624 |   0.00000 |\n",
       "| fraction6 |  4.749906 |  4.133142 |  6.4387579 |  6.241186 |  4.245370 | 10.0217329 |  4.4122508 |  0.4192984 |  5.933481 |   0.00000 |\n",
       "| fraction7 |  5.998107 |  2.161911 | 12.0816735 |  3.176768 |  5.118613 |  6.2213486 |  9.2662204 | -2.7186008 |  4.049308 |   0.00000 |\n",
       "| fraction8 |  2.128501 |  4.168929 | -1.0643547 |  3.347520 |  2.021685 |  1.6022906 |  2.1557804 |  2.9919131 |  3.689606 |   0.00000 |\n",
       "| fraction9 |  2.436589 |  1.937654 |  1.7081342 |  3.010151 |  2.928323 |  2.6736719 |  1.7563825 |  1.4970439 |  6.844680 |   0.00000 |\n",
       "\n"
      ],
      "text/plain": [
       "            log(prob[,1]/prob[,10]) log(prob[,2]/prob[,10])\n",
       "(Intercept) -3.450528               -3.489409              \n",
       "fraction1    3.731927                1.874871              \n",
       "fraction2    1.923626                5.678826              \n",
       "fraction3    3.279937                3.321018              \n",
       "fraction4    4.477150                4.727566              \n",
       "fraction5    6.951144                6.609388              \n",
       "fraction6    4.749906                4.133142              \n",
       "fraction7    5.998107                2.161911              \n",
       "fraction8    2.128501                4.168929              \n",
       "fraction9    2.436589                1.937654              \n",
       "            log(prob[,3]/prob[,10]) log(prob[,4]/prob[,10])\n",
       "(Intercept) -4.2816991              -4.044006              \n",
       "fraction1    3.4554966               4.485942              \n",
       "fraction2   -0.1590627               3.907046              \n",
       "fraction3    5.3940072               5.097030              \n",
       "fraction4    1.7028021               6.893400              \n",
       "fraction5   11.6345806               5.991980              \n",
       "fraction6    6.4387579               6.241186              \n",
       "fraction7   12.0816735               3.176768              \n",
       "fraction8   -1.0643547               3.347520              \n",
       "fraction9    1.7081342               3.010151              \n",
       "            log(prob[,5]/prob[,10]) log(prob[,6]/prob[,10])\n",
       "(Intercept) -4.340785               -3.3065668             \n",
       "fraction1    3.496840                3.6885823             \n",
       "fraction2    3.447666                0.4532802             \n",
       "fraction3    6.016374                2.8324314             \n",
       "fraction4    5.738171                2.9196639             \n",
       "fraction5    9.963555                5.4082150             \n",
       "fraction6    4.245370               10.0217329             \n",
       "fraction7    5.118613                6.2213486             \n",
       "fraction8    2.021685                1.6022906             \n",
       "fraction9    2.928323                2.6736719             \n",
       "            log(prob[,7]/prob[,10]) log(prob[,8]/prob[,10])\n",
       "(Intercept) -4.5379934              -1.0580527             \n",
       "fraction1    5.0261416               0.8670315             \n",
       "fraction2    3.0186116               0.6764564             \n",
       "fraction3   -0.9483859              -1.4272351             \n",
       "fraction4    1.8948943               1.6148763             \n",
       "fraction5    9.7869153               1.2009003             \n",
       "fraction6    4.4122508               0.4192984             \n",
       "fraction7    9.2662204              -2.7186008             \n",
       "fraction8    2.1557804               2.9919131             \n",
       "fraction9    1.7563825               1.4970439             \n",
       "            log(prob[,9]/prob[,10]) logitlink(phi)\n",
       "(Intercept) -4.674649               -81.06108     \n",
       "fraction1    5.172368                 0.00000     \n",
       "fraction2    1.432829                 0.00000     \n",
       "fraction3    4.579695                 0.00000     \n",
       "fraction4    3.589913                 0.00000     \n",
       "fraction5    8.591624                 0.00000     \n",
       "fraction6    5.933481                 0.00000     \n",
       "fraction7    4.049308                 0.00000     \n",
       "fraction8    3.689606                 0.00000     \n",
       "fraction9    6.844680                 0.00000     "
      ]
     },
     "metadata": {},
     "output_type": "display_data"
    }
   ],
   "source": [
    "coef(fit.full, matrix = TRUE)"
   ]
  },
  {
   "cell_type": "code",
   "execution_count": 42,
   "id": "5a0a7d4a-4267-47cb-84da-e33da9cdb606",
   "metadata": {
    "tags": []
   },
   "outputs": [],
   "source": [
    "constraints=list(\"(Intercept)\"      = diag(10)\n",
    "                ,\"fraction1\" = rbind(1,0,0,0,0,0,0,0,0,0)\n",
    "                ,\"fraction2\" = rbind(0,1,0,0,0,0,0,0,0,0)\n",
    "                ,\"fraction3\" = rbind(0,0,1,0,0,0,0,0,0,0)\n",
    "                ,\"fraction4\" = rbind(0,0,0,1,0,0,0,0,0,0)\n",
    "                ,\"fraction5\" = rbind(0,0,0,0,1,0,0,0,0,0)\n",
    "                ,\"fraction6\" = rbind(0,0,0,0,0,1,0,0,0,0)\n",
    "                ,\"fraction7\" = rbind(0,0,0,0,0,0,1,0,0,0)\n",
    "                ,\"fraction8\" = rbind(0,0,0,0,0,0,0,1,0,0)\n",
    "                ,\"fraction9\" = rbind(0,0,0,0,0,0,0,0,1,0)\n",
    "                )"
   ]
  },
  {
   "cell_type": "code",
   "execution_count": 43,
   "id": "e2b01766-26eb-4188-bd55-2307c2f5a590",
   "metadata": {
    "tags": []
   },
   "outputs": [
    {
     "name": "stdout",
     "output_type": "stream",
     "text": [
      "VGLM    linear loop  1 :  loglikelihood = -10944.793\n",
      "VGLM    linear loop  2 :  loglikelihood = -10900.082\n",
      "VGLM    linear loop  3 :  loglikelihood = -10889.344\n",
      "VGLM    linear loop  4 :  loglikelihood = -10889.41\n",
      "Taking a modified step.\n",
      "VGLM    linear loop  4 :  loglikelihood = -10888.637\n",
      "VGLM    linear loop  5 :  loglikelihood = -10890.666\n",
      "Taking a modified step....................\n"
     ]
    },
    {
     "name": "stderr",
     "output_type": "stream",
     "text": [
      "Warning message in vglm.fitter(x = x, y = y, w = w, offset = offset, Xm2 = Xm2, :\n",
      "“iterations terminated because half-step sizes are very small”\n",
      "Warning message in vglm.fitter(x = x, y = y, w = w, offset = offset, Xm2 = Xm2, :\n",
      "“some quantities such as z, residuals, SEs may be inaccurate due to convergence at a half-step”\n"
     ]
    }
   ],
   "source": [
    "fit.sub = VGAM::vglm(cbind(count1,count2,count3,count4,count5,count6,count7,count8,count9,count10) ~ \n",
    "                     fraction1+fraction2+fraction3+fraction4+fraction5+fraction6+fraction7+fraction8+fraction9,\n",
    "            dirmultinomial,\n",
    "            data = head(alldata,100), trace = TRUE,\n",
    "            constraints = constraints\n",
    "                      \n",
    "                )\n"
   ]
  },
  {
   "cell_type": "code",
   "execution_count": 44,
   "id": "6b812896-2009-4118-8c1e-95eb1233c155",
   "metadata": {
    "tags": []
   },
   "outputs": [
    {
     "data": {
      "text/html": [
       "<table class=\"dataframe\">\n",
       "<caption>A matrix: 10 × 10 of type dbl</caption>\n",
       "<thead>\n",
       "\t<tr><th></th><th scope=col>log(prob[,1]/prob[,10])</th><th scope=col>log(prob[,2]/prob[,10])</th><th scope=col>log(prob[,3]/prob[,10])</th><th scope=col>log(prob[,4]/prob[,10])</th><th scope=col>log(prob[,5]/prob[,10])</th><th scope=col>log(prob[,6]/prob[,10])</th><th scope=col>log(prob[,7]/prob[,10])</th><th scope=col>log(prob[,8]/prob[,10])</th><th scope=col>log(prob[,9]/prob[,10])</th><th scope=col>logitlink(phi)</th></tr>\n",
       "</thead>\n",
       "<tbody>\n",
       "\t<tr><th scope=row>(Intercept)</th><td>-0.7641488</td><td>-0.08435984</td><td>-2.043855</td><td>-0.6698072</td><td>-1.316445</td><td>-1.286053</td><td>-1.692095</td><td>-0.229437</td><td>-1.285484</td><td>-4.175554</td></tr>\n",
       "\t<tr><th scope=row>fraction1</th><td> 2.5633937</td><td> 0.00000000</td><td> 0.000000</td><td> 0.0000000</td><td> 0.000000</td><td> 0.000000</td><td> 0.000000</td><td> 0.000000</td><td> 0.000000</td><td> 0.000000</td></tr>\n",
       "\t<tr><th scope=row>fraction2</th><td> 0.0000000</td><td> 2.19890080</td><td> 0.000000</td><td> 0.0000000</td><td> 0.000000</td><td> 0.000000</td><td> 0.000000</td><td> 0.000000</td><td> 0.000000</td><td> 0.000000</td></tr>\n",
       "\t<tr><th scope=row>fraction3</th><td> 0.0000000</td><td> 0.00000000</td><td> 2.886917</td><td> 0.0000000</td><td> 0.000000</td><td> 0.000000</td><td> 0.000000</td><td> 0.000000</td><td> 0.000000</td><td> 0.000000</td></tr>\n",
       "\t<tr><th scope=row>fraction4</th><td> 0.0000000</td><td> 0.00000000</td><td> 0.000000</td><td> 5.0078830</td><td> 0.000000</td><td> 0.000000</td><td> 0.000000</td><td> 0.000000</td><td> 0.000000</td><td> 0.000000</td></tr>\n",
       "\t<tr><th scope=row>fraction5</th><td> 0.0000000</td><td> 0.00000000</td><td> 0.000000</td><td> 0.0000000</td><td> 9.788098</td><td> 0.000000</td><td> 0.000000</td><td> 0.000000</td><td> 0.000000</td><td> 0.000000</td></tr>\n",
       "\t<tr><th scope=row>fraction6</th><td> 0.0000000</td><td> 0.00000000</td><td> 0.000000</td><td> 0.0000000</td><td> 0.000000</td><td> 8.669833</td><td> 0.000000</td><td> 0.000000</td><td> 0.000000</td><td> 0.000000</td></tr>\n",
       "\t<tr><th scope=row>fraction7</th><td> 0.0000000</td><td> 0.00000000</td><td> 0.000000</td><td> 0.0000000</td><td> 0.000000</td><td> 0.000000</td><td> 8.737504</td><td> 0.000000</td><td> 0.000000</td><td> 0.000000</td></tr>\n",
       "\t<tr><th scope=row>fraction8</th><td> 0.0000000</td><td> 0.00000000</td><td> 0.000000</td><td> 0.0000000</td><td> 0.000000</td><td> 0.000000</td><td> 0.000000</td><td> 2.369079</td><td> 0.000000</td><td> 0.000000</td></tr>\n",
       "\t<tr><th scope=row>fraction9</th><td> 0.0000000</td><td> 0.00000000</td><td> 0.000000</td><td> 0.0000000</td><td> 0.000000</td><td> 0.000000</td><td> 0.000000</td><td> 0.000000</td><td> 5.358117</td><td> 0.000000</td></tr>\n",
       "</tbody>\n",
       "</table>\n"
      ],
      "text/latex": [
       "A matrix: 10 × 10 of type dbl\n",
       "\\begin{tabular}{r|llllllllll}\n",
       "  & log(prob{[},1{]}/prob{[},10{]}) & log(prob{[},2{]}/prob{[},10{]}) & log(prob{[},3{]}/prob{[},10{]}) & log(prob{[},4{]}/prob{[},10{]}) & log(prob{[},5{]}/prob{[},10{]}) & log(prob{[},6{]}/prob{[},10{]}) & log(prob{[},7{]}/prob{[},10{]}) & log(prob{[},8{]}/prob{[},10{]}) & log(prob{[},9{]}/prob{[},10{]}) & logitlink(phi)\\\\\n",
       "\\hline\n",
       "\t(Intercept) & -0.7641488 & -0.08435984 & -2.043855 & -0.6698072 & -1.316445 & -1.286053 & -1.692095 & -0.229437 & -1.285484 & -4.175554\\\\\n",
       "\tfraction1 &  2.5633937 &  0.00000000 &  0.000000 &  0.0000000 &  0.000000 &  0.000000 &  0.000000 &  0.000000 &  0.000000 &  0.000000\\\\\n",
       "\tfraction2 &  0.0000000 &  2.19890080 &  0.000000 &  0.0000000 &  0.000000 &  0.000000 &  0.000000 &  0.000000 &  0.000000 &  0.000000\\\\\n",
       "\tfraction3 &  0.0000000 &  0.00000000 &  2.886917 &  0.0000000 &  0.000000 &  0.000000 &  0.000000 &  0.000000 &  0.000000 &  0.000000\\\\\n",
       "\tfraction4 &  0.0000000 &  0.00000000 &  0.000000 &  5.0078830 &  0.000000 &  0.000000 &  0.000000 &  0.000000 &  0.000000 &  0.000000\\\\\n",
       "\tfraction5 &  0.0000000 &  0.00000000 &  0.000000 &  0.0000000 &  9.788098 &  0.000000 &  0.000000 &  0.000000 &  0.000000 &  0.000000\\\\\n",
       "\tfraction6 &  0.0000000 &  0.00000000 &  0.000000 &  0.0000000 &  0.000000 &  8.669833 &  0.000000 &  0.000000 &  0.000000 &  0.000000\\\\\n",
       "\tfraction7 &  0.0000000 &  0.00000000 &  0.000000 &  0.0000000 &  0.000000 &  0.000000 &  8.737504 &  0.000000 &  0.000000 &  0.000000\\\\\n",
       "\tfraction8 &  0.0000000 &  0.00000000 &  0.000000 &  0.0000000 &  0.000000 &  0.000000 &  0.000000 &  2.369079 &  0.000000 &  0.000000\\\\\n",
       "\tfraction9 &  0.0000000 &  0.00000000 &  0.000000 &  0.0000000 &  0.000000 &  0.000000 &  0.000000 &  0.000000 &  5.358117 &  0.000000\\\\\n",
       "\\end{tabular}\n"
      ],
      "text/markdown": [
       "\n",
       "A matrix: 10 × 10 of type dbl\n",
       "\n",
       "| <!--/--> | log(prob[,1]/prob[,10]) | log(prob[,2]/prob[,10]) | log(prob[,3]/prob[,10]) | log(prob[,4]/prob[,10]) | log(prob[,5]/prob[,10]) | log(prob[,6]/prob[,10]) | log(prob[,7]/prob[,10]) | log(prob[,8]/prob[,10]) | log(prob[,9]/prob[,10]) | logitlink(phi) |\n",
       "|---|---|---|---|---|---|---|---|---|---|---|\n",
       "| (Intercept) | -0.7641488 | -0.08435984 | -2.043855 | -0.6698072 | -1.316445 | -1.286053 | -1.692095 | -0.229437 | -1.285484 | -4.175554 |\n",
       "| fraction1 |  2.5633937 |  0.00000000 |  0.000000 |  0.0000000 |  0.000000 |  0.000000 |  0.000000 |  0.000000 |  0.000000 |  0.000000 |\n",
       "| fraction2 |  0.0000000 |  2.19890080 |  0.000000 |  0.0000000 |  0.000000 |  0.000000 |  0.000000 |  0.000000 |  0.000000 |  0.000000 |\n",
       "| fraction3 |  0.0000000 |  0.00000000 |  2.886917 |  0.0000000 |  0.000000 |  0.000000 |  0.000000 |  0.000000 |  0.000000 |  0.000000 |\n",
       "| fraction4 |  0.0000000 |  0.00000000 |  0.000000 |  5.0078830 |  0.000000 |  0.000000 |  0.000000 |  0.000000 |  0.000000 |  0.000000 |\n",
       "| fraction5 |  0.0000000 |  0.00000000 |  0.000000 |  0.0000000 |  9.788098 |  0.000000 |  0.000000 |  0.000000 |  0.000000 |  0.000000 |\n",
       "| fraction6 |  0.0000000 |  0.00000000 |  0.000000 |  0.0000000 |  0.000000 |  8.669833 |  0.000000 |  0.000000 |  0.000000 |  0.000000 |\n",
       "| fraction7 |  0.0000000 |  0.00000000 |  0.000000 |  0.0000000 |  0.000000 |  0.000000 |  8.737504 |  0.000000 |  0.000000 |  0.000000 |\n",
       "| fraction8 |  0.0000000 |  0.00000000 |  0.000000 |  0.0000000 |  0.000000 |  0.000000 |  0.000000 |  2.369079 |  0.000000 |  0.000000 |\n",
       "| fraction9 |  0.0000000 |  0.00000000 |  0.000000 |  0.0000000 |  0.000000 |  0.000000 |  0.000000 |  0.000000 |  5.358117 |  0.000000 |\n",
       "\n"
      ],
      "text/plain": [
       "            log(prob[,1]/prob[,10]) log(prob[,2]/prob[,10])\n",
       "(Intercept) -0.7641488              -0.08435984            \n",
       "fraction1    2.5633937               0.00000000            \n",
       "fraction2    0.0000000               2.19890080            \n",
       "fraction3    0.0000000               0.00000000            \n",
       "fraction4    0.0000000               0.00000000            \n",
       "fraction5    0.0000000               0.00000000            \n",
       "fraction6    0.0000000               0.00000000            \n",
       "fraction7    0.0000000               0.00000000            \n",
       "fraction8    0.0000000               0.00000000            \n",
       "fraction9    0.0000000               0.00000000            \n",
       "            log(prob[,3]/prob[,10]) log(prob[,4]/prob[,10])\n",
       "(Intercept) -2.043855               -0.6698072             \n",
       "fraction1    0.000000                0.0000000             \n",
       "fraction2    0.000000                0.0000000             \n",
       "fraction3    2.886917                0.0000000             \n",
       "fraction4    0.000000                5.0078830             \n",
       "fraction5    0.000000                0.0000000             \n",
       "fraction6    0.000000                0.0000000             \n",
       "fraction7    0.000000                0.0000000             \n",
       "fraction8    0.000000                0.0000000             \n",
       "fraction9    0.000000                0.0000000             \n",
       "            log(prob[,5]/prob[,10]) log(prob[,6]/prob[,10])\n",
       "(Intercept) -1.316445               -1.286053              \n",
       "fraction1    0.000000                0.000000              \n",
       "fraction2    0.000000                0.000000              \n",
       "fraction3    0.000000                0.000000              \n",
       "fraction4    0.000000                0.000000              \n",
       "fraction5    9.788098                0.000000              \n",
       "fraction6    0.000000                8.669833              \n",
       "fraction7    0.000000                0.000000              \n",
       "fraction8    0.000000                0.000000              \n",
       "fraction9    0.000000                0.000000              \n",
       "            log(prob[,7]/prob[,10]) log(prob[,8]/prob[,10])\n",
       "(Intercept) -1.692095               -0.229437              \n",
       "fraction1    0.000000                0.000000              \n",
       "fraction2    0.000000                0.000000              \n",
       "fraction3    0.000000                0.000000              \n",
       "fraction4    0.000000                0.000000              \n",
       "fraction5    0.000000                0.000000              \n",
       "fraction6    0.000000                0.000000              \n",
       "fraction7    8.737504                0.000000              \n",
       "fraction8    0.000000                2.369079              \n",
       "fraction9    0.000000                0.000000              \n",
       "            log(prob[,9]/prob[,10]) logitlink(phi)\n",
       "(Intercept) -1.285484               -4.175554     \n",
       "fraction1    0.000000                0.000000     \n",
       "fraction2    0.000000                0.000000     \n",
       "fraction3    0.000000                0.000000     \n",
       "fraction4    0.000000                0.000000     \n",
       "fraction5    0.000000                0.000000     \n",
       "fraction6    0.000000                0.000000     \n",
       "fraction7    0.000000                0.000000     \n",
       "fraction8    0.000000                0.000000     \n",
       "fraction9    5.358117                0.000000     "
      ]
     },
     "metadata": {},
     "output_type": "display_data"
    }
   ],
   "source": [
    "coef(fit.sub, matrix = TRUE)"
   ]
  },
  {
   "cell_type": "code",
   "execution_count": 48,
   "id": "f26feb95-7549-4fd7-ba98-d44937129bfb",
   "metadata": {
    "tags": []
   },
   "outputs": [
    {
     "data": {
      "image/png": "[encoded data removed]",
      "text/plain": [
       "plot without title"
      ]
     },
     "metadata": {
      "image/png": {
       "height": 420,
       "width": 420
      }
     },
     "output_type": "display_data"
    }
   ],
   "source": [
    "plot(fraction_df$fraction1, fraction_df$fraction2)"
   ]
  },
  {
   "cell_type": "code",
   "execution_count": 51,
   "id": "5fce7f94-d683-4796-8adb-76affa5871fd",
   "metadata": {
    "tags": []
   },
   "outputs": [
    {
     "data": {
      "image/png": "[encoded data removed]",
      "text/plain": [
       "plot without title"
      ]
     },
     "metadata": {
      "image/png": {
       "height": 420,
       "width": 420
      }
     },
     "output_type": "display_data"
    }
   ],
   "source": [
    "alldata_fitted = cbind(fitted(fit.sub), head(fraction_df,100))\n",
    "plot(alldata_fitted$fraction1, alldata_fitted$count1)"
   ]
  },
  {
   "cell_type": "code",
   "execution_count": 52,
   "id": "efd246b1-180a-468b-846c-9472e7f9c116",
   "metadata": {
    "tags": []
   },
   "outputs": [
    {
     "data": {
      "image/png": "[encoded data removed]",
      "text/plain": [
       "plot without title"
      ]
     },
     "metadata": {
      "image/png": {
       "height": 420,
       "width": 420
      }
     },
     "output_type": "display_data"
    }
   ],
   "source": [
    "alldata_fitted = cbind(fitted(fit.sub), head(fraction_df,100))\n",
    "plot(alldata_fitted$fraction2, alldata_fitted$count2)"
   ]
  },
  {
   "cell_type": "code",
   "execution_count": 53,
   "id": "442fa52c-7b4d-429a-a007-7650939fe373",
   "metadata": {
    "tags": []
   },
   "outputs": [
    {
     "data": {
      "image/png": "[encoded data removed]",
      "text/plain": [
       "plot without title"
      ]
     },
     "metadata": {
      "image/png": {
       "height": 420,
       "width": 420
      }
     },
     "output_type": "display_data"
    }
   ],
   "source": [
    "alldata_fitted = cbind(fitted(fit.sub), head(fraction_df,100))\n",
    "plot(alldata_fitted$fraction5, alldata_fitted$count5)"
   ]
  },
  {
   "cell_type": "code",
   "execution_count": 60,
   "id": "e5e37019-1127-42a6-a60a-b7f1c215ec3b",
   "metadata": {
    "tags": []
   },
   "outputs": [
    {
     "data": {
      "text/html": [
       "<style>\n",
       ".dl-inline {width: auto; margin:0; padding: 0}\n",
       ".dl-inline>dt, .dl-inline>dd {float: none; width: auto; display: inline-block}\n",
       ".dl-inline>dt::after {content: \":\\0020\"; padding-right: .5ex}\n",
       ".dl-inline>dt:not(:first-of-type) {padding-left: .5ex}\n",
       "</style><dl class=dl-inline><dt>(Intercept):1</dt><dd>-0.764148795409568</dd><dt>(Intercept):2</dt><dd>-0.0843598412815523</dd><dt>(Intercept):3</dt><dd>-2.04385504351892</dd><dt>(Intercept):4</dt><dd>-0.669807192509406</dd><dt>(Intercept):5</dt><dd>-1.3164447928239</dd><dt>(Intercept):6</dt><dd>-1.28605346707927</dd><dt>(Intercept):7</dt><dd>-1.6920950983725</dd><dt>(Intercept):8</dt><dd>-0.229436987846351</dd><dt>(Intercept):9</dt><dd>-1.28548408399569</dd><dt>(Intercept):10</dt><dd>-4.17555403900518</dd><dt>fraction1</dt><dd>2.56339368985523</dd><dt>fraction2</dt><dd>2.19890080249841</dd><dt>fraction3</dt><dd>2.88691653750012</dd><dt>fraction4</dt><dd>5.00788295645545</dd><dt>fraction5</dt><dd>9.78809790825411</dd><dt>fraction6</dt><dd>8.6698327633229</dd><dt>fraction7</dt><dd>8.73750369182758</dd><dt>fraction8</dt><dd>2.36907878373133</dd><dt>fraction9</dt><dd>5.35811716409197</dd></dl>\n"
      ],
      "text/latex": [
       "\\begin{description*}\n",
       "\\item[(Intercept):1] -0.764148795409568\n",
       "\\item[(Intercept):2] -0.0843598412815523\n",
       "\\item[(Intercept):3] -2.04385504351892\n",
       "\\item[(Intercept):4] -0.669807192509406\n",
       "\\item[(Intercept):5] -1.3164447928239\n",
       "\\item[(Intercept):6] -1.28605346707927\n",
       "\\item[(Intercept):7] -1.6920950983725\n",
       "\\item[(Intercept):8] -0.229436987846351\n",
       "\\item[(Intercept):9] -1.28548408399569\n",
       "\\item[(Intercept):10] -4.17555403900518\n",
       "\\item[fraction1] 2.56339368985523\n",
       "\\item[fraction2] 2.19890080249841\n",
       "\\item[fraction3] 2.88691653750012\n",
       "\\item[fraction4] 5.00788295645545\n",
       "\\item[fraction5] 9.78809790825411\n",
       "\\item[fraction6] 8.6698327633229\n",
       "\\item[fraction7] 8.73750369182758\n",
       "\\item[fraction8] 2.36907878373133\n",
       "\\item[fraction9] 5.35811716409197\n",
       "\\end{description*}\n"
      ],
      "text/markdown": [
       "(Intercept):1\n",
       ":   -0.764148795409568(Intercept):2\n",
       ":   -0.0843598412815523(Intercept):3\n",
       ":   -2.04385504351892(Intercept):4\n",
       ":   -0.669807192509406(Intercept):5\n",
       ":   -1.3164447928239(Intercept):6\n",
       ":   -1.28605346707927(Intercept):7\n",
       ":   -1.6920950983725(Intercept):8\n",
       ":   -0.229436987846351(Intercept):9\n",
       ":   -1.28548408399569(Intercept):10\n",
       ":   -4.17555403900518fraction1\n",
       ":   2.56339368985523fraction2\n",
       ":   2.19890080249841fraction3\n",
       ":   2.88691653750012fraction4\n",
       ":   5.00788295645545fraction5\n",
       ":   9.78809790825411fraction6\n",
       ":   8.6698327633229fraction7\n",
       ":   8.73750369182758fraction8\n",
       ":   2.36907878373133fraction9\n",
       ":   5.35811716409197\n",
       "\n"
      ],
      "text/plain": [
       " (Intercept):1  (Intercept):2  (Intercept):3  (Intercept):4  (Intercept):5 \n",
       "   -0.76414880    -0.08435984    -2.04385504    -0.66980719    -1.31644479 \n",
       " (Intercept):6  (Intercept):7  (Intercept):8  (Intercept):9 (Intercept):10 \n",
       "   -1.28605347    -1.69209510    -0.22943699    -1.28548408    -4.17555404 \n",
       "     fraction1      fraction2      fraction3      fraction4      fraction5 \n",
       "    2.56339369     2.19890080     2.88691654     5.00788296     9.78809791 \n",
       "     fraction6      fraction7      fraction8      fraction9 \n",
       "    8.66983276     8.73750369     2.36907878     5.35811716 "
      ]
     },
     "metadata": {},
     "output_type": "display_data"
    }
   ],
   "source": [
    "fit.sub %>% (VGAM::Coef) "
   ]
  },
  {
   "cell_type": "code",
   "execution_count": 64,
   "id": "07f26b0a-ac8e-4d88-9e61-233292a56f8b",
   "metadata": {
    "tags": []
   },
   "outputs": [
    {
     "name": "stdout",
     "output_type": "stream",
     "text": [
      "VGLM    linear loop  1 :  loglikelihood = -1428.784\n",
      "VGLM    linear loop  2 :  loglikelihood = -1428.75\n",
      "VGLM    linear loop  3 :  loglikelihood = -1428.744\n",
      "VGLM    linear loop  4 :  loglikelihood = -1428.743\n",
      "VGLM    linear loop  5 :  loglikelihood = -1428.742\n",
      "VGLM    linear loop  6 :  loglikelihood = -1428.742\n",
      "VGLM    linear loop  7 :  loglikelihood = -1428.742\n"
     ]
    },
    {
     "data": {
      "text/html": [
       "<style>\n",
       ".dl-inline {width: auto; margin:0; padding: 0}\n",
       ".dl-inline>dt, .dl-inline>dd {float: none; width: auto; display: inline-block}\n",
       ".dl-inline>dt::after {content: \":\\0020\"; padding-right: .5ex}\n",
       ".dl-inline>dt:not(:first-of-type) {padding-left: .5ex}\n",
       "</style><dl class=dl-inline><dt>prob[,1]/prob[,4])</dt><dd>0.678917814598888</dd><dt>prob[,2]/prob[,4])</dt><dd>0.787766550004843</dd><dt>prob[,3]/prob[,4])</dt><dd>0.646957861800881</dd><dt>phi</dt><dd>0.0798550877414701</dd></dl>\n"
      ],
      "text/latex": [
       "\\begin{description*}\n",
       "\\item[prob\\{{[}\\},1\\{{]}\\}/prob\\{{[}\\},4\\{{]}\\})] 0.678917814598888\n",
       "\\item[prob\\{{[}\\},2\\{{]}\\}/prob\\{{[}\\},4\\{{]}\\})] 0.787766550004843\n",
       "\\item[prob\\{{[}\\},3\\{{]}\\}/prob\\{{[}\\},4\\{{]}\\})] 0.646957861800881\n",
       "\\item[phi] 0.0798550877414701\n",
       "\\end{description*}\n"
      ],
      "text/markdown": [
       "prob[,1]/prob[,4])\n",
       ":   0.678917814598888prob[,2]/prob[,4])\n",
       ":   0.787766550004843prob[,3]/prob[,4])\n",
       ":   0.646957861800881phi\n",
       ":   0.0798550877414701\n",
       "\n"
      ],
      "text/plain": [
       "prob[,1]/prob[,4]) prob[,2]/prob[,4]) prob[,3]/prob[,4])                phi \n",
       "        0.67891781         0.78776655         0.64695786         0.07985509 "
      ]
     },
     "metadata": {},
     "output_type": "display_data"
    }
   ],
   "source": [
    "nn <- 5; M <- 4; set.seed(1)\n",
    "ydata <- data.frame(round(matrix(runif(nn * M, max = 100), nn, M)))\n",
    "colnames(ydata) <- paste(\"y\", 1:M, sep = \"\")  # Integer counts\n",
    "\n",
    "fit <- vglm(cbind(y1, y2, y3, y4) ~ 1, dirmultinomial,\n",
    "            data = ydata, trace = TRUE)\n",
    "# head(fitted(fit))\n",
    "# depvar(fit)  # Sample proportions\n",
    "# weights(fit, type = \"prior\", matrix = FALSE)  # Total counts per row\n",
    "Coef(fit)"
   ]
  },
  {
   "cell_type": "code",
   "execution_count": 63,
   "id": "b01d6a24-f724-4835-bfb3-db45c5a79935",
   "metadata": {
    "tags": []
   },
   "outputs": [
    {
     "data": {
      "text/html": [
       "<style>\n",
       ".dl-inline {width: auto; margin:0; padding: 0}\n",
       ".dl-inline>dt, .dl-inline>dd {float: none; width: auto; display: inline-block}\n",
       ".dl-inline>dt::after {content: \":\\0020\"; padding-right: .5ex}\n",
       ".dl-inline>dt:not(:first-of-type) {padding-left: .5ex}\n",
       "</style><dl class=dl-inline><dt>prob[,1]/prob[,4])</dt><dd>0.678917814598888</dd><dt>prob[,2]/prob[,4])</dt><dd>0.787766550004843</dd><dt>prob[,3]/prob[,4])</dt><dd>0.646957861800881</dd><dt>phi</dt><dd>0.0798550877414701</dd></dl>\n"
      ],
      "text/latex": [
       "\\begin{description*}\n",
       "\\item[prob\\{{[}\\},1\\{{]}\\}/prob\\{{[}\\},4\\{{]}\\})] 0.678917814598888\n",
       "\\item[prob\\{{[}\\},2\\{{]}\\}/prob\\{{[}\\},4\\{{]}\\})] 0.787766550004843\n",
       "\\item[prob\\{{[}\\},3\\{{]}\\}/prob\\{{[}\\},4\\{{]}\\})] 0.646957861800881\n",
       "\\item[phi] 0.0798550877414701\n",
       "\\end{description*}\n"
      ],
      "text/markdown": [
       "prob[,1]/prob[,4])\n",
       ":   0.678917814598888prob[,2]/prob[,4])\n",
       ":   0.787766550004843prob[,3]/prob[,4])\n",
       ":   0.646957861800881phi\n",
       ":   0.0798550877414701\n",
       "\n"
      ],
      "text/plain": [
       "prob[,1]/prob[,4]) prob[,2]/prob[,4]) prob[,3]/prob[,4])                phi \n",
       "        0.67891781         0.78776655         0.64695786         0.07985509 "
      ]
     },
     "metadata": {},
     "output_type": "display_data"
    }
   ],
   "source": []
  },
  {
   "cell_type": "code",
   "execution_count": null,
   "id": "2ae80119-4783-44a5-8053-e616245eedf9",
   "metadata": {
    "tags": []
   },
   "outputs": [],
   "source": [
    "fit. = VGAM::vglm(head(as.matrix(count_df2),100) ~ head(as.matrix(fraction_df),100)[,1:ncol(fraction_df)-1], \n",
    "                 VGAM:: dirmultinomial(), trace = TRUE\n",
    "                )\n"
   ]
  },
  {
   "cell_type": "code",
   "execution_count": null,
   "id": "86bdbecc-34c3-4ad7-9b43-094324580efe",
   "metadata": {
    "tags": []
   },
   "outputs": [],
   "source": [
    "fit"
   ]
  },
  {
   "cell_type": "code",
   "execution_count": null,
   "id": "2656da40-967d-404a-b5d8-8954562f4cb5",
   "metadata": {
    "tags": []
   },
   "outputs": [],
   "source": [
    "nn <- 5; M <- 4; set.seed(1)\n",
    "ydata <- data.frame(round(matrix(runif(nn * M, max = 100), nn, M)))\n",
    "colnames(ydata) <- paste(\"y\", 1:M, sep = \"\")  # Integer counts\n",
    "\n",
    "fit <- vglm(cbind(y1, y2, y3, y4) ~ 1, dirmultinomial,\n",
    "            data = ydata, trace = TRUE)\n",
    "head(fitted(fit))\n",
    "depvar(fit)  # Sample proportions\n",
    "weights(fit, type = \"prior\", matrix = FALSE)  # Total counts per row"
   ]
  },
  {
   "cell_type": "code",
   "execution_count": null,
   "id": "920a070e-df1e-44fc-8f4c-89225465d5d4",
   "metadata": {
    "tags": []
   },
   "outputs": [],
   "source": [
    "ydata"
   ]
  },
  {
   "cell_type": "code",
   "execution_count": null,
   "id": "ef52e526-36ba-4ff4-9d6d-2cc184d46bac",
   "metadata": {
    "tags": []
   },
   "outputs": [],
   "source": [
    "fit"
   ]
  },
  {
   "cell_type": "code",
   "execution_count": null,
   "id": "74557f09-d940-45e2-b0af-509dfa4fbd1f",
   "metadata": {
    "tags": []
   },
   "outputs": [],
   "source": [
    "library(VGAM)\n",
    "set.seed(123)\n",
    "K <- 3 # number of categories\n",
    "alpha_true <- rep(0.5, K) # true concentration parameter\n",
    "x <- rdirichlet(100, alpha_true) # generate data\n",
    "\n",
    "# Fit the model\n",
    "fit <- vglm(x ~ 1, dirichlet(), scale.only = TRUE)\n",
    "\n",
    "# Extract the estimated scale parameter\n",
    "scale_est <- coef(fit)\n"
   ]
  },
  {
   "cell_type": "code",
   "execution_count": null,
   "id": "49b29d71-ff66-4bf5-9a92-8811a7cf762e",
   "metadata": {
    "tags": []
   },
   "outputs": [],
   "source": [
    "x~1"
   ]
  },
  {
   "cell_type": "code",
   "execution_count": null,
   "id": "71706021-9cf5-4291-a214-430034c58f83",
   "metadata": {
    "tags": []
   },
   "outputs": [],
   "source": [
    "# Example 2. Multinomial logit model\n",
    "pneumo <- transform(pneumo, let = log(exposure.time))\n",
    "vglm(cbind(normal, mild, severe) ~ let, multinomial, pneumo)"
   ]
  },
  {
   "cell_type": "code",
   "execution_count": null,
   "id": "38f4ef72-0c18-454f-9cb1-fa691e55bbcd",
   "metadata": {
    "tags": []
   },
   "outputs": [],
   "source": [
    "# Example 1. See help(glm)\n",
    "(d.AD <- data.frame(treatment = gl(3, 3),\n",
    "                    outcome = gl(3, 1, 9),\n",
    "                    counts = c(18,17,15,20,10,20,25,13,12)))\n",
    "vglm.D93 <- vglm(counts ~ outcome + treatment, poissonff,\n",
    "                 data = d.AD, trace = TRUE)\n",
    "summary(vglm.D93)\n",
    "\n",
    "\n",
    "# Example 2. Multinomial logit model\n",
    "pneumo <- transform(pneumo, let = log(exposure.time))\n",
    "vglm(cbind(normal, mild, severe) ~ let, multinomial, pneumo)\n",
    "\n",
    "\n",
    "# Example 3. Proportional odds model\n",
    "fit3 <- vglm(cbind(normal, mild, severe) ~ let, propodds, pneumo)\n",
    "coef(fit3, matrix = TRUE)\n",
    "constraints(fit3)\n",
    "model.matrix(fit3, type = \"lm\")  # LM model matrix\n",
    "model.matrix(fit3)               # Larger VGLM (or VLM) matrix\n",
    "\n",
    "\n",
    "# Example 4. Bivariate logistic model\n",
    "fit4 <- vglm(cbind(nBnW, nBW, BnW, BW) ~ age, binom2.or, coalminers)\n",
    "coef(fit4, matrix = TRUE)\n",
    "depvar(fit4)  # Response are proportions\n",
    "weights(fit4, type = \"prior\")\n",
    "\n",
    "\n",
    "# Example 5. The use of the xij argument (simple case).\n",
    "# The constraint matrix for 'op' has one column.\n",
    "nn <- 1000\n",
    "eyesdat <- round(data.frame(lop = runif(nn),\n",
    "                            rop = runif(nn),\n",
    "                             op = runif(nn)), digits = 2)\n",
    "eyesdat <- transform(eyesdat, eta1 = -1 + 2 * lop,\n",
    "                              eta2 = -1 + 2 * lop)\n",
    "eyesdat <- transform(eyesdat,\n",
    "           leye = rbinom(nn, 1, prob = logitlink(eta1, inv = TRUE)),\n",
    "           reye = rbinom(nn, 1, prob = logitlink(eta2, inv = TRUE)))\n",
    "head(eyesdat)\n",
    "fit5 <- vglm(cbind(leye, reye) ~ op,\n",
    "             binom2.or(exchangeable = TRUE, zero = 3),\n",
    "             data = eyesdat, trace = TRUE,\n",
    "             xij = list(op ~ lop + rop + fill1(lop)),\n",
    "             form2 = ~  op + lop + rop + fill1(lop))\n",
    "coef(fit5)\n",
    "coef(fit5, matrix = TRUE)\n",
    "constraints(fit5)\n",
    "fit5@control$xij\n",
    "head(model.matrix(fit5))\n",
    "\n",
    "\n",
    "# Example 6. The use of the 'constraints' argument.\n",
    "as.character(~ bs(year,df=3))  # Get the white spaces right\n",
    "clist <- list(\"(Intercept)\"      = diag(3),\n",
    "              \"bs(year, df = 3)\" = rbind(1, 0, 0))\n",
    "fit1 <- VGAM::vglm(r1 ~ bs(year,df=3), gev(zero = NULL),\n",
    "             data = venice, constraints = clist, trace = TRUE)\n",
    "coef(fit1, matrix = TRUE)  # Check"
   ]
  },
  {
   "cell_type": "code",
   "execution_count": null,
   "id": "69216247-e835-4306-9adf-510a5522b367",
   "metadata": {
    "tags": []
   },
   "outputs": [],
   "source": [
    "library(VGAM)\n",
    "data(venice)\n",
    "as.character(~ bs(year,df=3))  # Get the white spaces right\n",
    "clist <- list(\"(Intercept)\"      = diag(3),\n",
    "              \"bs(year, df = 3)\" = rbind(1, 0, 0))\n",
    "fit1 <- VGAM::vglm(r1 ~ bs(year,df=3), gev(zero = NULL),\n",
    "             data = venice, constraints = clist, trace = TRUE)\n",
    "coef(fit1, matrix = TRUE)  # Check"
   ]
  },
  {
   "cell_type": "code",
   "execution_count": null,
   "id": "b8e10a19-da65-4787-ac84-9c68d7cf4e14",
   "metadata": {
    "tags": []
   },
   "outputs": [],
   "source": [
    "fit1"
   ]
  },
  {
   "cell_type": "code",
   "execution_count": null,
   "id": "ac48103d-db0d-422d-9cc4-1e4643d54e3a",
   "metadata": {
    "tags": []
   },
   "outputs": [],
   "source": [
    "bs(venice$year,df=3)"
   ]
  },
  {
   "cell_type": "code",
   "execution_count": null,
   "id": "c4f975ef-1498-4d16-9511-3ef697320849",
   "metadata": {
    "tags": []
   },
   "outputs": [],
   "source": [
    "venice"
   ]
  },
  {
   "cell_type": "code",
   "execution_count": null,
   "id": "28394ca8-451d-41c9-a72f-03d3ff6bfb3e",
   "metadata": {
    "tags": []
   },
   "outputs": [],
   "source": [
    "rbind(1, 0, 0)"
   ]
  },
  {
   "cell_type": "code",
   "execution_count": null,
   "id": "8d5900d1-371e-408b-92df-60a04d4d9247",
   "metadata": {
    "tags": []
   },
   "outputs": [],
   "source": [
    "diag(10)"
   ]
  },
  {
   "cell_type": "code",
   "execution_count": null,
   "id": "8d629826-16ba-45f1-a7de-58ad66ce5f60",
   "metadata": {},
   "outputs": [],
   "source": [
    "library(VGAM)"
   ]
  },
  {
   "cell_type": "code",
   "execution_count": null,
   "id": "18fee484-bdc0-4549-933a-34fd8671837b",
   "metadata": {
    "tags": []
   },
   "outputs": [],
   "source": [
    "data(marital.nz)"
   ]
  },
  {
   "cell_type": "code",
   "execution_count": null,
   "id": "960652d1-6806-4dc7-86eb-9f8b4c97f750",
   "metadata": {
    "tags": []
   },
   "outputs": [],
   "source": [
    "head(marital.nz, 4)"
   ]
  },
  {
   "cell_type": "code",
   "execution_count": null,
   "id": "17195d96-5bf4-4012-9324-473cf5148096",
   "metadata": {
    "tags": []
   },
   "outputs": [],
   "source": [
    "summary(marital.nz)"
   ]
  },
  {
   "cell_type": "code",
   "execution_count": null,
   "id": "655a7879-76f4-43a9-82dc-d6cfe36ca44a",
   "metadata": {
    "tags": []
   },
   "outputs": [],
   "source": [
    "fit.ms <- vgam(mstatus ~ s(age, df = 3), multinomial(refLevel=2), data = marital.nz)"
   ]
  },
  {
   "cell_type": "code",
   "execution_count": null,
   "id": "92523d05-7dc3-4694-8c45-b9f6623e43ef",
   "metadata": {
    "tags": []
   },
   "outputs": [],
   "source": [
    "head(depvar(fit.ms),4)"
   ]
  },
  {
   "cell_type": "code",
   "execution_count": null,
   "id": "3d471786-8be9-44e7-8ba7-8bbc5e73d72e",
   "metadata": {
    "tags": []
   },
   "outputs": [],
   "source": [
    "mycol <- c(\"pink\", \"blue\", \"green\")\n",
    "par(mfrow=c(2,2))\n",
    "plot(fit.ms, se = TRUE, scale = 12, lcol=mycol, scol=mycol) # the curves\n",
    "plot(fit.ms, se = TRUE, scale = 12, lcol=mycol, scol=mycol, overlap = TRUE, llwd = 2)"
   ]
  },
  {
   "cell_type": "code",
   "execution_count": null,
   "id": "f14fdea5-f891-4cea-b38f-75f3487cdf85",
   "metadata": {},
   "outputs": [],
   "source": []
  }
 ],
 "metadata": {
  "kernelspec": {
   "display_name": "r_env",
   "language": "R",
   "name": "r_env"
  },
  "language_info": {
   "codemirror_mode": "r",
   "file_extension": ".r",
   "mimetype": "text/x-r-source",
   "name": "R",
   "pygments_lexer": "r",
   "version": "4.2.1"
  }
 },
 "nbformat": 4,
 "nbformat_minor": 5
}
