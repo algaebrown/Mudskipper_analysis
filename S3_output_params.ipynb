{
 "cells": [
  {
   "cell_type": "code",
   "execution_count": 1,
   "id": "64b20e61-3f9b-4dc3-aadf-0d4d371e33ea",
   "metadata": {},
   "outputs": [
    {
     "name": "stderr",
     "output_type": "stream",
     "text": [
      "Loading required package: S4Vectors\n",
      "\n",
      "Loading required package: stats4\n",
      "\n",
      "Loading required package: BiocGenerics\n",
      "\n",
      "\n",
      "Attaching package: ‘BiocGenerics’\n",
      "\n",
      "\n",
      "The following objects are masked from ‘package:stats’:\n",
      "\n",
      "    IQR, mad, sd, var, xtabs\n",
      "\n",
      "\n",
      "The following objects are masked from ‘package:base’:\n",
      "\n",
      "    anyDuplicated, aperm, append, as.data.frame, basename, cbind,\n",
      "    colnames, dirname, do.call, duplicated, eval, evalq, Filter, Find,\n",
      "    get, grep, grepl, intersect, is.unsorted, lapply, Map, mapply,\n",
      "    match, mget, order, paste, pmax, pmax.int, pmin, pmin.int,\n",
      "    Position, rank, rbind, Reduce, rownames, sapply, setdiff, sort,\n",
      "    table, tapply, union, unique, unsplit, which.max, which.min\n",
      "\n",
      "\n",
      "\n",
      "Attaching package: ‘S4Vectors’\n",
      "\n",
      "\n",
      "The following objects are masked from ‘package:base’:\n",
      "\n",
      "    expand.grid, I, unname\n",
      "\n",
      "\n",
      "Loading required package: IRanges\n",
      "\n",
      "── \u001b[1mAttaching packages\u001b[22m ─────────────────────────────────────── tidyverse 1.3.2 ──\n",
      "\u001b[32m✔\u001b[39m \u001b[34mggplot2\u001b[39m 3.4.0      \u001b[32m✔\u001b[39m \u001b[34mpurrr  \u001b[39m 0.3.5 \n",
      "\u001b[32m✔\u001b[39m \u001b[34mtibble \u001b[39m 3.1.8      \u001b[32m✔\u001b[39m \u001b[34mdplyr  \u001b[39m 1.0.10\n",
      "\u001b[32m✔\u001b[39m \u001b[34mtidyr  \u001b[39m 1.2.1      \u001b[32m✔\u001b[39m \u001b[34mstringr\u001b[39m 1.5.0 \n",
      "\u001b[32m✔\u001b[39m \u001b[34mreadr  \u001b[39m 2.1.3      \u001b[32m✔\u001b[39m \u001b[34mforcats\u001b[39m 0.5.2 \n",
      "── \u001b[1mConflicts\u001b[22m ────────────────────────────────────────── tidyverse_conflicts() ──\n",
      "\u001b[31m✖\u001b[39m \u001b[34mdplyr\u001b[39m::\u001b[32mcollapse()\u001b[39m   masks \u001b[34mIRanges\u001b[39m::collapse()\n",
      "\u001b[31m✖\u001b[39m \u001b[34mdplyr\u001b[39m::\u001b[32mcombine()\u001b[39m    masks \u001b[34mBiocGenerics\u001b[39m::combine()\n",
      "\u001b[31m✖\u001b[39m \u001b[34mdplyr\u001b[39m::\u001b[32mdesc()\u001b[39m       masks \u001b[34mIRanges\u001b[39m::desc()\n",
      "\u001b[31m✖\u001b[39m \u001b[34mtidyr\u001b[39m::\u001b[32mexpand()\u001b[39m     masks \u001b[34mS4Vectors\u001b[39m::expand()\n",
      "\u001b[31m✖\u001b[39m \u001b[34mdplyr\u001b[39m::\u001b[32mfilter()\u001b[39m     masks \u001b[34mstats\u001b[39m::filter()\n",
      "\u001b[31m✖\u001b[39m \u001b[34mdplyr\u001b[39m::\u001b[32mfirst()\u001b[39m      masks \u001b[34mS4Vectors\u001b[39m::first()\n",
      "\u001b[31m✖\u001b[39m \u001b[34mdplyr\u001b[39m::\u001b[32mlag()\u001b[39m        masks \u001b[34mstats\u001b[39m::lag()\n",
      "\u001b[31m✖\u001b[39m \u001b[34mggplot2\u001b[39m::\u001b[32mPosition()\u001b[39m masks \u001b[34mBiocGenerics\u001b[39m::Position(), \u001b[34mbase\u001b[39m::Position()\n",
      "\u001b[31m✖\u001b[39m \u001b[34mpurrr\u001b[39m::\u001b[32mreduce()\u001b[39m     masks \u001b[34mIRanges\u001b[39m::reduce()\n",
      "\u001b[31m✖\u001b[39m \u001b[34mdplyr\u001b[39m::\u001b[32mrename()\u001b[39m     masks \u001b[34mS4Vectors\u001b[39m::rename()\n",
      "\u001b[31m✖\u001b[39m \u001b[34mdplyr\u001b[39m::\u001b[32mslice()\u001b[39m      masks \u001b[34mIRanges\u001b[39m::slice()\n",
      "\u001b[1mRows: \u001b[22m\u001b[34m5926997\u001b[39m \u001b[1mColumns: \u001b[22m\u001b[34m10\u001b[39m\n",
      "\u001b[36m──\u001b[39m \u001b[1mColumn specification\u001b[22m \u001b[36m──────────────────────────────────────────────\u001b[39m\n",
      "\u001b[1mDelimiter:\u001b[22m \"\\t\"\n",
      "\u001b[32mdbl\u001b[39m (10): K562_rep6.IGF2BP2, K562_rep6.RBFOX2, K562_rep6.PUM2, K56...\n",
      "\n",
      "\u001b[36mℹ\u001b[39m Use `spec()` to retrieve the full column specification for this data.\n",
      "\u001b[36mℹ\u001b[39m Specify the column types or set `show_col_types = FALSE` to quiet this message.\n"
     ]
    },
    {
     "name": "stdout",
     "output_type": "stream",
     "text": [
      "\u001b[90m# A tibble: 6 × 11\u001b[39m\n",
      "  K562_rep6.…¹ K562_…² K562_…³ K562_…⁴ K562_…⁵ K562_…⁶ K562_…⁷ K562_…⁸\n",
      "         \u001b[3m\u001b[90m<dbl>\u001b[39m\u001b[23m   \u001b[3m\u001b[90m<dbl>\u001b[39m\u001b[23m   \u001b[3m\u001b[90m<dbl>\u001b[39m\u001b[23m   \u001b[3m\u001b[90m<dbl>\u001b[39m\u001b[23m   \u001b[3m\u001b[90m<dbl>\u001b[39m\u001b[23m   \u001b[3m\u001b[90m<dbl>\u001b[39m\u001b[23m   \u001b[3m\u001b[90m<dbl>\u001b[39m\u001b[23m   \u001b[3m\u001b[90m<dbl>\u001b[39m\u001b[23m\n",
      "\u001b[90m1\u001b[39m           32      41       6      53      25      38      12      31\n",
      "\u001b[90m2\u001b[39m           44      53       5      55      25      35      10      40\n",
      "\u001b[90m3\u001b[39m           27      38       7      37      18      28       7      29\n",
      "\u001b[90m4\u001b[39m           29      31       5      40      23      20       8      20\n",
      "\u001b[90m5\u001b[39m            5      10       3       9       7       6       2       5\n",
      "\u001b[90m6\u001b[39m            5       8       0      13       9       2       3       8\n",
      "\u001b[90m# … with 3 more variables: K562_rep6.LIN28B <dbl>,\u001b[39m\n",
      "\u001b[90m#   K562_rep6.SF3B4 <dbl>, name <chr>, and abbreviated variable names\u001b[39m\n",
      "\u001b[90m#   ¹​K562_rep6.IGF2BP2, ²​K562_rep6.RBFOX2, ³​K562_rep6.PUM2,\u001b[39m\n",
      "\u001b[90m#   ⁴​K562_rep6.FAM120A, ⁵​K562_rep6.DDX3, ⁶​K562_rep6.ZC3H11A,\u001b[39m\n",
      "\u001b[90m#   ⁷​K562_rep6.EIF3G, ⁸​K562_rep6.PRPF8\u001b[39m\n",
      "[1] \"count matrix nrows=\"\n",
      "[1] 138365\n",
      "[1] \"count matrix ncol=\"\n",
      "[1] 10\n"
     ]
    }
   ],
   "source": [
    "library(DirichletMultinomial)\n",
    "library(lattice)\n",
    "library(xtable)\n",
    "library(tidyverse)\n",
    "\n",
    "args = commandArgs(trailingOnly=TRUE)\n",
    "\n",
    "\n",
    "fl='/tscc/nfs/home/hsher/ps-yeolab5/ABC_2rep_rerun/counts/genome/megatables/K562_rep6.tsv.gz'\n",
    "annotation = '/tscc/projects/ps-yeolab4/software/skipper/1.0.0/bin/skipper/annotations/gencode.v38.annotation.k562_totalrna.gt1.tiled_partition.features.tsv.gz'\n",
    "basedir= '/tscc/nfs/home/hsher/ps-yeolab5/ABC_2rep_rerun/'\n",
    "out_stem = 'K562_rep6'\n",
    "dir.create(basedir, showWarnings = FALSE, recursive = TRUE)\n",
    "\n",
    "# fl = '/home/hsher/scratch/oligo_PE_iter5/DMN/table/oCLIP_10_1.tsv.gz'\n",
    "# annotation = '/projects/ps-yeolab4/software/skipper/1.0.0/bin/skipper/annotations/gencode.v38.annotation.k562_totalrna.gt1.tiled_partition.features.tsv.gz'\n",
    "# basedir='/home/hsher/scratch/oligo_PE_iter5/DMN/output'\n",
    "# out_stem='oCLIP_10_1'\n",
    "\n",
    "options(width=70, digits=2)\n",
    "full <- FALSE ### TODO: change to TRUE\n",
    ".qualitative <- DirichletMultinomial:::.qualitative\n",
    "dev.off <- function(...) invisible(grDevices::dev.off(...))\n",
    "\n",
    "min_component = 1\n",
    "max_component = 50 #### How to estimate this?\n",
    "component_gap = 5\n",
    "min_read = 10 \n",
    "\n",
    "\n",
    "\n",
    "count_df = read_tsv(fl)\n",
    "sample_cols = colnames(count_df)\n",
    "count_df$name=row.names(count_df)\n",
    "\n",
    "print(head(count_df))\n",
    "count_df = count_df[rowSums(count_df[,sample_cols])>min_read, ]\n",
    "count <- as.matrix(count_df[, sample_cols]) \n",
    "print('count matrix nrows=')\n",
    "print(nrow(count))\n",
    "\n",
    "print('count matrix ncol=')\n",
    "print(ncol(count))\n",
    "\n"
   ]
  },
  {
   "cell_type": "code",
   "execution_count": 2,
   "id": "442db2bf-ddd8-4e3b-95d4-e7eebdc7dbd8",
   "metadata": {},
   "outputs": [],
   "source": [
    "# sample rows\n",
    "################ MODEL SELECTION: SAMPLING ################\n",
    "# sampled_counts = count[sample(nrow(count),size=500,replace=FALSE),]\n",
    "\n",
    "# library(parallel)\n",
    "# if (full) {\n",
    "# sample_fit <- mclapply(seq(min_component, max_component, component_gap), dmn, count=sampled_counts, verbose=TRUE)\n",
    "# save(sample_fit, file=file.path(basedir, paste0(out_stem, \".sample_fit.rda\")))\n",
    "# } else load(file = file.path(basedir, paste0(out_stem, \".sample_fit.rda\")))\n",
    "\n",
    "# # plot Laplace against k\n",
    "# lplc <- sapply(sample_fit, laplace)\n",
    "# aic <- sapply(sample_fit, AIC)\n",
    "# bic <- sapply(sample_fit, BIC)\n",
    "#  pdf(file.path(basedir, paste0(out_stem, \".goodness_of_sample_fit.pdf\")))\n",
    "#  plot(aic, type=\"b\", xlab=\"Number of Dirichlet Components(k)\",ylab=\"AIC\")\n",
    "#  plot(bic, type=\"b\", xlab=\"Number of Dirichlet Components(k)\",ylab=\"BIC\")\n",
    "#  plot(lplc, type=\"b\", xlab=\"Number of Dirichlet Components(k)\",ylab=\"Model Fit(Laplace)\")\n",
    "#  dev.off()\n",
    "\n",
    "#   # find the best model: the DMN object\n",
    "#  (best <- sample_fit[[which.min(lplc)]])\n",
    "\n",
    "################ MODEL SELECTION ################\n",
    "\n",
    "# fit data k=1 to max_component, using a subset of data\n",
    "# library(parallel)\n",
    "# cores = detectCores()\n",
    "# if (full) {\n",
    "# fit <- mclapply(seq(min_component, max_component, component_gap), dmn, count=count, verbose=TRUE, mc.cores = cores)\n",
    "# save(fit, file=file.path(basedir, paste0(out_stem, \".fit.rda\")))\n",
    "# } else load(file = file.path(basedir, paste0(out_stem, \".fit.rda\")))\n",
    "\n",
    "\n"
   ]
  },
  {
   "cell_type": "code",
   "execution_count": null,
   "id": "82500476-c16c-4f32-aca2-819ca93a7f5b",
   "metadata": {},
   "outputs": [],
   "source": []
  },
  {
   "cell_type": "code",
   "execution_count": 3,
   "id": "8bb868d8-d50b-417a-bb3c-8bd1406ec0d1",
   "metadata": {},
   "outputs": [],
   "source": [
    "load(file = \"/tscc/nfs/home/hsher/ps-yeolab5/ABC_2rep_rerun/DMM/K562_rep6.fit.rda\")"
   ]
  },
  {
   "cell_type": "code",
   "execution_count": 4,
   "id": "a912a87f-fc34-4607-b706-7589411fff87",
   "metadata": {},
   "outputs": [
    {
     "data": {
      "image/png": "[encoded data removed]",
      "text/plain": [
       "plot without title"
      ]
     },
     "metadata": {
      "image/png": {
       "height": 420,
       "width": 420
      }
     },
     "output_type": "display_data"
    },
    {
     "data": {
      "image/png": "[encoded data removed]",
      "text/plain": [
       "plot without title"
      ]
     },
     "metadata": {
      "image/png": {
       "height": 420,
       "width": 420
      }
     },
     "output_type": "display_data"
    },
    {
     "data": {
      "image/png": "[encoded data removed]",
      "text/plain": [
       "plot without title"
      ]
     },
     "metadata": {
      "image/png": {
       "height": 420,
       "width": 420
      }
     },
     "output_type": "display_data"
    }
   ],
   "source": [
    "\n",
    "\n",
    "\n",
    "# plot Laplace against k\n",
    "lplc <- sapply(fit, laplace)\n",
    "aic <- sapply(fit, AIC)\n",
    "bic <- sapply(fit, BIC)\n",
    " \n",
    " plot(aic, type=\"b\", xlab=\"Number of Dirichlet Components(k)\",ylab=\"AIC\")\n",
    " plot(bic, type=\"b\", xlab=\"Number of Dirichlet Components(k)\",ylab=\"BIC\")\n",
    " plot(lplc, type=\"b\", xlab=\"Number of Dirichlet Components(k)\",ylab=\"Model Fit(Laplace)\")\n",
    " dev.off()\n",
    "\n"
   ]
  },
  {
   "cell_type": "code",
   "execution_count": 5,
   "id": "96bb30c3-b569-4642-a9c8-20b4f7fd7391",
   "metadata": {},
   "outputs": [
    {
     "data": {
      "text/plain": [
       "class: DMN \n",
       "k: 41 \n",
       "samples x taxa: 138365 x 10 \n",
       "Laplace: 1771161 BIC: 1770948 AIC: 1768735 "
      ]
     },
     "metadata": {},
     "output_type": "display_data"
    }
   ],
   "source": [
    "(best <- fit[[which.min(aic)]])"
   ]
  },
  {
   "cell_type": "code",
   "execution_count": 6,
   "id": "7429d3b6-d23f-4c2d-91d6-943748c3d70c",
   "metadata": {},
   "outputs": [],
   "source": [
    "output_params <- function(best, out_stem, basedir){\n",
    "    ################ CLUSTER SIZE ################\n",
    "    # reports the weight $\\pi$ and $\\theta$\n",
    "    # theta = \\sum alphas, higher, more concentrated cluster\n",
    "    weights = mixturewt(best)\n",
    "    write_tsv(data.frame(weights) %>% rownames_to_column(), file.path(basedir, paste0(out_stem, '.weights.tsv')))\n",
    "    \n",
    "    ################ CLUSTER LABELLING ################\n",
    "    # contribution of each taxonomic group to the Dirichlet components\n",
    "    # fitted https://rdrr.io/bioc/DirichletMultinomial/man/fitted.html\n",
    "    fitted_df = data.frame(fitted(best, assign = FALSE))%>% rownames_to_column()\n",
    "    write_tsv(fitted_df, file.path(basedir, paste0(out_stem, '.alpha.tsv')))\n",
    "    \n",
    "    # write null\n",
    "    fitted_df_null = data.frame(fitted(fit[[1]], assign = FALSE))%>% rownames_to_column()\n",
    "    names(fitted_df_null) <- c('rowname', 'single_component_weight')\n",
    "    write_tsv(fitted_df_null, file.path(basedir, paste0(out_stem, '.null.alpha.tsv')))\n",
    "    \n",
    "    # how does the model differ from a single component DMN\n",
    "    p0 <- fitted(fit[[1]], scale=TRUE) # scale by theta\n",
    "    p_best <- fitted(best, scale=TRUE)\n",
    "    colnames(p_best) <- paste(\"m\", 1:ncol(p_best), sep=\"\")\n",
    "    (meandiff <- colSums(abs(p_best - as.vector(p0)))) # the difference of each component to 1 single component (possibly the null)\n",
    "    \n",
    "    # export the component\n",
    "    mixture_df = mixture(best, assign = FALSE) # sample by component matrix\n",
    "    print(nrow(mixture_df))\n",
    "    print(nrow(count_df))\n",
    "    row.names(mixture_df) <- count_df$name\n",
    "    \n",
    "    \n",
    "    # join annotation\n",
    "    anno_df = read_tsv(annotation)\n",
    "    annotated_mixture=merge(mixture_df, anno_df, by.x='row.names', by.y='name')\n",
    "    print(nrow(annotated_mixture))\n",
    "    write_tsv(data.frame(annotated_mixture) %>% rownames_to_column(), file.path(basedir, paste0(out_stem,'.mixture_weight.tsv')))\n",
    "\n",
    "\n",
    "    return(mixture_df)\n",
    "    }"
   ]
  },
  {
   "cell_type": "code",
   "execution_count": 7,
   "id": "490b0fe3-14dd-4d39-9ec4-d6f0755fbe3c",
   "metadata": {},
   "outputs": [
    {
     "name": "stderr",
     "output_type": "stream",
     "text": [
      "\u001b[1mRows: \u001b[22m\u001b[34m5926997\u001b[39m \u001b[1mColumns: \u001b[22m\u001b[34m17\u001b[39m\n",
      "\u001b[36m──\u001b[39m \u001b[1mColumn specification\u001b[22m \u001b[36m──────────────────────────────────────────────\u001b[39m\n",
      "\u001b[1mDelimiter:\u001b[22m \"\\t\"\n",
      "\u001b[31mchr\u001b[39m (11): chrom, strand, feature_type_top, feature_types, gene_nam...\n",
      "\u001b[32mdbl\u001b[39m  (6): start, end, name, score, feature_id, feature_bin\n",
      "\n",
      "\u001b[36mℹ\u001b[39m Use `spec()` to retrieve the full column specification for this data.\n",
      "\u001b[36mℹ\u001b[39m Specify the column types or set `show_col_types = FALSE` to quiet this message.\n"
     ]
    }
   ],
   "source": [
    "anno_df = read_tsv(annotation)"
   ]
  },
  {
   "cell_type": "code",
   "execution_count": 8,
   "id": "64bac334-cf66-4239-b5d8-3424de645ac0",
   "metadata": {},
   "outputs": [
    {
     "data": {
      "text/html": [
       "138365"
      ],
      "text/latex": [
       "138365"
      ],
      "text/markdown": [
       "138365"
      ],
      "text/plain": [
       "[1] 138365"
      ]
     },
     "metadata": {},
     "output_type": "display_data"
    }
   ],
   "source": [
    "nrow(count_df)"
   ]
  },
  {
   "cell_type": "code",
   "execution_count": 9,
   "id": "caf2146a-1c2a-43ab-a4e0-5d1efd70efa2",
   "metadata": {},
   "outputs": [
    {
     "name": "stdout",
     "output_type": "stream",
     "text": [
      "[1] 138365\n",
      "[1] 138365\n"
     ]
    },
    {
     "name": "stderr",
     "output_type": "stream",
     "text": [
      "\u001b[1mRows: \u001b[22m\u001b[34m5926997\u001b[39m \u001b[1mColumns: \u001b[22m\u001b[34m17\u001b[39m\n",
      "\u001b[36m──\u001b[39m \u001b[1mColumn specification\u001b[22m \u001b[36m──────────────────────────────────────────────\u001b[39m\n",
      "\u001b[1mDelimiter:\u001b[22m \"\\t\"\n",
      "\u001b[31mchr\u001b[39m (11): chrom, strand, feature_type_top, feature_types, gene_nam...\n",
      "\u001b[32mdbl\u001b[39m  (6): start, end, name, score, feature_id, feature_bin\n",
      "\n",
      "\u001b[36mℹ\u001b[39m Use `spec()` to retrieve the full column specification for this data.\n",
      "\u001b[36mℹ\u001b[39m Specify the column types or set `show_col_types = FALSE` to quiet this message.\n"
     ]
    },
    {
     "name": "stdout",
     "output_type": "stream",
     "text": [
      "[1] 138364\n"
     ]
    }
   ],
   "source": [
    "mixture_df = output_params(fit[[1]], paste0('K562_rep6.', 1), '/tscc/nfs/home/hsher//ps-yeolab5/DMM_K_params')"
   ]
  },
  {
   "cell_type": "code",
   "execution_count": 10,
   "id": "a570309f-6028-4f34-a2b9-122d761fa694",
   "metadata": {},
   "outputs": [
    {
     "data": {
      "text/html": [
       "<table class=\"dataframe\">\n",
       "<caption>A matrix: 138365 × 1 of type dbl</caption>\n",
       "<tbody>\n",
       "\t<tr><th scope=row>1</th><td>1</td></tr>\n",
       "\t<tr><th scope=row>2</th><td>1</td></tr>\n",
       "\t<tr><th scope=row>3</th><td>1</td></tr>\n",
       "\t<tr><th scope=row>4</th><td>1</td></tr>\n",
       "\t<tr><th scope=row>5</th><td>1</td></tr>\n",
       "\t<tr><th scope=row>6</th><td>1</td></tr>\n",
       "\t<tr><th scope=row>7</th><td>1</td></tr>\n",
       "\t<tr><th scope=row>8</th><td>1</td></tr>\n",
       "\t<tr><th scope=row>9</th><td>1</td></tr>\n",
       "\t<tr><th scope=row>10</th><td>1</td></tr>\n",
       "\t<tr><th scope=row>11</th><td>1</td></tr>\n",
       "\t<tr><th scope=row>12</th><td>1</td></tr>\n",
       "\t<tr><th scope=row>13</th><td>1</td></tr>\n",
       "\t<tr><th scope=row>14</th><td>1</td></tr>\n",
       "\t<tr><th scope=row>15</th><td>1</td></tr>\n",
       "\t<tr><th scope=row>16</th><td>1</td></tr>\n",
       "\t<tr><th scope=row>17</th><td>1</td></tr>\n",
       "\t<tr><th scope=row>18</th><td>1</td></tr>\n",
       "\t<tr><th scope=row>352</th><td>1</td></tr>\n",
       "\t<tr><th scope=row>354</th><td>1</td></tr>\n",
       "\t<tr><th scope=row>355</th><td>1</td></tr>\n",
       "\t<tr><th scope=row>356</th><td>1</td></tr>\n",
       "\t<tr><th scope=row>357</th><td>1</td></tr>\n",
       "\t<tr><th scope=row>358</th><td>1</td></tr>\n",
       "\t<tr><th scope=row>359</th><td>1</td></tr>\n",
       "\t<tr><th scope=row>360</th><td>1</td></tr>\n",
       "\t<tr><th scope=row>362</th><td>1</td></tr>\n",
       "\t<tr><th scope=row>363</th><td>1</td></tr>\n",
       "\t<tr><th scope=row>372</th><td>1</td></tr>\n",
       "\t<tr><th scope=row>374</th><td>1</td></tr>\n",
       "\t<tr><th scope=row>⋮</th><td>⋮</td></tr>\n",
       "\t<tr><th scope=row>5926968</th><td>1</td></tr>\n",
       "\t<tr><th scope=row>5926969</th><td>1</td></tr>\n",
       "\t<tr><th scope=row>5926970</th><td>1</td></tr>\n",
       "\t<tr><th scope=row>5926971</th><td>1</td></tr>\n",
       "\t<tr><th scope=row>5926972</th><td>1</td></tr>\n",
       "\t<tr><th scope=row>5926973</th><td>1</td></tr>\n",
       "\t<tr><th scope=row>5926974</th><td>1</td></tr>\n",
       "\t<tr><th scope=row>5926975</th><td>1</td></tr>\n",
       "\t<tr><th scope=row>5926976</th><td>1</td></tr>\n",
       "\t<tr><th scope=row>5926977</th><td>1</td></tr>\n",
       "\t<tr><th scope=row>5926978</th><td>1</td></tr>\n",
       "\t<tr><th scope=row>5926979</th><td>1</td></tr>\n",
       "\t<tr><th scope=row>5926980</th><td>1</td></tr>\n",
       "\t<tr><th scope=row>5926981</th><td>1</td></tr>\n",
       "\t<tr><th scope=row>5926982</th><td>1</td></tr>\n",
       "\t<tr><th scope=row>5926983</th><td>1</td></tr>\n",
       "\t<tr><th scope=row>5926984</th><td>1</td></tr>\n",
       "\t<tr><th scope=row>5926985</th><td>1</td></tr>\n",
       "\t<tr><th scope=row>5926986</th><td>1</td></tr>\n",
       "\t<tr><th scope=row>5926987</th><td>1</td></tr>\n",
       "\t<tr><th scope=row>5926988</th><td>1</td></tr>\n",
       "\t<tr><th scope=row>5926989</th><td>1</td></tr>\n",
       "\t<tr><th scope=row>5926990</th><td>1</td></tr>\n",
       "\t<tr><th scope=row>5926991</th><td>1</td></tr>\n",
       "\t<tr><th scope=row>5926992</th><td>1</td></tr>\n",
       "\t<tr><th scope=row>5926993</th><td>1</td></tr>\n",
       "\t<tr><th scope=row>5926994</th><td>1</td></tr>\n",
       "\t<tr><th scope=row>5926995</th><td>1</td></tr>\n",
       "\t<tr><th scope=row>5926996</th><td>1</td></tr>\n",
       "\t<tr><th scope=row>5926997</th><td>1</td></tr>\n",
       "</tbody>\n",
       "</table>\n"
      ],
      "text/latex": [
       "A matrix: 138365 × 1 of type dbl\n",
       "\\begin{tabular}{r|l}\n",
       "\t1 & 1\\\\\n",
       "\t2 & 1\\\\\n",
       "\t3 & 1\\\\\n",
       "\t4 & 1\\\\\n",
       "\t5 & 1\\\\\n",
       "\t6 & 1\\\\\n",
       "\t7 & 1\\\\\n",
       "\t8 & 1\\\\\n",
       "\t9 & 1\\\\\n",
       "\t10 & 1\\\\\n",
       "\t11 & 1\\\\\n",
       "\t12 & 1\\\\\n",
       "\t13 & 1\\\\\n",
       "\t14 & 1\\\\\n",
       "\t15 & 1\\\\\n",
       "\t16 & 1\\\\\n",
       "\t17 & 1\\\\\n",
       "\t18 & 1\\\\\n",
       "\t352 & 1\\\\\n",
       "\t354 & 1\\\\\n",
       "\t355 & 1\\\\\n",
       "\t356 & 1\\\\\n",
       "\t357 & 1\\\\\n",
       "\t358 & 1\\\\\n",
       "\t359 & 1\\\\\n",
       "\t360 & 1\\\\\n",
       "\t362 & 1\\\\\n",
       "\t363 & 1\\\\\n",
       "\t372 & 1\\\\\n",
       "\t374 & 1\\\\\n",
       "\t⋮ & ⋮\\\\\n",
       "\t5926968 & 1\\\\\n",
       "\t5926969 & 1\\\\\n",
       "\t5926970 & 1\\\\\n",
       "\t5926971 & 1\\\\\n",
       "\t5926972 & 1\\\\\n",
       "\t5926973 & 1\\\\\n",
       "\t5926974 & 1\\\\\n",
       "\t5926975 & 1\\\\\n",
       "\t5926976 & 1\\\\\n",
       "\t5926977 & 1\\\\\n",
       "\t5926978 & 1\\\\\n",
       "\t5926979 & 1\\\\\n",
       "\t5926980 & 1\\\\\n",
       "\t5926981 & 1\\\\\n",
       "\t5926982 & 1\\\\\n",
       "\t5926983 & 1\\\\\n",
       "\t5926984 & 1\\\\\n",
       "\t5926985 & 1\\\\\n",
       "\t5926986 & 1\\\\\n",
       "\t5926987 & 1\\\\\n",
       "\t5926988 & 1\\\\\n",
       "\t5926989 & 1\\\\\n",
       "\t5926990 & 1\\\\\n",
       "\t5926991 & 1\\\\\n",
       "\t5926992 & 1\\\\\n",
       "\t5926993 & 1\\\\\n",
       "\t5926994 & 1\\\\\n",
       "\t5926995 & 1\\\\\n",
       "\t5926996 & 1\\\\\n",
       "\t5926997 & 1\\\\\n",
       "\\end{tabular}\n"
      ],
      "text/markdown": [
       "\n",
       "A matrix: 138365 × 1 of type dbl\n",
       "\n",
       "| 1 | 1 |\n",
       "| 2 | 1 |\n",
       "| 3 | 1 |\n",
       "| 4 | 1 |\n",
       "| 5 | 1 |\n",
       "| 6 | 1 |\n",
       "| 7 | 1 |\n",
       "| 8 | 1 |\n",
       "| 9 | 1 |\n",
       "| 10 | 1 |\n",
       "| 11 | 1 |\n",
       "| 12 | 1 |\n",
       "| 13 | 1 |\n",
       "| 14 | 1 |\n",
       "| 15 | 1 |\n",
       "| 16 | 1 |\n",
       "| 17 | 1 |\n",
       "| 18 | 1 |\n",
       "| 352 | 1 |\n",
       "| 354 | 1 |\n",
       "| 355 | 1 |\n",
       "| 356 | 1 |\n",
       "| 357 | 1 |\n",
       "| 358 | 1 |\n",
       "| 359 | 1 |\n",
       "| 360 | 1 |\n",
       "| 362 | 1 |\n",
       "| 363 | 1 |\n",
       "| 372 | 1 |\n",
       "| 374 | 1 |\n",
       "| ⋮ | ⋮ |\n",
       "| 5926968 | 1 |\n",
       "| 5926969 | 1 |\n",
       "| 5926970 | 1 |\n",
       "| 5926971 | 1 |\n",
       "| 5926972 | 1 |\n",
       "| 5926973 | 1 |\n",
       "| 5926974 | 1 |\n",
       "| 5926975 | 1 |\n",
       "| 5926976 | 1 |\n",
       "| 5926977 | 1 |\n",
       "| 5926978 | 1 |\n",
       "| 5926979 | 1 |\n",
       "| 5926980 | 1 |\n",
       "| 5926981 | 1 |\n",
       "| 5926982 | 1 |\n",
       "| 5926983 | 1 |\n",
       "| 5926984 | 1 |\n",
       "| 5926985 | 1 |\n",
       "| 5926986 | 1 |\n",
       "| 5926987 | 1 |\n",
       "| 5926988 | 1 |\n",
       "| 5926989 | 1 |\n",
       "| 5926990 | 1 |\n",
       "| 5926991 | 1 |\n",
       "| 5926992 | 1 |\n",
       "| 5926993 | 1 |\n",
       "| 5926994 | 1 |\n",
       "| 5926995 | 1 |\n",
       "| 5926996 | 1 |\n",
       "| 5926997 | 1 |\n",
       "\n"
      ],
      "text/plain": [
       "        [,1]\n",
       "1       1   \n",
       "2       1   \n",
       "3       1   \n",
       "4       1   \n",
       "5       1   \n",
       "6       1   \n",
       "7       1   \n",
       "8       1   \n",
       "9       1   \n",
       "10      1   \n",
       "11      1   \n",
       "12      1   \n",
       "13      1   \n",
       "14      1   \n",
       "15      1   \n",
       "16      1   \n",
       "17      1   \n",
       "18      1   \n",
       "352     1   \n",
       "354     1   \n",
       "355     1   \n",
       "356     1   \n",
       "357     1   \n",
       "358     1   \n",
       "359     1   \n",
       "360     1   \n",
       "362     1   \n",
       "363     1   \n",
       "372     1   \n",
       "374     1   \n",
       "⋮       ⋮   \n",
       "5926968 1   \n",
       "5926969 1   \n",
       "5926970 1   \n",
       "5926971 1   \n",
       "5926972 1   \n",
       "5926973 1   \n",
       "5926974 1   \n",
       "5926975 1   \n",
       "5926976 1   \n",
       "5926977 1   \n",
       "5926978 1   \n",
       "5926979 1   \n",
       "5926980 1   \n",
       "5926981 1   \n",
       "5926982 1   \n",
       "5926983 1   \n",
       "5926984 1   \n",
       "5926985 1   \n",
       "5926986 1   \n",
       "5926987 1   \n",
       "5926988 1   \n",
       "5926989 1   \n",
       "5926990 1   \n",
       "5926991 1   \n",
       "5926992 1   \n",
       "5926993 1   \n",
       "5926994 1   \n",
       "5926995 1   \n",
       "5926996 1   \n",
       "5926997 1   "
      ]
     },
     "metadata": {},
     "output_type": "display_data"
    }
   ],
   "source": [
    "mixture_df"
   ]
  },
  {
   "cell_type": "code",
   "execution_count": 11,
   "id": "21ef9f7a-f695-4f98-b833-55d783e9dfd7",
   "metadata": {},
   "outputs": [
    {
     "name": "stdout",
     "output_type": "stream",
     "text": [
      "[1] 138365\n",
      "[1] 138365\n"
     ]
    },
    {
     "name": "stderr",
     "output_type": "stream",
     "text": [
      "\u001b[1mRows: \u001b[22m\u001b[34m5926997\u001b[39m \u001b[1mColumns: \u001b[22m\u001b[34m17\u001b[39m\n",
      "\u001b[36m──\u001b[39m \u001b[1mColumn specification\u001b[22m \u001b[36m──────────────────────────────────────────────\u001b[39m\n",
      "\u001b[1mDelimiter:\u001b[22m \"\\t\"\n",
      "\u001b[31mchr\u001b[39m (11): chrom, strand, feature_type_top, feature_types, gene_nam...\n",
      "\u001b[32mdbl\u001b[39m  (6): start, end, name, score, feature_id, feature_bin\n",
      "\n",
      "\u001b[36mℹ\u001b[39m Use `spec()` to retrieve the full column specification for this data.\n",
      "\u001b[36mℹ\u001b[39m Specify the column types or set `show_col_types = FALSE` to quiet this message.\n"
     ]
    },
    {
     "name": "stdout",
     "output_type": "stream",
     "text": [
      "[1] 138364\n",
      "[1] 138365\n",
      "[1] 138365\n"
     ]
    },
    {
     "name": "stderr",
     "output_type": "stream",
     "text": [
      "\u001b[1mRows: \u001b[22m\u001b[34m5926997\u001b[39m \u001b[1mColumns: \u001b[22m\u001b[34m17\u001b[39m\n",
      "\u001b[36m──\u001b[39m \u001b[1mColumn specification\u001b[22m \u001b[36m──────────────────────────────────────────────\u001b[39m\n",
      "\u001b[1mDelimiter:\u001b[22m \"\\t\"\n",
      "\u001b[31mchr\u001b[39m (11): chrom, strand, feature_type_top, feature_types, gene_nam...\n",
      "\u001b[32mdbl\u001b[39m  (6): start, end, name, score, feature_id, feature_bin\n",
      "\n",
      "\u001b[36mℹ\u001b[39m Use `spec()` to retrieve the full column specification for this data.\n",
      "\u001b[36mℹ\u001b[39m Specify the column types or set `show_col_types = FALSE` to quiet this message.\n"
     ]
    },
    {
     "name": "stdout",
     "output_type": "stream",
     "text": [
      "[1] 138364\n",
      "[1] 138365\n",
      "[1] 138365\n"
     ]
    },
    {
     "name": "stderr",
     "output_type": "stream",
     "text": [
      "\u001b[1mRows: \u001b[22m\u001b[34m5926997\u001b[39m \u001b[1mColumns: \u001b[22m\u001b[34m17\u001b[39m\n",
      "\u001b[36m──\u001b[39m \u001b[1mColumn specification\u001b[22m \u001b[36m──────────────────────────────────────────────\u001b[39m\n",
      "\u001b[1mDelimiter:\u001b[22m \"\\t\"\n",
      "\u001b[31mchr\u001b[39m (11): chrom, strand, feature_type_top, feature_types, gene_nam...\n",
      "\u001b[32mdbl\u001b[39m  (6): start, end, name, score, feature_id, feature_bin\n",
      "\n",
      "\u001b[36mℹ\u001b[39m Use `spec()` to retrieve the full column specification for this data.\n",
      "\u001b[36mℹ\u001b[39m Specify the column types or set `show_col_types = FALSE` to quiet this message.\n"
     ]
    },
    {
     "name": "stdout",
     "output_type": "stream",
     "text": [
      "[1] 138364\n",
      "[1] 138365\n",
      "[1] 138365\n"
     ]
    },
    {
     "name": "stderr",
     "output_type": "stream",
     "text": [
      "\u001b[1mRows: \u001b[22m\u001b[34m5926997\u001b[39m \u001b[1mColumns: \u001b[22m\u001b[34m17\u001b[39m\n",
      "\u001b[36m──\u001b[39m \u001b[1mColumn specification\u001b[22m \u001b[36m──────────────────────────────────────────────\u001b[39m\n",
      "\u001b[1mDelimiter:\u001b[22m \"\\t\"\n",
      "\u001b[31mchr\u001b[39m (11): chrom, strand, feature_type_top, feature_types, gene_nam...\n",
      "\u001b[32mdbl\u001b[39m  (6): start, end, name, score, feature_id, feature_bin\n",
      "\n",
      "\u001b[36mℹ\u001b[39m Use `spec()` to retrieve the full column specification for this data.\n",
      "\u001b[36mℹ\u001b[39m Specify the column types or set `show_col_types = FALSE` to quiet this message.\n"
     ]
    },
    {
     "name": "stdout",
     "output_type": "stream",
     "text": [
      "[1] 138364\n",
      "[1] 138365\n",
      "[1] 138365\n"
     ]
    },
    {
     "name": "stderr",
     "output_type": "stream",
     "text": [
      "\u001b[1mRows: \u001b[22m\u001b[34m5926997\u001b[39m \u001b[1mColumns: \u001b[22m\u001b[34m17\u001b[39m\n",
      "\u001b[36m──\u001b[39m \u001b[1mColumn specification\u001b[22m \u001b[36m──────────────────────────────────────────────\u001b[39m\n",
      "\u001b[1mDelimiter:\u001b[22m \"\\t\"\n",
      "\u001b[31mchr\u001b[39m (11): chrom, strand, feature_type_top, feature_types, gene_nam...\n",
      "\u001b[32mdbl\u001b[39m  (6): start, end, name, score, feature_id, feature_bin\n",
      "\n",
      "\u001b[36mℹ\u001b[39m Use `spec()` to retrieve the full column specification for this data.\n",
      "\u001b[36mℹ\u001b[39m Specify the column types or set `show_col_types = FALSE` to quiet this message.\n"
     ]
    },
    {
     "name": "stdout",
     "output_type": "stream",
     "text": [
      "[1] 138364\n",
      "[1] 138365\n",
      "[1] 138365\n"
     ]
    },
    {
     "name": "stderr",
     "output_type": "stream",
     "text": [
      "\u001b[1mRows: \u001b[22m\u001b[34m5926997\u001b[39m \u001b[1mColumns: \u001b[22m\u001b[34m17\u001b[39m\n",
      "\u001b[36m──\u001b[39m \u001b[1mColumn specification\u001b[22m \u001b[36m──────────────────────────────────────────────\u001b[39m\n",
      "\u001b[1mDelimiter:\u001b[22m \"\\t\"\n",
      "\u001b[31mchr\u001b[39m (11): chrom, strand, feature_type_top, feature_types, gene_nam...\n",
      "\u001b[32mdbl\u001b[39m  (6): start, end, name, score, feature_id, feature_bin\n",
      "\n",
      "\u001b[36mℹ\u001b[39m Use `spec()` to retrieve the full column specification for this data.\n",
      "\u001b[36mℹ\u001b[39m Specify the column types or set `show_col_types = FALSE` to quiet this message.\n"
     ]
    },
    {
     "name": "stdout",
     "output_type": "stream",
     "text": [
      "[1] 138364\n",
      "[1] 138365\n",
      "[1] 138365\n"
     ]
    },
    {
     "name": "stderr",
     "output_type": "stream",
     "text": [
      "\u001b[1mRows: \u001b[22m\u001b[34m5926997\u001b[39m \u001b[1mColumns: \u001b[22m\u001b[34m17\u001b[39m\n",
      "\u001b[36m──\u001b[39m \u001b[1mColumn specification\u001b[22m \u001b[36m──────────────────────────────────────────────\u001b[39m\n",
      "\u001b[1mDelimiter:\u001b[22m \"\\t\"\n",
      "\u001b[31mchr\u001b[39m (11): chrom, strand, feature_type_top, feature_types, gene_nam...\n",
      "\u001b[32mdbl\u001b[39m  (6): start, end, name, score, feature_id, feature_bin\n",
      "\n",
      "\u001b[36mℹ\u001b[39m Use `spec()` to retrieve the full column specification for this data.\n",
      "\u001b[36mℹ\u001b[39m Specify the column types or set `show_col_types = FALSE` to quiet this message.\n"
     ]
    },
    {
     "name": "stdout",
     "output_type": "stream",
     "text": [
      "[1] 138364\n",
      "[1] 138365\n",
      "[1] 138365\n"
     ]
    },
    {
     "name": "stderr",
     "output_type": "stream",
     "text": [
      "\u001b[1mRows: \u001b[22m\u001b[34m5926997\u001b[39m \u001b[1mColumns: \u001b[22m\u001b[34m17\u001b[39m\n",
      "\u001b[36m──\u001b[39m \u001b[1mColumn specification\u001b[22m \u001b[36m──────────────────────────────────────────────\u001b[39m\n",
      "\u001b[1mDelimiter:\u001b[22m \"\\t\"\n",
      "\u001b[31mchr\u001b[39m (11): chrom, strand, feature_type_top, feature_types, gene_nam...\n",
      "\u001b[32mdbl\u001b[39m  (6): start, end, name, score, feature_id, feature_bin\n",
      "\n",
      "\u001b[36mℹ\u001b[39m Use `spec()` to retrieve the full column specification for this data.\n",
      "\u001b[36mℹ\u001b[39m Specify the column types or set `show_col_types = FALSE` to quiet this message.\n"
     ]
    },
    {
     "name": "stdout",
     "output_type": "stream",
     "text": [
      "[1] 138364\n",
      "[1] 138365\n",
      "[1] 138365\n"
     ]
    },
    {
     "name": "stderr",
     "output_type": "stream",
     "text": [
      "\u001b[1mRows: \u001b[22m\u001b[34m5926997\u001b[39m \u001b[1mColumns: \u001b[22m\u001b[34m17\u001b[39m\n",
      "\u001b[36m──\u001b[39m \u001b[1mColumn specification\u001b[22m \u001b[36m──────────────────────────────────────────────\u001b[39m\n",
      "\u001b[1mDelimiter:\u001b[22m \"\\t\"\n",
      "\u001b[31mchr\u001b[39m (11): chrom, strand, feature_type_top, feature_types, gene_nam...\n",
      "\u001b[32mdbl\u001b[39m  (6): start, end, name, score, feature_id, feature_bin\n",
      "\n",
      "\u001b[36mℹ\u001b[39m Use `spec()` to retrieve the full column specification for this data.\n",
      "\u001b[36mℹ\u001b[39m Specify the column types or set `show_col_types = FALSE` to quiet this message.\n"
     ]
    },
    {
     "name": "stdout",
     "output_type": "stream",
     "text": [
      "[1] 138364\n",
      "[1] 138365\n",
      "[1] 138365\n"
     ]
    },
    {
     "name": "stderr",
     "output_type": "stream",
     "text": [
      "\u001b[1mRows: \u001b[22m\u001b[34m5926997\u001b[39m \u001b[1mColumns: \u001b[22m\u001b[34m17\u001b[39m\n",
      "\u001b[36m──\u001b[39m \u001b[1mColumn specification\u001b[22m \u001b[36m──────────────────────────────────────────────\u001b[39m\n",
      "\u001b[1mDelimiter:\u001b[22m \"\\t\"\n",
      "\u001b[31mchr\u001b[39m (11): chrom, strand, feature_type_top, feature_types, gene_nam...\n",
      "\u001b[32mdbl\u001b[39m  (6): start, end, name, score, feature_id, feature_bin\n",
      "\n",
      "\u001b[36mℹ\u001b[39m Use `spec()` to retrieve the full column specification for this data.\n",
      "\u001b[36mℹ\u001b[39m Specify the column types or set `show_col_types = FALSE` to quiet this message.\n"
     ]
    },
    {
     "name": "stdout",
     "output_type": "stream",
     "text": [
      "[1] 138364\n"
     ]
    }
   ],
   "source": [
    "for (i in 1:length(fit)){\n",
    "    output_params(fit[[i]], paste0('K562_rep6.', i), '/tscc/nfs/home/hsher//ps-yeolab5/DMM_K_params/DMM')\n",
    "    }"
   ]
  }
 ],
 "metadata": {
  "kernelspec": {
   "display_name": "DMM",
   "language": "R",
   "name": "dmm"
  },
  "language_info": {
   "codemirror_mode": "r",
   "file_extension": ".r",
   "mimetype": "text/x-r-source",
   "name": "R",
   "pygments_lexer": "r",
   "version": "4.2.2"
  }
 },
 "nbformat": 4,
 "nbformat_minor": 5
}
