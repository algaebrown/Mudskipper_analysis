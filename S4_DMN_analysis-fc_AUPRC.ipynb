{
 "cells": [
  {
   "cell_type": "code",
   "execution_count": 1,
   "id": "0571fa21",
   "metadata": {},
   "outputs": [],
   "source": [
    "from pathlib import Path\n",
    "import pandas as pd\n",
    "import seaborn as sns\n",
    "import matplotlib.pyplot as plt\n",
    "from pybedtools import BedTool\n",
    "from sklearn.metrics import roc_curve\n",
    "from sklearn.metrics import precision_recall_curve\n",
    "from sklearn.metrics import auc\n",
    "from scipy.stats import dirichlet\n",
    "from scipy.spatial.distance import pdist, squareform\n",
    "import numpy as np\n",
    "from plot_params import *\n",
    "basedir= Path('/tscc/nfs/home/hsher/ps-yeolab5/ABC_2rep_rerun/')\n",
    "out_stem = 'K562_rep6'\n",
    "#fl='/home/hsher/scratch/K562_rep4.count.csv'"
   ]
  },
  {
   "cell_type": "code",
   "execution_count": 2,
   "id": "ceba465c",
   "metadata": {},
   "outputs": [
    {
     "data": {
      "text/plain": [
       "EIF3G         213\n",
       "ZC3H11A      4722\n",
       "PUM2         7147\n",
       "RBFOX2      12206\n",
       "DDX3        12334\n",
       "LIN28B      26668\n",
       "IGF2BP2     28834\n",
       "SF3B4       44025\n",
       "FAM120A     50622\n",
       "PRPF8      102243\n",
       "dtype: int64"
      ]
     },
     "execution_count": 2,
     "metadata": {},
     "output_type": "execute_result"
    }
   ],
   "source": [
    "ground_truth = pd.read_csv('Dan_multiplex1_K562_rep4.Dan_multiplex1_K562_rep6.reproducible_window.csv',\n",
    "                          index_col = 0)\n",
    "ground_truth_skipper = pd.read_csv('ABC_K562.skipper_reproducible_window.csv',\n",
    "                          index_col = 0)\n",
    "ground_truth_skipper.rename({'DDX3X':'DDX3'}, axis = 1, inplace = True)\n",
    "ground_truth_skipper.sum().sort_values()"
   ]
  },
  {
   "cell_type": "code",
   "execution_count": 3,
   "id": "13ff8120-476c-4848-9424-acd2d14f58a1",
   "metadata": {},
   "outputs": [],
   "source": [
    "anno = pd.read_csv('/tscc/projects/ps-yeolab4/software/skipper/1.0.0/bin/skipper/annotations/gencode.v38.annotation.k562_totalrna.gt1.tiled_partition.features.tsv.gz',\n",
    "                   sep = '\\t')"
   ]
  },
  {
   "cell_type": "code",
   "execution_count": 4,
   "id": "a0b50468-323f-400c-8736-6767dd9bdfec",
   "metadata": {},
   "outputs": [
    {
     "data": {
      "text/html": [
       "<div>\n",
       "<style scoped>\n",
       "    .dataframe tbody tr th:only-of-type {\n",
       "        vertical-align: middle;\n",
       "    }\n",
       "\n",
       "    .dataframe tbody tr th {\n",
       "        vertical-align: top;\n",
       "    }\n",
       "\n",
       "    .dataframe thead th {\n",
       "        text-align: right;\n",
       "    }\n",
       "</style>\n",
       "<table border=\"1\" class=\"dataframe\">\n",
       "  <thead>\n",
       "    <tr style=\"text-align: right;\">\n",
       "      <th></th>\n",
       "      <th>chrom</th>\n",
       "      <th>start</th>\n",
       "      <th>end</th>\n",
       "      <th>name</th>\n",
       "      <th>score</th>\n",
       "      <th>strand</th>\n",
       "      <th>feature_id</th>\n",
       "      <th>feature_bin</th>\n",
       "      <th>feature_type_top</th>\n",
       "      <th>feature_types</th>\n",
       "      <th>gene_name</th>\n",
       "      <th>gene_id</th>\n",
       "      <th>transcript_ids</th>\n",
       "      <th>gene_type_top</th>\n",
       "      <th>transcript_type_top</th>\n",
       "      <th>gene_types</th>\n",
       "      <th>transcript_types</th>\n",
       "    </tr>\n",
       "  </thead>\n",
       "  <tbody>\n",
       "    <tr>\n",
       "      <th>99999</th>\n",
       "      <td>chr1</td>\n",
       "      <td>65434317</td>\n",
       "      <td>65434416</td>\n",
       "      <td>100000</td>\n",
       "      <td>0</td>\n",
       "      <td>+</td>\n",
       "      <td>12642</td>\n",
       "      <td>25</td>\n",
       "      <td>UTR3</td>\n",
       "      <td>UTR3:EXON_MRNA:INTRON</td>\n",
       "      <td>LEPR:LEPROT</td>\n",
       "      <td>ENSG00000116678.20:ENSG00000213625.9</td>\n",
       "      <td>ENST00000371060.7:ENST00000371059.7:ENST000003...</td>\n",
       "      <td>protein_coding</td>\n",
       "      <td>protein_coding</td>\n",
       "      <td>protein_coding</td>\n",
       "      <td>protein_coding</td>\n",
       "    </tr>\n",
       "  </tbody>\n",
       "</table>\n",
       "</div>"
      ],
      "text/plain": [
       "      chrom     start       end    name  score strand  feature_id  \\\n",
       "99999  chr1  65434317  65434416  100000      0      +       12642   \n",
       "\n",
       "       feature_bin feature_type_top          feature_types    gene_name  \\\n",
       "99999           25             UTR3  UTR3:EXON_MRNA:INTRON  LEPR:LEPROT   \n",
       "\n",
       "                                    gene_id  \\\n",
       "99999  ENSG00000116678.20:ENSG00000213625.9   \n",
       "\n",
       "                                          transcript_ids   gene_type_top  \\\n",
       "99999  ENST00000371060.7:ENST00000371059.7:ENST000003...  protein_coding   \n",
       "\n",
       "      transcript_type_top      gene_types transcript_types  \n",
       "99999      protein_coding  protein_coding   protein_coding  "
      ]
     },
     "execution_count": 4,
     "metadata": {},
     "output_type": "execute_result"
    }
   ],
   "source": [
    "anno.loc[anno['name']==100000]"
   ]
  },
  {
   "cell_type": "code",
   "execution_count": 5,
   "id": "579a469b-9b32-4fe0-9ea9-6be7049f382b",
   "metadata": {
    "tags": []
   },
   "outputs": [],
   "source": [
    "\n",
    "rbp = 'PUM2'\n",
    "pbars = []\n",
    "for i in range(2,10):\n",
    "    data = pd.read_csv(f'/tscc/nfs/home/hsher/ps-yeolab5/DMM_K_params/DMM/K562_rep6.{i}.megaoutputs.tsv',\n",
    "                      sep = '\\t')\n",
    "    score = data.set_index('Row.names')[f'logLR:{out_stem}.{rbp}']\n",
    "    score.name = 5*i+1\n",
    "    pbars.append(score)\n",
    "    \n",
    "    \n",
    "pbars = pd.concat(pbars, axis = 1)"
   ]
  },
  {
   "cell_type": "code",
   "execution_count": 6,
   "id": "5ad9733b-de00-46dd-b2f3-7cd51db69da5",
   "metadata": {
    "tags": []
   },
   "outputs": [],
   "source": [
    "window_bed = BedTool('/tscc/projects/ps-yeolab4/software/skipper/1.0.0/bin/skipper/annotations/gencode.v38.annotation.k562_totalrna.gt1.tiled_partition.features.tsv.gz')\n",
    "window_df = pd.read_csv(window_bed.fn, sep = '\\t')\n",
    "\n",
    "\n",
    "pum_motif = pd.read_csv('/tscc/nfs/home/hsher/scratch/k562_window_pum2.homer.motif', sep = '\\t')\n",
    "pum_motif = pum_motif.loc[pum_motif['Motif Name']=='1-TGTATATA']\n",
    "pum_motif['windowstrand']=pum_motif['PositionID'].map(window_df.set_index('name')['strand'])\n",
    "pum_motif.dropna(inplace = True)\n",
    "pum_motif = pum_motif.loc[pum_motif['Strand']==pum_motif['windowstrand']]\n",
    "\n",
    "rbfox2_motif = pd.read_csv('/tscc/nfs/home/hsher/scratch/k562_window_rbfox2.homer.motif', sep = '\\t')\n",
    "rbfox2_motif = rbfox2_motif.loc[rbfox2_motif['Motif Name'].isin(\n",
    "    ['1-TGCATG', '2-GCATST', '3-AGCATG','8-TGCACA', '9-TGCACG']                                                            \n",
    ")\n",
    "]\n",
    "rbfox2_motif['windowstrand']=rbfox2_motif['PositionID'].map(window_df.set_index('name')['strand'])\n",
    "rbfox2_motif.dropna(inplace = True)\n",
    "rbfox2_motif = rbfox2_motif.loc[rbfox2_motif['Strand']==rbfox2_motif['windowstrand']]\n"
   ]
  },
  {
   "cell_type": "code",
   "execution_count": 7,
   "id": "d0b87ee0-324c-4293-80a3-8632dc5f51e2",
   "metadata": {
    "tags": []
   },
   "outputs": [],
   "source": [
    "def accuracy_among_topk(score, truth, k):\n",
    "    indicies = score.sort_values(ascending = False).iloc[:k].index\n",
    "    return truth.loc[indicies].mean()\n",
    "\n",
    "def plot(rbp, truth_col = 'contain_eclip'):\n",
    "    pbars = []\n",
    "    i = 9\n",
    "    cols = [1, 1.25, 1.5, 1.75, 2, 2.5, 3]\n",
    "    for fc in cols:\n",
    "        data = pd.read_csv(f'/tscc/nfs/home/hsher/ps-yeolab5/DMM_K_params/DMM/K562_rep6.{i}.{fc}.megaoutputs.tsv',\n",
    "                          sep = '\\t')\n",
    "        score = data.set_index('Row.names')[f'logLR:{out_stem}.{rbp}']\n",
    "        score.name = fc\n",
    "        pbars.append(score)\n",
    "        \n",
    "        \n",
    "    pbars = pd.concat(pbars, axis = 1)\n",
    "\n",
    "    # read BBM and raw\n",
    "    df_beta = pd.read_csv(basedir / 'beta-mixture_CC'/ f'{out_stem}.{rbp}.enriched_windows.tsv', sep = '\\t', index_col = 0)\n",
    "    df_beta_full = pd.read_csv(basedir / 'beta-mixture_CC'/ f'{out_stem}.{rbp}.window_score.tsv', sep = '\\t', index_col = 0)\n",
    "    pbars['contain_beta'] = pbars.index.isin(df_beta['name'].astype(int))\n",
    "    pbars['contain_eclip'] = pbars.index.isin(ground_truth_skipper.loc[ground_truth_skipper[rbp]].index)\n",
    "    pbars['BBM']=pbars.index.map(df_beta_full.set_index('name')['logLR'])\n",
    "\n",
    "    if rbp == 'PUM2':\n",
    "        pbars['contain_motif'] = pbars.index.isin(pum_motif['PositionID'])\n",
    "    if rbp == 'RBFOX2':\n",
    "        pbars['contain_motif'] = pbars.index.isin(rbfox2_motif['PositionID'])\n",
    "    \n",
    "    plt.rcParams['axes.prop_cycle'] = plt.cycler(color=plt.cm.tab20c.colors)\n",
    "\n",
    "    auprc = []\n",
    "    topk = []\n",
    "    f, ax = plt.subplots(1,2,figsize = (6,3))\n",
    "    \n",
    "    cols = cols +['BBM']\n",
    "    for col in cols:\n",
    "        try:\n",
    "            precision, recall, thresholds = precision_recall_curve(pbars[truth_col], \n",
    "                                                             pbars[col])\n",
    "            auprc.append(auc(recall, precision))\n",
    "    \n",
    "        except:\n",
    "            auprc.append(0)\n",
    "        #ax[0].plot(recall, precision, label = col)\n",
    "        \n",
    "        for k in [500, 1000, 5000]:\n",
    "            acc = accuracy_among_topk(pbars[col],pbars[truth_col],k)\n",
    "            topk.append([col, k, acc])\n",
    "    \n",
    "            \n",
    "    #ax[0].legend(bbox_to_anchor = (-0.5, 1))\n",
    "    sns.despine()\n",
    "    auprc = pd.Series(auprc, index = cols)\n",
    "    topk = pd.DataFrame(topk, columns = ['fc_cutoff', 'k', 'accuracy'])\n",
    "    auprc.plot.bar(ax=ax[0], color = 'Grey')\n",
    "    ax[0].set_ylabel('AUPRC')\n",
    "    ax[0].set_xlabel('FC cutoff')\n",
    "    plt.suptitle(rbp)\n",
    "    \n",
    "    pd.pivot_table(topk, index = 'fc_cutoff', columns = 'k', values = 'accuracy').T.plot.bar(ax = ax[1])\n",
    "    ax[1].set_ylabel('Top k accuracy')\n",
    "    ax[1].legend(bbox_to_anchor = (1.5,0.5))\n",
    "    sns.despine()\n",
    "    plt.tight_layout()\n",
    "\n",
    "    return auprc, topk"
   ]
  },
  {
   "cell_type": "code",
   "execution_count": 8,
   "id": "b4ebb513-12f4-4660-a54d-06a30a62eef3",
   "metadata": {},
   "outputs": [
    {
     "data": {
      "image/png": "[encoded data removed]",
      "text/plain": [
       "<Figure size 432x216 with 2 Axes>"
      ]
     },
     "metadata": {},
     "output_type": "display_data"
    },
    {
     "data": {
      "image/png": "[encoded data removed]",
      "text/plain": [
       "<Figure size 432x216 with 2 Axes>"
      ]
     },
     "metadata": {},
     "output_type": "display_data"
    },
    {
     "data": {
      "image/png": "[encoded data removed]",
      "text/plain": [
       "<Figure size 432x216 with 2 Axes>"
      ]
     },
     "metadata": {},
     "output_type": "display_data"
    },
    {
     "data": {
      "image/png": "[encoded data removed]",
      "text/plain": [
       "<Figure size 432x216 with 2 Axes>"
      ]
     },
     "metadata": {},
     "output_type": "display_data"
    }
   ],
   "source": [
    "auprc_data = []\n",
    "topk_data = []\n",
    "for rbp in ['RBFOX2', 'PUM2']:\n",
    "    auprc, topk = plot(rbp, truth_col = 'contain_eclip')\n",
    "    auprc.name = f'{rbp}:label:eCLIP'\n",
    "    topk['RBP'] = rbp\n",
    "    topk['label']='eCLIP'\n",
    "\n",
    "    auprc_data.append(auprc)\n",
    "    topk_data.append(topk)\n",
    "    plt.savefig(figdir / f'fc_DMM.{rbp}.eclip.pdf')\n",
    "for rbp in ['RBFOX2', 'PUM2']:\n",
    "    auprc, topk = plot(rbp, truth_col = 'contain_motif')\n",
    "    auprc.name = f'{rbp}:label:motif'\n",
    "    topk['RBP'] = rbp\n",
    "    topk['label']='motif'\n",
    "    auprc_data.append(auprc)\n",
    "    topk_data.append(topk)\n",
    "    plt.savefig(figdir / f'fc_DMM.{rbp}.motif.pdf')"
   ]
  },
  {
   "cell_type": "code",
   "execution_count": 9,
   "id": "7caaf26b-2c45-48e3-a49e-38416f7fbb5e",
   "metadata": {},
   "outputs": [],
   "source": [
    "auprc_data = pd.concat(auprc_data, axis = 1)\n",
    "topk_data = pd.concat(topk_data)\n",
    "topk_data.to_csv(figdir / f'k_DMM.{rbp}.topk.csv')\n",
    "auprc_data.to_csv(figdir / f'k_DMM.{rbp}.auprc.csv')"
   ]
  },
  {
   "cell_type": "code",
   "execution_count": null,
   "id": "5a532ede-adb2-4281-b378-b7a41d769621",
   "metadata": {},
   "outputs": [],
   "source": []
  }
 ],
 "metadata": {
  "kernelspec": {
   "display_name": "my_metadensity",
   "language": "python",
   "name": "my_metadensity"
  },
  "language_info": {
   "codemirror_mode": {
    "name": "ipython",
    "version": 3
   },
   "file_extension": ".py",
   "mimetype": "text/x-python",
   "name": "python",
   "nbconvert_exporter": "python",
   "pygments_lexer": "ipython3",
   "version": "3.7.12"
  }
 },
 "nbformat": 4,
 "nbformat_minor": 5
}
